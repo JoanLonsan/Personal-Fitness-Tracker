{
 "cells": [
  {
   "cell_type": "markdown",
   "id": "7135bdbe",
   "metadata": {},
   "source": [
    "# Build of personal Fitness Tracker\n",
    "\n",
    "Combining AI, data analysis and Python to explore and visualize fitness data.\n",
    "\n",
    "### Data Dictionary\n",
    "\n",
    "| Column Name | Description | Additional Context |\n",
    "|------------|-------------|-------------------|\n",
    "| `date` | The specific day of data recording | Allows tracking changes and patterns over the 185-day period |\n",
    "| `steps` | Total daily step count | The common goal of 10,000 steps serves as a reference point for daily activity level assessment |\n",
    "| `weight` | Body weight measurement (in kg) | Tracked daily to monitor body mass changes over time |\n",
    "| `resting_heart_rate` | Heart beats per minute while at complete rest | Lower values typically indicate better cardiovascular fitness |\n",
    "| `sleep_hours` | Total daily sleep duration | Includes all sleep phases; adults typically need 7-9 hours per night for optimal health |\n",
    "| `active_minutes` | Total time spent in physical activity | Encompasses all activity intensities throughout the day |\n",
    "| `total_calories_burned` | Total daily energy expenditure | Combines both resting metabolic rate and activity-based calorie burn |\n",
    "| `fat_burn_minutes` | Time in 50-69% of max heart rate zone | Lower intensity zone optimal for building base endurance and metabolizing fat |\n",
    "| `cardio_minutes` | Time in 70-84% of max heart rate zone | Moderate to high intensity zone that improves cardiovascular capacity |\n",
    "| `peak_minutes` | Time in 85%+ of max heart rate zone | Highest intensity zone, typically reached during interval training or sprints |\n",
    "| `workout_type` | Category of exercise performed | Helps analyze the distribution and effectiveness of different activities |\n",
    "| `workout_duration` | Length of exercise session in minutes | Used to analyze exercise patterns and time commitment |\n",
    "| `workout_calories` | Energy expended during workout | Specifically tracks calories burned during structured exercise sessions |\n",
    "| `workout_avg_hr` | Mean heart rate during exercise | Indicates the overall intensity of the workout session |\n",
    "| `workout_max_hr` | Highest heart rate during exercise | Shows the point of maximum exertion during the workout |"
   ]
  },
  {
   "cell_type": "code",
   "execution_count": 28,
   "id": "fa0ca918",
   "metadata": {},
   "outputs": [],
   "source": [
    "# Imports\n",
    "import pandas as pd"
   ]
  },
  {
   "cell_type": "markdown",
   "id": "10c327fe",
   "metadata": {},
   "source": [
    "## 1. Exploratory Data Analysis (EDA)"
   ]
  },
  {
   "cell_type": "code",
   "execution_count": 29,
   "id": "c7e19607",
   "metadata": {},
   "outputs": [
    {
     "data": {
      "text/html": [
       "<div>\n",
       "<style scoped>\n",
       "    .dataframe tbody tr th:only-of-type {\n",
       "        vertical-align: middle;\n",
       "    }\n",
       "\n",
       "    .dataframe tbody tr th {\n",
       "        vertical-align: top;\n",
       "    }\n",
       "\n",
       "    .dataframe thead th {\n",
       "        text-align: right;\n",
       "    }\n",
       "</style>\n",
       "<table border=\"1\" class=\"dataframe\">\n",
       "  <thead>\n",
       "    <tr style=\"text-align: right;\">\n",
       "      <th></th>\n",
       "      <th>date</th>\n",
       "      <th>weight</th>\n",
       "      <th>steps</th>\n",
       "      <th>resting_heart_rate</th>\n",
       "      <th>sleep_hours</th>\n",
       "      <th>active_minutes</th>\n",
       "      <th>total_calories_burned</th>\n",
       "      <th>workout_type</th>\n",
       "      <th>workout_duration</th>\n",
       "      <th>workout_calories</th>\n",
       "      <th>workout_avg_hr</th>\n",
       "      <th>workout_max_hr</th>\n",
       "      <th>fat_burn_minutes</th>\n",
       "      <th>cardio_minutes</th>\n",
       "      <th>peak_minutes</th>\n",
       "    </tr>\n",
       "  </thead>\n",
       "  <tbody>\n",
       "    <tr>\n",
       "      <th>0</th>\n",
       "      <td>7/1/24</td>\n",
       "      <td>75.248357</td>\n",
       "      <td>6829.0</td>\n",
       "      <td>63.68</td>\n",
       "      <td>7.03</td>\n",
       "      <td>66.0</td>\n",
       "      <td>664.0</td>\n",
       "      <td>Strength Training</td>\n",
       "      <td>68.28</td>\n",
       "      <td>641.120000</td>\n",
       "      <td>143.67</td>\n",
       "      <td>171.17</td>\n",
       "      <td>33.0</td>\n",
       "      <td>19.0</td>\n",
       "      <td>13.0</td>\n",
       "    </tr>\n",
       "    <tr>\n",
       "      <th>1</th>\n",
       "      <td>7/2/24</td>\n",
       "      <td>74.914564</td>\n",
       "      <td>7741.0</td>\n",
       "      <td>58.63</td>\n",
       "      <td>7.85</td>\n",
       "      <td>66.0</td>\n",
       "      <td>660.0</td>\n",
       "      <td>Rest</td>\n",
       "      <td>0.00</td>\n",
       "      <td>0.000000</td>\n",
       "      <td>0.00</td>\n",
       "      <td>0.00</td>\n",
       "      <td>33.0</td>\n",
       "      <td>19.0</td>\n",
       "      <td>13.0</td>\n",
       "    </tr>\n",
       "    <tr>\n",
       "      <th>2</th>\n",
       "      <td>7/3/24</td>\n",
       "      <td>75.140000</td>\n",
       "      <td>8227.0</td>\n",
       "      <td>58.47</td>\n",
       "      <td>7.53</td>\n",
       "      <td>87.0</td>\n",
       "      <td>873.0</td>\n",
       "      <td>Strength Training</td>\n",
       "      <td>34.34</td>\n",
       "      <td>366.564833</td>\n",
       "      <td>138.63</td>\n",
       "      <td>163.86</td>\n",
       "      <td>43.0</td>\n",
       "      <td>26.0</td>\n",
       "      <td>17.0</td>\n",
       "    </tr>\n",
       "    <tr>\n",
       "      <th>3</th>\n",
       "      <td>7/4/24</td>\n",
       "      <td>75.200000</td>\n",
       "      <td>13262.0</td>\n",
       "      <td>72.51</td>\n",
       "      <td>4.63</td>\n",
       "      <td>111.0</td>\n",
       "      <td>1113.0</td>\n",
       "      <td>Running</td>\n",
       "      <td>62.74</td>\n",
       "      <td>662.040000</td>\n",
       "      <td>152.04</td>\n",
       "      <td>168.87</td>\n",
       "      <td>55.0</td>\n",
       "      <td>33.0</td>\n",
       "      <td>22.0</td>\n",
       "    </tr>\n",
       "    <tr>\n",
       "      <th>4</th>\n",
       "      <td>7/5/24</td>\n",
       "      <td>75.270000</td>\n",
       "      <td>9377.0</td>\n",
       "      <td>73.32</td>\n",
       "      <td>5.38</td>\n",
       "      <td>79.0</td>\n",
       "      <td>790.0</td>\n",
       "      <td>Strength Training</td>\n",
       "      <td>77.88</td>\n",
       "      <td>677.010000</td>\n",
       "      <td>144.06</td>\n",
       "      <td>167.28</td>\n",
       "      <td>39.0</td>\n",
       "      <td>23.0</td>\n",
       "      <td>15.0</td>\n",
       "    </tr>\n",
       "  </tbody>\n",
       "</table>\n",
       "</div>"
      ],
      "text/plain": [
       "     date     weight    steps  resting_heart_rate  sleep_hours  \\\n",
       "0  7/1/24  75.248357   6829.0               63.68         7.03   \n",
       "1  7/2/24  74.914564   7741.0               58.63         7.85   \n",
       "2  7/3/24  75.140000   8227.0               58.47         7.53   \n",
       "3  7/4/24  75.200000  13262.0               72.51         4.63   \n",
       "4  7/5/24  75.270000   9377.0               73.32         5.38   \n",
       "\n",
       "   active_minutes  total_calories_burned       workout_type  workout_duration  \\\n",
       "0            66.0                  664.0  Strength Training             68.28   \n",
       "1            66.0                  660.0               Rest              0.00   \n",
       "2            87.0                  873.0  Strength Training             34.34   \n",
       "3           111.0                 1113.0            Running             62.74   \n",
       "4            79.0                  790.0  Strength Training             77.88   \n",
       "\n",
       "   workout_calories  workout_avg_hr  workout_max_hr  fat_burn_minutes  \\\n",
       "0        641.120000          143.67          171.17              33.0   \n",
       "1          0.000000            0.00            0.00              33.0   \n",
       "2        366.564833          138.63          163.86              43.0   \n",
       "3        662.040000          152.04          168.87              55.0   \n",
       "4        677.010000          144.06          167.28              39.0   \n",
       "\n",
       "   cardio_minutes  peak_minutes  \n",
       "0            19.0          13.0  \n",
       "1            19.0          13.0  \n",
       "2            26.0          17.0  \n",
       "3            33.0          22.0  \n",
       "4            23.0          15.0  "
      ]
     },
     "execution_count": 29,
     "metadata": {},
     "output_type": "execute_result"
    }
   ],
   "source": [
    "# Read the CSV file\n",
    "fitness_file = 'fitness_data.csv'\n",
    "fitness_data = pd.read_csv(fitness_file)\n",
    "\n",
    "# Display the first few rows of the DataFrame\n",
    "fitness_data.head()"
   ]
  },
  {
   "cell_type": "code",
   "execution_count": 30,
   "id": "f0951534",
   "metadata": {},
   "outputs": [
    {
     "data": {
      "text/plain": [
       "date                     0\n",
       "weight                   6\n",
       "steps                    6\n",
       "resting_heart_rate       6\n",
       "sleep_hours              6\n",
       "active_minutes           6\n",
       "total_calories_burned    6\n",
       "workout_type             6\n",
       "workout_duration         6\n",
       "workout_calories         6\n",
       "workout_avg_hr           6\n",
       "workout_max_hr           6\n",
       "fat_burn_minutes         6\n",
       "cardio_minutes           6\n",
       "peak_minutes             6\n",
       "dtype: int64"
      ]
     },
     "execution_count": 30,
     "metadata": {},
     "output_type": "execute_result"
    }
   ],
   "source": [
    "# Check for missing values in the DataFrame\n",
    "missing_values = fitness_data.isnull().sum()\n",
    "missing_values"
   ]
  },
  {
   "cell_type": "code",
   "execution_count": 31,
   "id": "f2a7cf2d",
   "metadata": {},
   "outputs": [
    {
     "data": {
      "text/html": [
       "<div>\n",
       "<style scoped>\n",
       "    .dataframe tbody tr th:only-of-type {\n",
       "        vertical-align: middle;\n",
       "    }\n",
       "\n",
       "    .dataframe tbody tr th {\n",
       "        vertical-align: top;\n",
       "    }\n",
       "\n",
       "    .dataframe thead th {\n",
       "        text-align: right;\n",
       "    }\n",
       "</style>\n",
       "<table border=\"1\" class=\"dataframe\">\n",
       "  <thead>\n",
       "    <tr style=\"text-align: right;\">\n",
       "      <th></th>\n",
       "      <th>date</th>\n",
       "      <th>weight</th>\n",
       "      <th>steps</th>\n",
       "      <th>resting_heart_rate</th>\n",
       "      <th>sleep_hours</th>\n",
       "      <th>active_minutes</th>\n",
       "      <th>total_calories_burned</th>\n",
       "      <th>workout_type</th>\n",
       "      <th>workout_duration</th>\n",
       "      <th>workout_calories</th>\n",
       "      <th>workout_avg_hr</th>\n",
       "      <th>workout_max_hr</th>\n",
       "      <th>fat_burn_minutes</th>\n",
       "      <th>cardio_minutes</th>\n",
       "      <th>peak_minutes</th>\n",
       "    </tr>\n",
       "  </thead>\n",
       "  <tbody>\n",
       "    <tr>\n",
       "      <th>150</th>\n",
       "      <td>11/28/24</td>\n",
       "      <td>NaN</td>\n",
       "      <td>NaN</td>\n",
       "      <td>NaN</td>\n",
       "      <td>NaN</td>\n",
       "      <td>NaN</td>\n",
       "      <td>NaN</td>\n",
       "      <td>NaN</td>\n",
       "      <td>NaN</td>\n",
       "      <td>NaN</td>\n",
       "      <td>NaN</td>\n",
       "      <td>NaN</td>\n",
       "      <td>NaN</td>\n",
       "      <td>NaN</td>\n",
       "      <td>NaN</td>\n",
       "    </tr>\n",
       "    <tr>\n",
       "      <th>151</th>\n",
       "      <td>11/29/24</td>\n",
       "      <td>NaN</td>\n",
       "      <td>NaN</td>\n",
       "      <td>NaN</td>\n",
       "      <td>NaN</td>\n",
       "      <td>NaN</td>\n",
       "      <td>NaN</td>\n",
       "      <td>NaN</td>\n",
       "      <td>NaN</td>\n",
       "      <td>NaN</td>\n",
       "      <td>NaN</td>\n",
       "      <td>NaN</td>\n",
       "      <td>NaN</td>\n",
       "      <td>NaN</td>\n",
       "      <td>NaN</td>\n",
       "    </tr>\n",
       "    <tr>\n",
       "      <th>152</th>\n",
       "      <td>11/30/24</td>\n",
       "      <td>NaN</td>\n",
       "      <td>NaN</td>\n",
       "      <td>NaN</td>\n",
       "      <td>NaN</td>\n",
       "      <td>NaN</td>\n",
       "      <td>NaN</td>\n",
       "      <td>NaN</td>\n",
       "      <td>NaN</td>\n",
       "      <td>NaN</td>\n",
       "      <td>NaN</td>\n",
       "      <td>NaN</td>\n",
       "      <td>NaN</td>\n",
       "      <td>NaN</td>\n",
       "      <td>NaN</td>\n",
       "    </tr>\n",
       "    <tr>\n",
       "      <th>176</th>\n",
       "      <td>12/24/24</td>\n",
       "      <td>NaN</td>\n",
       "      <td>NaN</td>\n",
       "      <td>NaN</td>\n",
       "      <td>NaN</td>\n",
       "      <td>NaN</td>\n",
       "      <td>NaN</td>\n",
       "      <td>NaN</td>\n",
       "      <td>NaN</td>\n",
       "      <td>NaN</td>\n",
       "      <td>NaN</td>\n",
       "      <td>NaN</td>\n",
       "      <td>NaN</td>\n",
       "      <td>NaN</td>\n",
       "      <td>NaN</td>\n",
       "    </tr>\n",
       "    <tr>\n",
       "      <th>177</th>\n",
       "      <td>12/25/24</td>\n",
       "      <td>NaN</td>\n",
       "      <td>NaN</td>\n",
       "      <td>NaN</td>\n",
       "      <td>NaN</td>\n",
       "      <td>NaN</td>\n",
       "      <td>NaN</td>\n",
       "      <td>NaN</td>\n",
       "      <td>NaN</td>\n",
       "      <td>NaN</td>\n",
       "      <td>NaN</td>\n",
       "      <td>NaN</td>\n",
       "      <td>NaN</td>\n",
       "      <td>NaN</td>\n",
       "      <td>NaN</td>\n",
       "    </tr>\n",
       "    <tr>\n",
       "      <th>178</th>\n",
       "      <td>12/26/24</td>\n",
       "      <td>NaN</td>\n",
       "      <td>NaN</td>\n",
       "      <td>NaN</td>\n",
       "      <td>NaN</td>\n",
       "      <td>NaN</td>\n",
       "      <td>NaN</td>\n",
       "      <td>NaN</td>\n",
       "      <td>NaN</td>\n",
       "      <td>NaN</td>\n",
       "      <td>NaN</td>\n",
       "      <td>NaN</td>\n",
       "      <td>NaN</td>\n",
       "      <td>NaN</td>\n",
       "      <td>NaN</td>\n",
       "    </tr>\n",
       "  </tbody>\n",
       "</table>\n",
       "</div>"
      ],
      "text/plain": [
       "         date  weight  steps  resting_heart_rate  sleep_hours  active_minutes  \\\n",
       "150  11/28/24     NaN    NaN                 NaN          NaN             NaN   \n",
       "151  11/29/24     NaN    NaN                 NaN          NaN             NaN   \n",
       "152  11/30/24     NaN    NaN                 NaN          NaN             NaN   \n",
       "176  12/24/24     NaN    NaN                 NaN          NaN             NaN   \n",
       "177  12/25/24     NaN    NaN                 NaN          NaN             NaN   \n",
       "178  12/26/24     NaN    NaN                 NaN          NaN             NaN   \n",
       "\n",
       "     total_calories_burned workout_type  workout_duration  workout_calories  \\\n",
       "150                    NaN          NaN               NaN               NaN   \n",
       "151                    NaN          NaN               NaN               NaN   \n",
       "152                    NaN          NaN               NaN               NaN   \n",
       "176                    NaN          NaN               NaN               NaN   \n",
       "177                    NaN          NaN               NaN               NaN   \n",
       "178                    NaN          NaN               NaN               NaN   \n",
       "\n",
       "     workout_avg_hr  workout_max_hr  fat_burn_minutes  cardio_minutes  \\\n",
       "150             NaN             NaN               NaN             NaN   \n",
       "151             NaN             NaN               NaN             NaN   \n",
       "152             NaN             NaN               NaN             NaN   \n",
       "176             NaN             NaN               NaN             NaN   \n",
       "177             NaN             NaN               NaN             NaN   \n",
       "178             NaN             NaN               NaN             NaN   \n",
       "\n",
       "     peak_minutes  \n",
       "150           NaN  \n",
       "151           NaN  \n",
       "152           NaN  \n",
       "176           NaN  \n",
       "177           NaN  \n",
       "178           NaN  "
      ]
     },
     "execution_count": 31,
     "metadata": {},
     "output_type": "execute_result"
    }
   ],
   "source": [
    "# Show rows with missing values\n",
    "rows_with_missing_values = fitness_data[fitness_data.isnull().any(axis=1)]\n",
    "rows_with_missing_values"
   ]
  },
  {
   "cell_type": "code",
   "execution_count": 32,
   "id": "41837e86",
   "metadata": {},
   "outputs": [
    {
     "data": {
      "text/html": [
       "<div>\n",
       "<style scoped>\n",
       "    .dataframe tbody tr th:only-of-type {\n",
       "        vertical-align: middle;\n",
       "    }\n",
       "\n",
       "    .dataframe tbody tr th {\n",
       "        vertical-align: top;\n",
       "    }\n",
       "\n",
       "    .dataframe thead th {\n",
       "        text-align: right;\n",
       "    }\n",
       "</style>\n",
       "<table border=\"1\" class=\"dataframe\">\n",
       "  <thead>\n",
       "    <tr style=\"text-align: right;\">\n",
       "      <th></th>\n",
       "      <th>weight</th>\n",
       "      <th>steps</th>\n",
       "      <th>resting_heart_rate</th>\n",
       "      <th>sleep_hours</th>\n",
       "      <th>active_minutes</th>\n",
       "      <th>total_calories_burned</th>\n",
       "      <th>workout_duration</th>\n",
       "      <th>workout_calories</th>\n",
       "      <th>workout_avg_hr</th>\n",
       "      <th>workout_max_hr</th>\n",
       "      <th>fat_burn_minutes</th>\n",
       "      <th>cardio_minutes</th>\n",
       "      <th>peak_minutes</th>\n",
       "    </tr>\n",
       "  </thead>\n",
       "  <tbody>\n",
       "    <tr>\n",
       "      <th>count</th>\n",
       "      <td>179.000000</td>\n",
       "      <td>179.000000</td>\n",
       "      <td>179.000000</td>\n",
       "      <td>179.000000</td>\n",
       "      <td>179.000000</td>\n",
       "      <td>179.000000</td>\n",
       "      <td>179.000000</td>\n",
       "      <td>179.000000</td>\n",
       "      <td>179.000000</td>\n",
       "      <td>179.000000</td>\n",
       "      <td>179.000000</td>\n",
       "      <td>179.000000</td>\n",
       "      <td>179.000000</td>\n",
       "    </tr>\n",
       "    <tr>\n",
       "      <th>mean</th>\n",
       "      <td>74.838842</td>\n",
       "      <td>8476.927374</td>\n",
       "      <td>64.926538</td>\n",
       "      <td>7.511456</td>\n",
       "      <td>85.128492</td>\n",
       "      <td>853.396648</td>\n",
       "      <td>38.227039</td>\n",
       "      <td>384.143224</td>\n",
       "      <td>129.950615</td>\n",
       "      <td>148.408547</td>\n",
       "      <td>42.284916</td>\n",
       "      <td>25.100559</td>\n",
       "      <td>16.636872</td>\n",
       "    </tr>\n",
       "    <tr>\n",
       "      <th>std</th>\n",
       "      <td>1.817232</td>\n",
       "      <td>2350.241475</td>\n",
       "      <td>4.765610</td>\n",
       "      <td>1.061339</td>\n",
       "      <td>22.242287</td>\n",
       "      <td>222.456798</td>\n",
       "      <td>19.778319</td>\n",
       "      <td>202.061761</td>\n",
       "      <td>37.688990</td>\n",
       "      <td>42.916258</td>\n",
       "      <td>11.133124</td>\n",
       "      <td>6.703257</td>\n",
       "      <td>4.442768</td>\n",
       "    </tr>\n",
       "    <tr>\n",
       "      <th>min</th>\n",
       "      <td>71.110000</td>\n",
       "      <td>3207.000000</td>\n",
       "      <td>50.380000</td>\n",
       "      <td>3.170000</td>\n",
       "      <td>30.000000</td>\n",
       "      <td>303.000000</td>\n",
       "      <td>0.000000</td>\n",
       "      <td>0.000000</td>\n",
       "      <td>0.000000</td>\n",
       "      <td>0.000000</td>\n",
       "      <td>15.000000</td>\n",
       "      <td>9.000000</td>\n",
       "      <td>6.000000</td>\n",
       "    </tr>\n",
       "    <tr>\n",
       "      <th>25%</th>\n",
       "      <td>73.130000</td>\n",
       "      <td>6823.000000</td>\n",
       "      <td>61.755000</td>\n",
       "      <td>6.995000</td>\n",
       "      <td>71.000000</td>\n",
       "      <td>711.500000</td>\n",
       "      <td>26.810000</td>\n",
       "      <td>262.480000</td>\n",
       "      <td>130.790000</td>\n",
       "      <td>148.850000</td>\n",
       "      <td>35.000000</td>\n",
       "      <td>21.000000</td>\n",
       "      <td>14.000000</td>\n",
       "    </tr>\n",
       "    <tr>\n",
       "      <th>50%</th>\n",
       "      <td>75.269587</td>\n",
       "      <td>8524.000000</td>\n",
       "      <td>64.710000</td>\n",
       "      <td>7.590000</td>\n",
       "      <td>84.000000</td>\n",
       "      <td>841.000000</td>\n",
       "      <td>34.340000</td>\n",
       "      <td>350.910000</td>\n",
       "      <td>140.420000</td>\n",
       "      <td>159.560000</td>\n",
       "      <td>42.000000</td>\n",
       "      <td>25.000000</td>\n",
       "      <td>16.000000</td>\n",
       "    </tr>\n",
       "    <tr>\n",
       "      <th>75%</th>\n",
       "      <td>76.530000</td>\n",
       "      <td>9704.500000</td>\n",
       "      <td>67.610000</td>\n",
       "      <td>8.055000</td>\n",
       "      <td>98.500000</td>\n",
       "      <td>988.000000</td>\n",
       "      <td>46.850000</td>\n",
       "      <td>493.370000</td>\n",
       "      <td>146.915000</td>\n",
       "      <td>168.080000</td>\n",
       "      <td>49.000000</td>\n",
       "      <td>29.000000</td>\n",
       "      <td>19.000000</td>\n",
       "    </tr>\n",
       "    <tr>\n",
       "      <th>max</th>\n",
       "      <td>78.170000</td>\n",
       "      <td>15724.000000</td>\n",
       "      <td>80.990000</td>\n",
       "      <td>9.780000</td>\n",
       "      <td>157.000000</td>\n",
       "      <td>1573.000000</td>\n",
       "      <td>94.290000</td>\n",
       "      <td>1072.200000</td>\n",
       "      <td>160.240000</td>\n",
       "      <td>187.550000</td>\n",
       "      <td>78.000000</td>\n",
       "      <td>47.000000</td>\n",
       "      <td>31.000000</td>\n",
       "    </tr>\n",
       "  </tbody>\n",
       "</table>\n",
       "</div>"
      ],
      "text/plain": [
       "           weight         steps  resting_heart_rate  sleep_hours  \\\n",
       "count  179.000000    179.000000          179.000000   179.000000   \n",
       "mean    74.838842   8476.927374           64.926538     7.511456   \n",
       "std      1.817232   2350.241475            4.765610     1.061339   \n",
       "min     71.110000   3207.000000           50.380000     3.170000   \n",
       "25%     73.130000   6823.000000           61.755000     6.995000   \n",
       "50%     75.269587   8524.000000           64.710000     7.590000   \n",
       "75%     76.530000   9704.500000           67.610000     8.055000   \n",
       "max     78.170000  15724.000000           80.990000     9.780000   \n",
       "\n",
       "       active_minutes  total_calories_burned  workout_duration  \\\n",
       "count      179.000000             179.000000        179.000000   \n",
       "mean        85.128492             853.396648         38.227039   \n",
       "std         22.242287             222.456798         19.778319   \n",
       "min         30.000000             303.000000          0.000000   \n",
       "25%         71.000000             711.500000         26.810000   \n",
       "50%         84.000000             841.000000         34.340000   \n",
       "75%         98.500000             988.000000         46.850000   \n",
       "max        157.000000            1573.000000         94.290000   \n",
       "\n",
       "       workout_calories  workout_avg_hr  workout_max_hr  fat_burn_minutes  \\\n",
       "count        179.000000      179.000000      179.000000        179.000000   \n",
       "mean         384.143224      129.950615      148.408547         42.284916   \n",
       "std          202.061761       37.688990       42.916258         11.133124   \n",
       "min            0.000000        0.000000        0.000000         15.000000   \n",
       "25%          262.480000      130.790000      148.850000         35.000000   \n",
       "50%          350.910000      140.420000      159.560000         42.000000   \n",
       "75%          493.370000      146.915000      168.080000         49.000000   \n",
       "max         1072.200000      160.240000      187.550000         78.000000   \n",
       "\n",
       "       cardio_minutes  peak_minutes  \n",
       "count      179.000000    179.000000  \n",
       "mean        25.100559     16.636872  \n",
       "std          6.703257      4.442768  \n",
       "min          9.000000      6.000000  \n",
       "25%         21.000000     14.000000  \n",
       "50%         25.000000     16.000000  \n",
       "75%         29.000000     19.000000  \n",
       "max         47.000000     31.000000  "
      ]
     },
     "execution_count": 32,
     "metadata": {},
     "output_type": "execute_result"
    }
   ],
   "source": [
    "# Calculate summary statistics of the DataFrame\n",
    "summary_statistics = fitness_data.describe()\n",
    "summary_statistics"
   ]
  },
  {
   "cell_type": "code",
   "execution_count": 33,
   "id": "df7a5a94",
   "metadata": {},
   "outputs": [
    {
     "data": {
      "text/plain": [
       "date                      object\n",
       "weight                   float64\n",
       "steps                    float64\n",
       "resting_heart_rate       float64\n",
       "sleep_hours              float64\n",
       "active_minutes           float64\n",
       "total_calories_burned    float64\n",
       "workout_type              object\n",
       "workout_duration         float64\n",
       "workout_calories         float64\n",
       "workout_avg_hr           float64\n",
       "workout_max_hr           float64\n",
       "fat_burn_minutes         float64\n",
       "cardio_minutes           float64\n",
       "peak_minutes             float64\n",
       "dtype: object"
      ]
     },
     "execution_count": 33,
     "metadata": {},
     "output_type": "execute_result"
    }
   ],
   "source": [
    "# Datatype of each column\n",
    "data_types = fitness_data.dtypes\n",
    "data_types"
   ]
  },
  {
   "cell_type": "code",
   "execution_count": 34,
   "id": "470ce980",
   "metadata": {},
   "outputs": [
    {
     "name": "stderr",
     "output_type": "stream",
     "text": [
      "C:\\Users\\User\\AppData\\Local\\Temp\\ipykernel_4536\\2820394376.py:2: UserWarning:\n",
      "\n",
      "Could not infer format, so each element will be parsed individually, falling back to `dateutil`. To ensure parsing is consistent and as-expected, please specify a format.\n",
      "\n"
     ]
    },
    {
     "data": {
      "text/plain": [
       "date                     datetime64[ns]\n",
       "weight                          float64\n",
       "steps                           float64\n",
       "resting_heart_rate              float64\n",
       "sleep_hours                     float64\n",
       "active_minutes                  float64\n",
       "total_calories_burned           float64\n",
       "workout_type                     object\n",
       "workout_duration                float64\n",
       "workout_calories                float64\n",
       "workout_avg_hr                  float64\n",
       "workout_max_hr                  float64\n",
       "fat_burn_minutes                float64\n",
       "cardio_minutes                  float64\n",
       "peak_minutes                    float64\n",
       "dtype: object"
      ]
     },
     "execution_count": 34,
     "metadata": {},
     "output_type": "execute_result"
    }
   ],
   "source": [
    "# Date to datetime conversion\n",
    "fitness_data['date'] = pd.to_datetime(fitness_data['date'])\n",
    "# Check the conversion\n",
    "fitness_data.dtypes"
   ]
  },
  {
   "cell_type": "markdown",
   "id": "2e94eb6d",
   "metadata": {},
   "source": [
    "## 2. Creating the New Columns Needed"
   ]
  },
  {
   "cell_type": "code",
   "execution_count": 35,
   "id": "f218f175",
   "metadata": {},
   "outputs": [],
   "source": [
    "# Rename columns to have more descriptive names\n",
    "fitness_data.rename(\n",
    "    columns=\n",
    "    {'weight': 'weight_kg',\n",
    "    'workout_duration': 'workout_duration_minutes'},\n",
    "    inplace=True)"
   ]
  },
  {
   "cell_type": "code",
   "execution_count": 36,
   "id": "bb4a2afb",
   "metadata": {},
   "outputs": [],
   "source": [
    "# Add a new column 'weight_lbs' converting weight from kilograms to pounds (1 kg = 2.20462 lbs)\n",
    "fitness_data['weight_lbs'] = fitness_data['weight_kg'] * 2.20462"
   ]
  },
  {
   "cell_type": "code",
   "execution_count": 37,
   "id": "2b659722",
   "metadata": {},
   "outputs": [
    {
     "data": {
      "text/html": [
       "<div>\n",
       "<style scoped>\n",
       "    .dataframe tbody tr th:only-of-type {\n",
       "        vertical-align: middle;\n",
       "    }\n",
       "\n",
       "    .dataframe tbody tr th {\n",
       "        vertical-align: top;\n",
       "    }\n",
       "\n",
       "    .dataframe thead th {\n",
       "        text-align: right;\n",
       "    }\n",
       "</style>\n",
       "<table border=\"1\" class=\"dataframe\">\n",
       "  <thead>\n",
       "    <tr style=\"text-align: right;\">\n",
       "      <th></th>\n",
       "      <th>date</th>\n",
       "      <th>weight_kg</th>\n",
       "      <th>steps</th>\n",
       "      <th>resting_heart_rate</th>\n",
       "      <th>sleep_hours</th>\n",
       "      <th>active_minutes</th>\n",
       "      <th>total_calories_burned</th>\n",
       "      <th>workout_type</th>\n",
       "      <th>workout_duration_minutes</th>\n",
       "      <th>workout_calories</th>\n",
       "      <th>workout_avg_hr</th>\n",
       "      <th>workout_max_hr</th>\n",
       "      <th>fat_burn_minutes</th>\n",
       "      <th>cardio_minutes</th>\n",
       "      <th>peak_minutes</th>\n",
       "      <th>weight_lbs</th>\n",
       "      <th>day_of_week</th>\n",
       "      <th>weekend</th>\n",
       "    </tr>\n",
       "  </thead>\n",
       "  <tbody>\n",
       "    <tr>\n",
       "      <th>0</th>\n",
       "      <td>2024-07-01</td>\n",
       "      <td>75.248357</td>\n",
       "      <td>6829.0</td>\n",
       "      <td>63.68</td>\n",
       "      <td>7.03</td>\n",
       "      <td>66.0</td>\n",
       "      <td>664.0</td>\n",
       "      <td>Strength Training</td>\n",
       "      <td>68.28</td>\n",
       "      <td>641.120000</td>\n",
       "      <td>143.67</td>\n",
       "      <td>171.17</td>\n",
       "      <td>33.0</td>\n",
       "      <td>19.0</td>\n",
       "      <td>13.0</td>\n",
       "      <td>165.894033</td>\n",
       "      <td>Monday</td>\n",
       "      <td>False</td>\n",
       "    </tr>\n",
       "    <tr>\n",
       "      <th>1</th>\n",
       "      <td>2024-07-02</td>\n",
       "      <td>74.914564</td>\n",
       "      <td>7741.0</td>\n",
       "      <td>58.63</td>\n",
       "      <td>7.85</td>\n",
       "      <td>66.0</td>\n",
       "      <td>660.0</td>\n",
       "      <td>Rest</td>\n",
       "      <td>0.00</td>\n",
       "      <td>0.000000</td>\n",
       "      <td>0.00</td>\n",
       "      <td>0.00</td>\n",
       "      <td>33.0</td>\n",
       "      <td>19.0</td>\n",
       "      <td>13.0</td>\n",
       "      <td>165.158145</td>\n",
       "      <td>Tuesday</td>\n",
       "      <td>False</td>\n",
       "    </tr>\n",
       "    <tr>\n",
       "      <th>2</th>\n",
       "      <td>2024-07-03</td>\n",
       "      <td>75.140000</td>\n",
       "      <td>8227.0</td>\n",
       "      <td>58.47</td>\n",
       "      <td>7.53</td>\n",
       "      <td>87.0</td>\n",
       "      <td>873.0</td>\n",
       "      <td>Strength Training</td>\n",
       "      <td>34.34</td>\n",
       "      <td>366.564833</td>\n",
       "      <td>138.63</td>\n",
       "      <td>163.86</td>\n",
       "      <td>43.0</td>\n",
       "      <td>26.0</td>\n",
       "      <td>17.0</td>\n",
       "      <td>165.655147</td>\n",
       "      <td>Wednesday</td>\n",
       "      <td>False</td>\n",
       "    </tr>\n",
       "    <tr>\n",
       "      <th>3</th>\n",
       "      <td>2024-07-04</td>\n",
       "      <td>75.200000</td>\n",
       "      <td>13262.0</td>\n",
       "      <td>72.51</td>\n",
       "      <td>4.63</td>\n",
       "      <td>111.0</td>\n",
       "      <td>1113.0</td>\n",
       "      <td>Running</td>\n",
       "      <td>62.74</td>\n",
       "      <td>662.040000</td>\n",
       "      <td>152.04</td>\n",
       "      <td>168.87</td>\n",
       "      <td>55.0</td>\n",
       "      <td>33.0</td>\n",
       "      <td>22.0</td>\n",
       "      <td>165.787424</td>\n",
       "      <td>Thursday</td>\n",
       "      <td>False</td>\n",
       "    </tr>\n",
       "    <tr>\n",
       "      <th>4</th>\n",
       "      <td>2024-07-05</td>\n",
       "      <td>75.270000</td>\n",
       "      <td>9377.0</td>\n",
       "      <td>73.32</td>\n",
       "      <td>5.38</td>\n",
       "      <td>79.0</td>\n",
       "      <td>790.0</td>\n",
       "      <td>Strength Training</td>\n",
       "      <td>77.88</td>\n",
       "      <td>677.010000</td>\n",
       "      <td>144.06</td>\n",
       "      <td>167.28</td>\n",
       "      <td>39.0</td>\n",
       "      <td>23.0</td>\n",
       "      <td>15.0</td>\n",
       "      <td>165.941747</td>\n",
       "      <td>Friday</td>\n",
       "      <td>False</td>\n",
       "    </tr>\n",
       "    <tr>\n",
       "      <th>...</th>\n",
       "      <td>...</td>\n",
       "      <td>...</td>\n",
       "      <td>...</td>\n",
       "      <td>...</td>\n",
       "      <td>...</td>\n",
       "      <td>...</td>\n",
       "      <td>...</td>\n",
       "      <td>...</td>\n",
       "      <td>...</td>\n",
       "      <td>...</td>\n",
       "      <td>...</td>\n",
       "      <td>...</td>\n",
       "      <td>...</td>\n",
       "      <td>...</td>\n",
       "      <td>...</td>\n",
       "      <td>...</td>\n",
       "      <td>...</td>\n",
       "      <td>...</td>\n",
       "    </tr>\n",
       "    <tr>\n",
       "      <th>180</th>\n",
       "      <td>2024-12-28</td>\n",
       "      <td>77.690000</td>\n",
       "      <td>5883.0</td>\n",
       "      <td>62.33</td>\n",
       "      <td>9.78</td>\n",
       "      <td>71.0</td>\n",
       "      <td>712.0</td>\n",
       "      <td>Strength Training</td>\n",
       "      <td>94.29</td>\n",
       "      <td>1072.200000</td>\n",
       "      <td>131.24</td>\n",
       "      <td>154.21</td>\n",
       "      <td>35.0</td>\n",
       "      <td>21.0</td>\n",
       "      <td>14.0</td>\n",
       "      <td>171.276928</td>\n",
       "      <td>Saturday</td>\n",
       "      <td>True</td>\n",
       "    </tr>\n",
       "    <tr>\n",
       "      <th>181</th>\n",
       "      <td>2024-12-29</td>\n",
       "      <td>77.610000</td>\n",
       "      <td>8639.0</td>\n",
       "      <td>66.12</td>\n",
       "      <td>6.55</td>\n",
       "      <td>87.0</td>\n",
       "      <td>874.0</td>\n",
       "      <td>Running</td>\n",
       "      <td>41.47</td>\n",
       "      <td>419.240000</td>\n",
       "      <td>139.88</td>\n",
       "      <td>157.09</td>\n",
       "      <td>43.0</td>\n",
       "      <td>26.0</td>\n",
       "      <td>17.0</td>\n",
       "      <td>171.100558</td>\n",
       "      <td>Sunday</td>\n",
       "      <td>True</td>\n",
       "    </tr>\n",
       "    <tr>\n",
       "      <th>182</th>\n",
       "      <td>2024-12-30</td>\n",
       "      <td>77.490000</td>\n",
       "      <td>8587.0</td>\n",
       "      <td>61.23</td>\n",
       "      <td>8.02</td>\n",
       "      <td>87.0</td>\n",
       "      <td>874.0</td>\n",
       "      <td>Rest</td>\n",
       "      <td>0.00</td>\n",
       "      <td>0.000000</td>\n",
       "      <td>0.00</td>\n",
       "      <td>0.00</td>\n",
       "      <td>43.0</td>\n",
       "      <td>26.0</td>\n",
       "      <td>17.0</td>\n",
       "      <td>170.836004</td>\n",
       "      <td>Monday</td>\n",
       "      <td>False</td>\n",
       "    </tr>\n",
       "    <tr>\n",
       "      <th>183</th>\n",
       "      <td>2024-12-31</td>\n",
       "      <td>77.550000</td>\n",
       "      <td>10408.0</td>\n",
       "      <td>59.33</td>\n",
       "      <td>4.57</td>\n",
       "      <td>90.0</td>\n",
       "      <td>900.0</td>\n",
       "      <td>HIIT</td>\n",
       "      <td>26.73</td>\n",
       "      <td>267.900000</td>\n",
       "      <td>133.59</td>\n",
       "      <td>146.81</td>\n",
       "      <td>45.0</td>\n",
       "      <td>27.0</td>\n",
       "      <td>18.0</td>\n",
       "      <td>170.968281</td>\n",
       "      <td>Tuesday</td>\n",
       "      <td>False</td>\n",
       "    </tr>\n",
       "    <tr>\n",
       "      <th>184</th>\n",
       "      <td>2025-01-01</td>\n",
       "      <td>78.170000</td>\n",
       "      <td>3257.0</td>\n",
       "      <td>63.24</td>\n",
       "      <td>3.17</td>\n",
       "      <td>78.0</td>\n",
       "      <td>784.0</td>\n",
       "      <td>Rest</td>\n",
       "      <td>0.00</td>\n",
       "      <td>0.000000</td>\n",
       "      <td>0.00</td>\n",
       "      <td>0.00</td>\n",
       "      <td>39.0</td>\n",
       "      <td>23.0</td>\n",
       "      <td>15.0</td>\n",
       "      <td>172.335145</td>\n",
       "      <td>Wednesday</td>\n",
       "      <td>False</td>\n",
       "    </tr>\n",
       "  </tbody>\n",
       "</table>\n",
       "<p>185 rows × 18 columns</p>\n",
       "</div>"
      ],
      "text/plain": [
       "          date  weight_kg    steps  resting_heart_rate  sleep_hours  \\\n",
       "0   2024-07-01  75.248357   6829.0               63.68         7.03   \n",
       "1   2024-07-02  74.914564   7741.0               58.63         7.85   \n",
       "2   2024-07-03  75.140000   8227.0               58.47         7.53   \n",
       "3   2024-07-04  75.200000  13262.0               72.51         4.63   \n",
       "4   2024-07-05  75.270000   9377.0               73.32         5.38   \n",
       "..         ...        ...      ...                 ...          ...   \n",
       "180 2024-12-28  77.690000   5883.0               62.33         9.78   \n",
       "181 2024-12-29  77.610000   8639.0               66.12         6.55   \n",
       "182 2024-12-30  77.490000   8587.0               61.23         8.02   \n",
       "183 2024-12-31  77.550000  10408.0               59.33         4.57   \n",
       "184 2025-01-01  78.170000   3257.0               63.24         3.17   \n",
       "\n",
       "     active_minutes  total_calories_burned       workout_type  \\\n",
       "0              66.0                  664.0  Strength Training   \n",
       "1              66.0                  660.0               Rest   \n",
       "2              87.0                  873.0  Strength Training   \n",
       "3             111.0                 1113.0            Running   \n",
       "4              79.0                  790.0  Strength Training   \n",
       "..              ...                    ...                ...   \n",
       "180            71.0                  712.0  Strength Training   \n",
       "181            87.0                  874.0            Running   \n",
       "182            87.0                  874.0               Rest   \n",
       "183            90.0                  900.0               HIIT   \n",
       "184            78.0                  784.0               Rest   \n",
       "\n",
       "     workout_duration_minutes  workout_calories  workout_avg_hr  \\\n",
       "0                       68.28        641.120000          143.67   \n",
       "1                        0.00          0.000000            0.00   \n",
       "2                       34.34        366.564833          138.63   \n",
       "3                       62.74        662.040000          152.04   \n",
       "4                       77.88        677.010000          144.06   \n",
       "..                        ...               ...             ...   \n",
       "180                     94.29       1072.200000          131.24   \n",
       "181                     41.47        419.240000          139.88   \n",
       "182                      0.00          0.000000            0.00   \n",
       "183                     26.73        267.900000          133.59   \n",
       "184                      0.00          0.000000            0.00   \n",
       "\n",
       "     workout_max_hr  fat_burn_minutes  cardio_minutes  peak_minutes  \\\n",
       "0            171.17              33.0            19.0          13.0   \n",
       "1              0.00              33.0            19.0          13.0   \n",
       "2            163.86              43.0            26.0          17.0   \n",
       "3            168.87              55.0            33.0          22.0   \n",
       "4            167.28              39.0            23.0          15.0   \n",
       "..              ...               ...             ...           ...   \n",
       "180          154.21              35.0            21.0          14.0   \n",
       "181          157.09              43.0            26.0          17.0   \n",
       "182            0.00              43.0            26.0          17.0   \n",
       "183          146.81              45.0            27.0          18.0   \n",
       "184            0.00              39.0            23.0          15.0   \n",
       "\n",
       "     weight_lbs day_of_week  weekend  \n",
       "0    165.894033      Monday    False  \n",
       "1    165.158145     Tuesday    False  \n",
       "2    165.655147   Wednesday    False  \n",
       "3    165.787424    Thursday    False  \n",
       "4    165.941747      Friday    False  \n",
       "..          ...         ...      ...  \n",
       "180  171.276928    Saturday     True  \n",
       "181  171.100558      Sunday     True  \n",
       "182  170.836004      Monday    False  \n",
       "183  170.968281     Tuesday    False  \n",
       "184  172.335145   Wednesday    False  \n",
       "\n",
       "[185 rows x 18 columns]"
      ]
     },
     "execution_count": 37,
     "metadata": {},
     "output_type": "execute_result"
    }
   ],
   "source": [
    "# Add a column to indicate the day of the week\n",
    "fitness_data['day_of_week'] = fitness_data['date'].dt.day_name()\n",
    "\n",
    "# Flag weekend days\n",
    "fitness_data['weekend'] = fitness_data['day_of_week'].isin(['Saturday', 'Sunday'])\n",
    "fitness_data"
   ]
  },
  {
   "cell_type": "code",
   "execution_count": 38,
   "id": "a7b99236",
   "metadata": {},
   "outputs": [
    {
     "data": {
      "text/html": [
       "<div>\n",
       "<style scoped>\n",
       "    .dataframe tbody tr th:only-of-type {\n",
       "        vertical-align: middle;\n",
       "    }\n",
       "\n",
       "    .dataframe tbody tr th {\n",
       "        vertical-align: top;\n",
       "    }\n",
       "\n",
       "    .dataframe thead th {\n",
       "        text-align: right;\n",
       "    }\n",
       "</style>\n",
       "<table border=\"1\" class=\"dataframe\">\n",
       "  <thead>\n",
       "    <tr style=\"text-align: right;\">\n",
       "      <th></th>\n",
       "      <th>date</th>\n",
       "      <th>weight_kg</th>\n",
       "      <th>steps</th>\n",
       "      <th>resting_heart_rate</th>\n",
       "      <th>sleep_hours</th>\n",
       "      <th>active_minutes</th>\n",
       "      <th>total_calories_burned</th>\n",
       "      <th>workout_type</th>\n",
       "      <th>workout_duration_minutes</th>\n",
       "      <th>workout_calories</th>\n",
       "      <th>workout_avg_hr</th>\n",
       "      <th>workout_max_hr</th>\n",
       "      <th>fat_burn_minutes</th>\n",
       "      <th>cardio_minutes</th>\n",
       "      <th>peak_minutes</th>\n",
       "      <th>weight_lbs</th>\n",
       "      <th>day_of_week</th>\n",
       "      <th>weekend</th>\n",
       "      <th>sleep_target</th>\n",
       "      <th>sleep_debt</th>\n",
       "    </tr>\n",
       "  </thead>\n",
       "  <tbody>\n",
       "    <tr>\n",
       "      <th>0</th>\n",
       "      <td>2024-07-01</td>\n",
       "      <td>75.248357</td>\n",
       "      <td>6829.0</td>\n",
       "      <td>63.68</td>\n",
       "      <td>7.03</td>\n",
       "      <td>66.0</td>\n",
       "      <td>664.0</td>\n",
       "      <td>Strength Training</td>\n",
       "      <td>68.28</td>\n",
       "      <td>641.120000</td>\n",
       "      <td>143.67</td>\n",
       "      <td>171.17</td>\n",
       "      <td>33.0</td>\n",
       "      <td>19.0</td>\n",
       "      <td>13.0</td>\n",
       "      <td>165.894033</td>\n",
       "      <td>Monday</td>\n",
       "      <td>False</td>\n",
       "      <td>7.5</td>\n",
       "      <td>0.47</td>\n",
       "    </tr>\n",
       "    <tr>\n",
       "      <th>1</th>\n",
       "      <td>2024-07-02</td>\n",
       "      <td>74.914564</td>\n",
       "      <td>7741.0</td>\n",
       "      <td>58.63</td>\n",
       "      <td>7.85</td>\n",
       "      <td>66.0</td>\n",
       "      <td>660.0</td>\n",
       "      <td>Rest</td>\n",
       "      <td>0.00</td>\n",
       "      <td>0.000000</td>\n",
       "      <td>0.00</td>\n",
       "      <td>0.00</td>\n",
       "      <td>33.0</td>\n",
       "      <td>19.0</td>\n",
       "      <td>13.0</td>\n",
       "      <td>165.158145</td>\n",
       "      <td>Tuesday</td>\n",
       "      <td>False</td>\n",
       "      <td>7.5</td>\n",
       "      <td>-0.35</td>\n",
       "    </tr>\n",
       "    <tr>\n",
       "      <th>2</th>\n",
       "      <td>2024-07-03</td>\n",
       "      <td>75.140000</td>\n",
       "      <td>8227.0</td>\n",
       "      <td>58.47</td>\n",
       "      <td>7.53</td>\n",
       "      <td>87.0</td>\n",
       "      <td>873.0</td>\n",
       "      <td>Strength Training</td>\n",
       "      <td>34.34</td>\n",
       "      <td>366.564833</td>\n",
       "      <td>138.63</td>\n",
       "      <td>163.86</td>\n",
       "      <td>43.0</td>\n",
       "      <td>26.0</td>\n",
       "      <td>17.0</td>\n",
       "      <td>165.655147</td>\n",
       "      <td>Wednesday</td>\n",
       "      <td>False</td>\n",
       "      <td>7.5</td>\n",
       "      <td>-0.03</td>\n",
       "    </tr>\n",
       "    <tr>\n",
       "      <th>3</th>\n",
       "      <td>2024-07-04</td>\n",
       "      <td>75.200000</td>\n",
       "      <td>13262.0</td>\n",
       "      <td>72.51</td>\n",
       "      <td>4.63</td>\n",
       "      <td>111.0</td>\n",
       "      <td>1113.0</td>\n",
       "      <td>Running</td>\n",
       "      <td>62.74</td>\n",
       "      <td>662.040000</td>\n",
       "      <td>152.04</td>\n",
       "      <td>168.87</td>\n",
       "      <td>55.0</td>\n",
       "      <td>33.0</td>\n",
       "      <td>22.0</td>\n",
       "      <td>165.787424</td>\n",
       "      <td>Thursday</td>\n",
       "      <td>False</td>\n",
       "      <td>7.5</td>\n",
       "      <td>2.87</td>\n",
       "    </tr>\n",
       "    <tr>\n",
       "      <th>4</th>\n",
       "      <td>2024-07-05</td>\n",
       "      <td>75.270000</td>\n",
       "      <td>9377.0</td>\n",
       "      <td>73.32</td>\n",
       "      <td>5.38</td>\n",
       "      <td>79.0</td>\n",
       "      <td>790.0</td>\n",
       "      <td>Strength Training</td>\n",
       "      <td>77.88</td>\n",
       "      <td>677.010000</td>\n",
       "      <td>144.06</td>\n",
       "      <td>167.28</td>\n",
       "      <td>39.0</td>\n",
       "      <td>23.0</td>\n",
       "      <td>15.0</td>\n",
       "      <td>165.941747</td>\n",
       "      <td>Friday</td>\n",
       "      <td>False</td>\n",
       "      <td>7.5</td>\n",
       "      <td>2.12</td>\n",
       "    </tr>\n",
       "    <tr>\n",
       "      <th>...</th>\n",
       "      <td>...</td>\n",
       "      <td>...</td>\n",
       "      <td>...</td>\n",
       "      <td>...</td>\n",
       "      <td>...</td>\n",
       "      <td>...</td>\n",
       "      <td>...</td>\n",
       "      <td>...</td>\n",
       "      <td>...</td>\n",
       "      <td>...</td>\n",
       "      <td>...</td>\n",
       "      <td>...</td>\n",
       "      <td>...</td>\n",
       "      <td>...</td>\n",
       "      <td>...</td>\n",
       "      <td>...</td>\n",
       "      <td>...</td>\n",
       "      <td>...</td>\n",
       "      <td>...</td>\n",
       "      <td>...</td>\n",
       "    </tr>\n",
       "    <tr>\n",
       "      <th>180</th>\n",
       "      <td>2024-12-28</td>\n",
       "      <td>77.690000</td>\n",
       "      <td>5883.0</td>\n",
       "      <td>62.33</td>\n",
       "      <td>9.78</td>\n",
       "      <td>71.0</td>\n",
       "      <td>712.0</td>\n",
       "      <td>Strength Training</td>\n",
       "      <td>94.29</td>\n",
       "      <td>1072.200000</td>\n",
       "      <td>131.24</td>\n",
       "      <td>154.21</td>\n",
       "      <td>35.0</td>\n",
       "      <td>21.0</td>\n",
       "      <td>14.0</td>\n",
       "      <td>171.276928</td>\n",
       "      <td>Saturday</td>\n",
       "      <td>True</td>\n",
       "      <td>7.5</td>\n",
       "      <td>-2.28</td>\n",
       "    </tr>\n",
       "    <tr>\n",
       "      <th>181</th>\n",
       "      <td>2024-12-29</td>\n",
       "      <td>77.610000</td>\n",
       "      <td>8639.0</td>\n",
       "      <td>66.12</td>\n",
       "      <td>6.55</td>\n",
       "      <td>87.0</td>\n",
       "      <td>874.0</td>\n",
       "      <td>Running</td>\n",
       "      <td>41.47</td>\n",
       "      <td>419.240000</td>\n",
       "      <td>139.88</td>\n",
       "      <td>157.09</td>\n",
       "      <td>43.0</td>\n",
       "      <td>26.0</td>\n",
       "      <td>17.0</td>\n",
       "      <td>171.100558</td>\n",
       "      <td>Sunday</td>\n",
       "      <td>True</td>\n",
       "      <td>7.5</td>\n",
       "      <td>0.95</td>\n",
       "    </tr>\n",
       "    <tr>\n",
       "      <th>182</th>\n",
       "      <td>2024-12-30</td>\n",
       "      <td>77.490000</td>\n",
       "      <td>8587.0</td>\n",
       "      <td>61.23</td>\n",
       "      <td>8.02</td>\n",
       "      <td>87.0</td>\n",
       "      <td>874.0</td>\n",
       "      <td>Rest</td>\n",
       "      <td>0.00</td>\n",
       "      <td>0.000000</td>\n",
       "      <td>0.00</td>\n",
       "      <td>0.00</td>\n",
       "      <td>43.0</td>\n",
       "      <td>26.0</td>\n",
       "      <td>17.0</td>\n",
       "      <td>170.836004</td>\n",
       "      <td>Monday</td>\n",
       "      <td>False</td>\n",
       "      <td>7.5</td>\n",
       "      <td>-0.52</td>\n",
       "    </tr>\n",
       "    <tr>\n",
       "      <th>183</th>\n",
       "      <td>2024-12-31</td>\n",
       "      <td>77.550000</td>\n",
       "      <td>10408.0</td>\n",
       "      <td>59.33</td>\n",
       "      <td>4.57</td>\n",
       "      <td>90.0</td>\n",
       "      <td>900.0</td>\n",
       "      <td>HIIT</td>\n",
       "      <td>26.73</td>\n",
       "      <td>267.900000</td>\n",
       "      <td>133.59</td>\n",
       "      <td>146.81</td>\n",
       "      <td>45.0</td>\n",
       "      <td>27.0</td>\n",
       "      <td>18.0</td>\n",
       "      <td>170.968281</td>\n",
       "      <td>Tuesday</td>\n",
       "      <td>False</td>\n",
       "      <td>7.5</td>\n",
       "      <td>2.93</td>\n",
       "    </tr>\n",
       "    <tr>\n",
       "      <th>184</th>\n",
       "      <td>2025-01-01</td>\n",
       "      <td>78.170000</td>\n",
       "      <td>3257.0</td>\n",
       "      <td>63.24</td>\n",
       "      <td>3.17</td>\n",
       "      <td>78.0</td>\n",
       "      <td>784.0</td>\n",
       "      <td>Rest</td>\n",
       "      <td>0.00</td>\n",
       "      <td>0.000000</td>\n",
       "      <td>0.00</td>\n",
       "      <td>0.00</td>\n",
       "      <td>39.0</td>\n",
       "      <td>23.0</td>\n",
       "      <td>15.0</td>\n",
       "      <td>172.335145</td>\n",
       "      <td>Wednesday</td>\n",
       "      <td>False</td>\n",
       "      <td>7.5</td>\n",
       "      <td>4.33</td>\n",
       "    </tr>\n",
       "  </tbody>\n",
       "</table>\n",
       "<p>185 rows × 20 columns</p>\n",
       "</div>"
      ],
      "text/plain": [
       "          date  weight_kg    steps  resting_heart_rate  sleep_hours  \\\n",
       "0   2024-07-01  75.248357   6829.0               63.68         7.03   \n",
       "1   2024-07-02  74.914564   7741.0               58.63         7.85   \n",
       "2   2024-07-03  75.140000   8227.0               58.47         7.53   \n",
       "3   2024-07-04  75.200000  13262.0               72.51         4.63   \n",
       "4   2024-07-05  75.270000   9377.0               73.32         5.38   \n",
       "..         ...        ...      ...                 ...          ...   \n",
       "180 2024-12-28  77.690000   5883.0               62.33         9.78   \n",
       "181 2024-12-29  77.610000   8639.0               66.12         6.55   \n",
       "182 2024-12-30  77.490000   8587.0               61.23         8.02   \n",
       "183 2024-12-31  77.550000  10408.0               59.33         4.57   \n",
       "184 2025-01-01  78.170000   3257.0               63.24         3.17   \n",
       "\n",
       "     active_minutes  total_calories_burned       workout_type  \\\n",
       "0              66.0                  664.0  Strength Training   \n",
       "1              66.0                  660.0               Rest   \n",
       "2              87.0                  873.0  Strength Training   \n",
       "3             111.0                 1113.0            Running   \n",
       "4              79.0                  790.0  Strength Training   \n",
       "..              ...                    ...                ...   \n",
       "180            71.0                  712.0  Strength Training   \n",
       "181            87.0                  874.0            Running   \n",
       "182            87.0                  874.0               Rest   \n",
       "183            90.0                  900.0               HIIT   \n",
       "184            78.0                  784.0               Rest   \n",
       "\n",
       "     workout_duration_minutes  workout_calories  workout_avg_hr  \\\n",
       "0                       68.28        641.120000          143.67   \n",
       "1                        0.00          0.000000            0.00   \n",
       "2                       34.34        366.564833          138.63   \n",
       "3                       62.74        662.040000          152.04   \n",
       "4                       77.88        677.010000          144.06   \n",
       "..                        ...               ...             ...   \n",
       "180                     94.29       1072.200000          131.24   \n",
       "181                     41.47        419.240000          139.88   \n",
       "182                      0.00          0.000000            0.00   \n",
       "183                     26.73        267.900000          133.59   \n",
       "184                      0.00          0.000000            0.00   \n",
       "\n",
       "     workout_max_hr  fat_burn_minutes  cardio_minutes  peak_minutes  \\\n",
       "0            171.17              33.0            19.0          13.0   \n",
       "1              0.00              33.0            19.0          13.0   \n",
       "2            163.86              43.0            26.0          17.0   \n",
       "3            168.87              55.0            33.0          22.0   \n",
       "4            167.28              39.0            23.0          15.0   \n",
       "..              ...               ...             ...           ...   \n",
       "180          154.21              35.0            21.0          14.0   \n",
       "181          157.09              43.0            26.0          17.0   \n",
       "182            0.00              43.0            26.0          17.0   \n",
       "183          146.81              45.0            27.0          18.0   \n",
       "184            0.00              39.0            23.0          15.0   \n",
       "\n",
       "     weight_lbs day_of_week  weekend  sleep_target  sleep_debt  \n",
       "0    165.894033      Monday    False           7.5        0.47  \n",
       "1    165.158145     Tuesday    False           7.5       -0.35  \n",
       "2    165.655147   Wednesday    False           7.5       -0.03  \n",
       "3    165.787424    Thursday    False           7.5        2.87  \n",
       "4    165.941747      Friday    False           7.5        2.12  \n",
       "..          ...         ...      ...           ...         ...  \n",
       "180  171.276928    Saturday     True           7.5       -2.28  \n",
       "181  171.100558      Sunday     True           7.5        0.95  \n",
       "182  170.836004      Monday    False           7.5       -0.52  \n",
       "183  170.968281     Tuesday    False           7.5        2.93  \n",
       "184  172.335145   Wednesday    False           7.5        4.33  \n",
       "\n",
       "[185 rows x 20 columns]"
      ]
     },
     "execution_count": 38,
     "metadata": {},
     "output_type": "execute_result"
    }
   ],
   "source": [
    "# Add a new column \"sleep_debt\" that calculates the difference between sleep_hours and a target of 7.5 hours\n",
    "fitness_data['sleep_target'] = 7.5\n",
    "fitness_data['sleep_debt'] = fitness_data['sleep_target'] - fitness_data['sleep_hours']\n",
    "\n",
    "fitness_data"
   ]
  },
  {
   "cell_type": "code",
   "execution_count": 39,
   "id": "522fd476",
   "metadata": {},
   "outputs": [
    {
     "data": {
      "text/html": [
       "<div>\n",
       "<style scoped>\n",
       "    .dataframe tbody tr th:only-of-type {\n",
       "        vertical-align: middle;\n",
       "    }\n",
       "\n",
       "    .dataframe tbody tr th {\n",
       "        vertical-align: top;\n",
       "    }\n",
       "\n",
       "    .dataframe thead th {\n",
       "        text-align: right;\n",
       "    }\n",
       "</style>\n",
       "<table border=\"1\" class=\"dataframe\">\n",
       "  <thead>\n",
       "    <tr style=\"text-align: right;\">\n",
       "      <th></th>\n",
       "      <th>date</th>\n",
       "      <th>weight_kg</th>\n",
       "      <th>steps</th>\n",
       "      <th>resting_heart_rate</th>\n",
       "      <th>sleep_hours</th>\n",
       "      <th>active_minutes</th>\n",
       "      <th>total_calories_burned</th>\n",
       "      <th>workout_type</th>\n",
       "      <th>workout_duration_minutes</th>\n",
       "      <th>workout_calories</th>\n",
       "      <th>...</th>\n",
       "      <th>workout_max_hr</th>\n",
       "      <th>fat_burn_minutes</th>\n",
       "      <th>cardio_minutes</th>\n",
       "      <th>peak_minutes</th>\n",
       "      <th>weight_lbs</th>\n",
       "      <th>day_of_week</th>\n",
       "      <th>weekend</th>\n",
       "      <th>sleep_target</th>\n",
       "      <th>sleep_debt</th>\n",
       "      <th>cumulative_sleep_debt</th>\n",
       "    </tr>\n",
       "  </thead>\n",
       "  <tbody>\n",
       "    <tr>\n",
       "      <th>0</th>\n",
       "      <td>2024-07-01</td>\n",
       "      <td>75.248357</td>\n",
       "      <td>6829.0</td>\n",
       "      <td>63.68</td>\n",
       "      <td>7.03</td>\n",
       "      <td>66.0</td>\n",
       "      <td>664.0</td>\n",
       "      <td>Strength Training</td>\n",
       "      <td>68.28</td>\n",
       "      <td>641.120000</td>\n",
       "      <td>...</td>\n",
       "      <td>171.17</td>\n",
       "      <td>33.0</td>\n",
       "      <td>19.0</td>\n",
       "      <td>13.0</td>\n",
       "      <td>165.894033</td>\n",
       "      <td>Monday</td>\n",
       "      <td>False</td>\n",
       "      <td>7.5</td>\n",
       "      <td>0.47</td>\n",
       "      <td>0.470000</td>\n",
       "    </tr>\n",
       "    <tr>\n",
       "      <th>1</th>\n",
       "      <td>2024-07-02</td>\n",
       "      <td>74.914564</td>\n",
       "      <td>7741.0</td>\n",
       "      <td>58.63</td>\n",
       "      <td>7.85</td>\n",
       "      <td>66.0</td>\n",
       "      <td>660.0</td>\n",
       "      <td>Rest</td>\n",
       "      <td>0.00</td>\n",
       "      <td>0.000000</td>\n",
       "      <td>...</td>\n",
       "      <td>0.00</td>\n",
       "      <td>33.0</td>\n",
       "      <td>19.0</td>\n",
       "      <td>13.0</td>\n",
       "      <td>165.158145</td>\n",
       "      <td>Tuesday</td>\n",
       "      <td>False</td>\n",
       "      <td>7.5</td>\n",
       "      <td>-0.35</td>\n",
       "      <td>0.120000</td>\n",
       "    </tr>\n",
       "    <tr>\n",
       "      <th>2</th>\n",
       "      <td>2024-07-03</td>\n",
       "      <td>75.140000</td>\n",
       "      <td>8227.0</td>\n",
       "      <td>58.47</td>\n",
       "      <td>7.53</td>\n",
       "      <td>87.0</td>\n",
       "      <td>873.0</td>\n",
       "      <td>Strength Training</td>\n",
       "      <td>34.34</td>\n",
       "      <td>366.564833</td>\n",
       "      <td>...</td>\n",
       "      <td>163.86</td>\n",
       "      <td>43.0</td>\n",
       "      <td>26.0</td>\n",
       "      <td>17.0</td>\n",
       "      <td>165.655147</td>\n",
       "      <td>Wednesday</td>\n",
       "      <td>False</td>\n",
       "      <td>7.5</td>\n",
       "      <td>-0.03</td>\n",
       "      <td>0.090000</td>\n",
       "    </tr>\n",
       "    <tr>\n",
       "      <th>3</th>\n",
       "      <td>2024-07-04</td>\n",
       "      <td>75.200000</td>\n",
       "      <td>13262.0</td>\n",
       "      <td>72.51</td>\n",
       "      <td>4.63</td>\n",
       "      <td>111.0</td>\n",
       "      <td>1113.0</td>\n",
       "      <td>Running</td>\n",
       "      <td>62.74</td>\n",
       "      <td>662.040000</td>\n",
       "      <td>...</td>\n",
       "      <td>168.87</td>\n",
       "      <td>55.0</td>\n",
       "      <td>33.0</td>\n",
       "      <td>22.0</td>\n",
       "      <td>165.787424</td>\n",
       "      <td>Thursday</td>\n",
       "      <td>False</td>\n",
       "      <td>7.5</td>\n",
       "      <td>2.87</td>\n",
       "      <td>2.960000</td>\n",
       "    </tr>\n",
       "    <tr>\n",
       "      <th>4</th>\n",
       "      <td>2024-07-05</td>\n",
       "      <td>75.270000</td>\n",
       "      <td>9377.0</td>\n",
       "      <td>73.32</td>\n",
       "      <td>5.38</td>\n",
       "      <td>79.0</td>\n",
       "      <td>790.0</td>\n",
       "      <td>Strength Training</td>\n",
       "      <td>77.88</td>\n",
       "      <td>677.010000</td>\n",
       "      <td>...</td>\n",
       "      <td>167.28</td>\n",
       "      <td>39.0</td>\n",
       "      <td>23.0</td>\n",
       "      <td>15.0</td>\n",
       "      <td>165.941747</td>\n",
       "      <td>Friday</td>\n",
       "      <td>False</td>\n",
       "      <td>7.5</td>\n",
       "      <td>2.12</td>\n",
       "      <td>5.080000</td>\n",
       "    </tr>\n",
       "    <tr>\n",
       "      <th>...</th>\n",
       "      <td>...</td>\n",
       "      <td>...</td>\n",
       "      <td>...</td>\n",
       "      <td>...</td>\n",
       "      <td>...</td>\n",
       "      <td>...</td>\n",
       "      <td>...</td>\n",
       "      <td>...</td>\n",
       "      <td>...</td>\n",
       "      <td>...</td>\n",
       "      <td>...</td>\n",
       "      <td>...</td>\n",
       "      <td>...</td>\n",
       "      <td>...</td>\n",
       "      <td>...</td>\n",
       "      <td>...</td>\n",
       "      <td>...</td>\n",
       "      <td>...</td>\n",
       "      <td>...</td>\n",
       "      <td>...</td>\n",
       "      <td>...</td>\n",
       "    </tr>\n",
       "    <tr>\n",
       "      <th>180</th>\n",
       "      <td>2024-12-28</td>\n",
       "      <td>77.690000</td>\n",
       "      <td>5883.0</td>\n",
       "      <td>62.33</td>\n",
       "      <td>9.78</td>\n",
       "      <td>71.0</td>\n",
       "      <td>712.0</td>\n",
       "      <td>Strength Training</td>\n",
       "      <td>94.29</td>\n",
       "      <td>1072.200000</td>\n",
       "      <td>...</td>\n",
       "      <td>154.21</td>\n",
       "      <td>35.0</td>\n",
       "      <td>21.0</td>\n",
       "      <td>14.0</td>\n",
       "      <td>171.276928</td>\n",
       "      <td>Saturday</td>\n",
       "      <td>True</td>\n",
       "      <td>7.5</td>\n",
       "      <td>-2.28</td>\n",
       "      <td>-9.740577</td>\n",
       "    </tr>\n",
       "    <tr>\n",
       "      <th>181</th>\n",
       "      <td>2024-12-29</td>\n",
       "      <td>77.610000</td>\n",
       "      <td>8639.0</td>\n",
       "      <td>66.12</td>\n",
       "      <td>6.55</td>\n",
       "      <td>87.0</td>\n",
       "      <td>874.0</td>\n",
       "      <td>Running</td>\n",
       "      <td>41.47</td>\n",
       "      <td>419.240000</td>\n",
       "      <td>...</td>\n",
       "      <td>157.09</td>\n",
       "      <td>43.0</td>\n",
       "      <td>26.0</td>\n",
       "      <td>17.0</td>\n",
       "      <td>171.100558</td>\n",
       "      <td>Sunday</td>\n",
       "      <td>True</td>\n",
       "      <td>7.5</td>\n",
       "      <td>0.95</td>\n",
       "      <td>-8.790577</td>\n",
       "    </tr>\n",
       "    <tr>\n",
       "      <th>182</th>\n",
       "      <td>2024-12-30</td>\n",
       "      <td>77.490000</td>\n",
       "      <td>8587.0</td>\n",
       "      <td>61.23</td>\n",
       "      <td>8.02</td>\n",
       "      <td>87.0</td>\n",
       "      <td>874.0</td>\n",
       "      <td>Rest</td>\n",
       "      <td>0.00</td>\n",
       "      <td>0.000000</td>\n",
       "      <td>...</td>\n",
       "      <td>0.00</td>\n",
       "      <td>43.0</td>\n",
       "      <td>26.0</td>\n",
       "      <td>17.0</td>\n",
       "      <td>170.836004</td>\n",
       "      <td>Monday</td>\n",
       "      <td>False</td>\n",
       "      <td>7.5</td>\n",
       "      <td>-0.52</td>\n",
       "      <td>-9.310577</td>\n",
       "    </tr>\n",
       "    <tr>\n",
       "      <th>183</th>\n",
       "      <td>2024-12-31</td>\n",
       "      <td>77.550000</td>\n",
       "      <td>10408.0</td>\n",
       "      <td>59.33</td>\n",
       "      <td>4.57</td>\n",
       "      <td>90.0</td>\n",
       "      <td>900.0</td>\n",
       "      <td>HIIT</td>\n",
       "      <td>26.73</td>\n",
       "      <td>267.900000</td>\n",
       "      <td>...</td>\n",
       "      <td>146.81</td>\n",
       "      <td>45.0</td>\n",
       "      <td>27.0</td>\n",
       "      <td>18.0</td>\n",
       "      <td>170.968281</td>\n",
       "      <td>Tuesday</td>\n",
       "      <td>False</td>\n",
       "      <td>7.5</td>\n",
       "      <td>2.93</td>\n",
       "      <td>-6.380577</td>\n",
       "    </tr>\n",
       "    <tr>\n",
       "      <th>184</th>\n",
       "      <td>2025-01-01</td>\n",
       "      <td>78.170000</td>\n",
       "      <td>3257.0</td>\n",
       "      <td>63.24</td>\n",
       "      <td>3.17</td>\n",
       "      <td>78.0</td>\n",
       "      <td>784.0</td>\n",
       "      <td>Rest</td>\n",
       "      <td>0.00</td>\n",
       "      <td>0.000000</td>\n",
       "      <td>...</td>\n",
       "      <td>0.00</td>\n",
       "      <td>39.0</td>\n",
       "      <td>23.0</td>\n",
       "      <td>15.0</td>\n",
       "      <td>172.335145</td>\n",
       "      <td>Wednesday</td>\n",
       "      <td>False</td>\n",
       "      <td>7.5</td>\n",
       "      <td>4.33</td>\n",
       "      <td>-2.050577</td>\n",
       "    </tr>\n",
       "  </tbody>\n",
       "</table>\n",
       "<p>185 rows × 21 columns</p>\n",
       "</div>"
      ],
      "text/plain": [
       "          date  weight_kg    steps  resting_heart_rate  sleep_hours  \\\n",
       "0   2024-07-01  75.248357   6829.0               63.68         7.03   \n",
       "1   2024-07-02  74.914564   7741.0               58.63         7.85   \n",
       "2   2024-07-03  75.140000   8227.0               58.47         7.53   \n",
       "3   2024-07-04  75.200000  13262.0               72.51         4.63   \n",
       "4   2024-07-05  75.270000   9377.0               73.32         5.38   \n",
       "..         ...        ...      ...                 ...          ...   \n",
       "180 2024-12-28  77.690000   5883.0               62.33         9.78   \n",
       "181 2024-12-29  77.610000   8639.0               66.12         6.55   \n",
       "182 2024-12-30  77.490000   8587.0               61.23         8.02   \n",
       "183 2024-12-31  77.550000  10408.0               59.33         4.57   \n",
       "184 2025-01-01  78.170000   3257.0               63.24         3.17   \n",
       "\n",
       "     active_minutes  total_calories_burned       workout_type  \\\n",
       "0              66.0                  664.0  Strength Training   \n",
       "1              66.0                  660.0               Rest   \n",
       "2              87.0                  873.0  Strength Training   \n",
       "3             111.0                 1113.0            Running   \n",
       "4              79.0                  790.0  Strength Training   \n",
       "..              ...                    ...                ...   \n",
       "180            71.0                  712.0  Strength Training   \n",
       "181            87.0                  874.0            Running   \n",
       "182            87.0                  874.0               Rest   \n",
       "183            90.0                  900.0               HIIT   \n",
       "184            78.0                  784.0               Rest   \n",
       "\n",
       "     workout_duration_minutes  workout_calories  ...  workout_max_hr  \\\n",
       "0                       68.28        641.120000  ...          171.17   \n",
       "1                        0.00          0.000000  ...            0.00   \n",
       "2                       34.34        366.564833  ...          163.86   \n",
       "3                       62.74        662.040000  ...          168.87   \n",
       "4                       77.88        677.010000  ...          167.28   \n",
       "..                        ...               ...  ...             ...   \n",
       "180                     94.29       1072.200000  ...          154.21   \n",
       "181                     41.47        419.240000  ...          157.09   \n",
       "182                      0.00          0.000000  ...            0.00   \n",
       "183                     26.73        267.900000  ...          146.81   \n",
       "184                      0.00          0.000000  ...            0.00   \n",
       "\n",
       "     fat_burn_minutes  cardio_minutes  peak_minutes  weight_lbs  day_of_week  \\\n",
       "0                33.0            19.0          13.0  165.894033       Monday   \n",
       "1                33.0            19.0          13.0  165.158145      Tuesday   \n",
       "2                43.0            26.0          17.0  165.655147    Wednesday   \n",
       "3                55.0            33.0          22.0  165.787424     Thursday   \n",
       "4                39.0            23.0          15.0  165.941747       Friday   \n",
       "..                ...             ...           ...         ...          ...   \n",
       "180              35.0            21.0          14.0  171.276928     Saturday   \n",
       "181              43.0            26.0          17.0  171.100558       Sunday   \n",
       "182              43.0            26.0          17.0  170.836004       Monday   \n",
       "183              45.0            27.0          18.0  170.968281      Tuesday   \n",
       "184              39.0            23.0          15.0  172.335145    Wednesday   \n",
       "\n",
       "    weekend  sleep_target  sleep_debt  cumulative_sleep_debt  \n",
       "0     False           7.5        0.47               0.470000  \n",
       "1     False           7.5       -0.35               0.120000  \n",
       "2     False           7.5       -0.03               0.090000  \n",
       "3     False           7.5        2.87               2.960000  \n",
       "4     False           7.5        2.12               5.080000  \n",
       "..      ...           ...         ...                    ...  \n",
       "180    True           7.5       -2.28              -9.740577  \n",
       "181    True           7.5        0.95              -8.790577  \n",
       "182   False           7.5       -0.52              -9.310577  \n",
       "183   False           7.5        2.93              -6.380577  \n",
       "184   False           7.5        4.33              -2.050577  \n",
       "\n",
       "[185 rows x 21 columns]"
      ]
     },
     "execution_count": 39,
     "metadata": {},
     "output_type": "execute_result"
    }
   ],
   "source": [
    "# Create a new column that calculates the cumulative sleep debt\n",
    "fitness_data['cumulative_sleep_debt'] = fitness_data['sleep_debt'].cumsum()\n",
    "fitness_data"
   ]
  },
  {
   "cell_type": "markdown",
   "id": "d5ef8f01",
   "metadata": {},
   "source": [
    "## 3. Visualizing trends across single variables 📈"
   ]
  },
  {
   "cell_type": "code",
   "execution_count": 40,
   "id": "5f13b813",
   "metadata": {},
   "outputs": [],
   "source": [
    "# Imports\n",
    "import plotly.express as px"
   ]
  },
  {
   "cell_type": "code",
   "execution_count": 41,
   "id": "0cfa449e",
   "metadata": {},
   "outputs": [
    {
     "data": {
      "application/vnd.plotly.v1+json": {
       "config": {
        "plotlyServerURL": "https://plot.ly"
       },
       "data": [
        {
         "bingroup": "x",
         "hovertemplate": "Steps=%{x}<br>count=%{y}<extra></extra>",
         "legendgroup": "",
         "marker": {
          "color": "#636efa",
          "pattern": {
           "shape": ""
          }
         },
         "name": "",
         "nbinsx": 30,
         "orientation": "v",
         "showlegend": false,
         "type": "histogram",
         "x": {
          "bdata": "AAAAAACtukAAAAAAAD2+QAAAAACAEcBAAAAAAADnyUAAAAAAgFDCQAAAAAAARL9AAAAAAAAwskAAAAAAAGy4QAAAAAAAuMZAAAAAAADyuEAAAAAAADS0QAAAAACAqMFAAAAAAADqxEAAAAAAAO6/QAAAAAAA5LdAAAAAAABywkAAAAAAAD2+QAAAAAAAuMRAAAAAAADPs0AAAAAAgFrBQAAAAAAAyrhAAAAAAIDxwEAAAAAAANXAQAAAAAAAiLlAAAAAAAA7v0AAAAAAAP/CQAAAAAAAE8dAAAAAAAC4xEAAAAAAALLBQAAAAAAAcLNAAAAAAICewEAAAAAAAOi8QAAAAAAA0cBAAAAAAAD3yEAAAAAAgOHBQAAAAAAA779AAAAAAICOwUAAAAAAAPC0QAAAAAAAabhAAAAAAIDwwkAAAAAAABDBQAAAAAAAYbtAAAAAAACuwkAAAAAAADK+QAAAAAAA47NAAAAAAACYtUAAAAAAgF7AQAAAAAAA9r9AAAAAAADdxEAAAAAAANq2QAAAAAAAAblAAAAAAIALwkAAAAAAAPi/QAAAAAAAtr1AAAAAAABzw0AAAAAAAJa8QAAAAAAALLpAAAAAAACmvEAAAAAAANDAQAAAAAAA27tAAAAAAABGykAAAAAAgFjMQAAAAAAAqMFAAAAAAIAfwkAAAAAAAIPEQAAAAAAApL9AAAAAAADRtkAAAAAAANqzQAAAAAAAfbpAAAAAAACsukAAAAAAgLDAQAAAAACAqMFAAAAAAABAvkAAAAAAAEy1QAAAAACA68VAAAAAAAAcwUAAAAAAgPzBQAAAAACA88ZAAAAAAAC9vUAAAAAAAOi8QAAAAACAHsNAAAAAAIAbwUAAAAAAAA3GQAAAAAAA8cFAAAAAAABvu0AAAAAAAIy6QAAAAAAA7bRAAAAAAAD0xEAAAAAAAD3EQAAAAAAAib9AAAAAAAA6tEAAAAAAAMu3QAAAAACA5sJAAAAAAIDkwUAAAAAAAMjBQAAAAAAAWsFAAAAAAAC2zkAAAAAAgF7AQAAAAAAANb5AAAAAAAAJvkAAAAAAAAy5QAAAAAAADqlAAAAAAICNwEAAAAAAABK7QAAAAAAAbr9AAAAAAIARxUAAAAAAAO+5QAAAAAAAT8NAAAAAAAD4wkAAAAAAAKG8QAAAAACA2sBAAAAAAIBHwkAAAAAAALy3QAAAAACAIcBAAAAAAIBxyUAAAAAAAM68QAAAAAAAnL9AAAAAAAAhvkAAAAAAAELBQAAAAAAAwLxAAAAAAIDhxkAAAAAAAKbAQAAAAAAAWMJAAAAAAIBdzEAAAAAAAOnHQAAAAAAAArRAAAAAAACZsUAAAAAAAN66QAAAAAAAubtAAAAAAABitUAAAAAAgLPBQAAAAACAw8ZAAAAAAIAlw0AAAAAAAKi1QAAAAAAAoMJAAAAAAAD0w0AAAAAAAIuzQAAAAAAABsVAAAAAAAAmw0AAAAAAgLXCQAAAAAAAV7dAAAAAAABdxkAAAAAAAAGzQAAAAAAAbbhAAAAAAAA0wkAAAAAAAFPNQAAAAAAAw8ZAAAAAAAC9tUAAAAAAAEC2QAAAAAAA071AAAAAAAAA+H8AAAAAAAD4fwAAAAAAAPh/AAAAAIA+xEAAAAAAgAnAQAAAAACAH8JAAAAAAACiukAAAAAAAGrGQAAAAACAGMNAAAAAAABPzUAAAAAAAA3DQAAAAAAAXrRAAAAAAAB3uEAAAAAAAEnBQAAAAACABchAAAAAAABMqUAAAAAAANe5QAAAAACAc8dAAAAAAIBYwkAAAAAAAG3BQAAAAACAasFAAAAAAADuwUAAAAAAAGHGQAAAAAAAqr9AAAAAAACCwkAAAAAAAAS8QAAAAAAAAPh/AAAAAAAA+H8AAAAAAAD4fwAAAACAD8dAAAAAAAD7tkAAAAAAgN/AQAAAAACAxcBAAAAAAABUxEAAAAAAAHKpQA==",
          "dtype": "f8"
         },
         "xaxis": "x",
         "yaxis": "y"
        }
       ],
       "layout": {
        "barmode": "relative",
        "legend": {
         "tracegroupgap": 0
        },
        "template": {
         "data": {
          "bar": [
           {
            "error_x": {
             "color": "#2a3f5f"
            },
            "error_y": {
             "color": "#2a3f5f"
            },
            "marker": {
             "line": {
              "color": "#E5ECF6",
              "width": 0.5
             },
             "pattern": {
              "fillmode": "overlay",
              "size": 10,
              "solidity": 0.2
             }
            },
            "type": "bar"
           }
          ],
          "barpolar": [
           {
            "marker": {
             "line": {
              "color": "#E5ECF6",
              "width": 0.5
             },
             "pattern": {
              "fillmode": "overlay",
              "size": 10,
              "solidity": 0.2
             }
            },
            "type": "barpolar"
           }
          ],
          "carpet": [
           {
            "aaxis": {
             "endlinecolor": "#2a3f5f",
             "gridcolor": "white",
             "linecolor": "white",
             "minorgridcolor": "white",
             "startlinecolor": "#2a3f5f"
            },
            "baxis": {
             "endlinecolor": "#2a3f5f",
             "gridcolor": "white",
             "linecolor": "white",
             "minorgridcolor": "white",
             "startlinecolor": "#2a3f5f"
            },
            "type": "carpet"
           }
          ],
          "choropleth": [
           {
            "colorbar": {
             "outlinewidth": 0,
             "ticks": ""
            },
            "type": "choropleth"
           }
          ],
          "contour": [
           {
            "colorbar": {
             "outlinewidth": 0,
             "ticks": ""
            },
            "colorscale": [
             [
              0,
              "#0d0887"
             ],
             [
              0.1111111111111111,
              "#46039f"
             ],
             [
              0.2222222222222222,
              "#7201a8"
             ],
             [
              0.3333333333333333,
              "#9c179e"
             ],
             [
              0.4444444444444444,
              "#bd3786"
             ],
             [
              0.5555555555555556,
              "#d8576b"
             ],
             [
              0.6666666666666666,
              "#ed7953"
             ],
             [
              0.7777777777777778,
              "#fb9f3a"
             ],
             [
              0.8888888888888888,
              "#fdca26"
             ],
             [
              1,
              "#f0f921"
             ]
            ],
            "type": "contour"
           }
          ],
          "contourcarpet": [
           {
            "colorbar": {
             "outlinewidth": 0,
             "ticks": ""
            },
            "type": "contourcarpet"
           }
          ],
          "heatmap": [
           {
            "colorbar": {
             "outlinewidth": 0,
             "ticks": ""
            },
            "colorscale": [
             [
              0,
              "#0d0887"
             ],
             [
              0.1111111111111111,
              "#46039f"
             ],
             [
              0.2222222222222222,
              "#7201a8"
             ],
             [
              0.3333333333333333,
              "#9c179e"
             ],
             [
              0.4444444444444444,
              "#bd3786"
             ],
             [
              0.5555555555555556,
              "#d8576b"
             ],
             [
              0.6666666666666666,
              "#ed7953"
             ],
             [
              0.7777777777777778,
              "#fb9f3a"
             ],
             [
              0.8888888888888888,
              "#fdca26"
             ],
             [
              1,
              "#f0f921"
             ]
            ],
            "type": "heatmap"
           }
          ],
          "histogram": [
           {
            "marker": {
             "pattern": {
              "fillmode": "overlay",
              "size": 10,
              "solidity": 0.2
             }
            },
            "type": "histogram"
           }
          ],
          "histogram2d": [
           {
            "colorbar": {
             "outlinewidth": 0,
             "ticks": ""
            },
            "colorscale": [
             [
              0,
              "#0d0887"
             ],
             [
              0.1111111111111111,
              "#46039f"
             ],
             [
              0.2222222222222222,
              "#7201a8"
             ],
             [
              0.3333333333333333,
              "#9c179e"
             ],
             [
              0.4444444444444444,
              "#bd3786"
             ],
             [
              0.5555555555555556,
              "#d8576b"
             ],
             [
              0.6666666666666666,
              "#ed7953"
             ],
             [
              0.7777777777777778,
              "#fb9f3a"
             ],
             [
              0.8888888888888888,
              "#fdca26"
             ],
             [
              1,
              "#f0f921"
             ]
            ],
            "type": "histogram2d"
           }
          ],
          "histogram2dcontour": [
           {
            "colorbar": {
             "outlinewidth": 0,
             "ticks": ""
            },
            "colorscale": [
             [
              0,
              "#0d0887"
             ],
             [
              0.1111111111111111,
              "#46039f"
             ],
             [
              0.2222222222222222,
              "#7201a8"
             ],
             [
              0.3333333333333333,
              "#9c179e"
             ],
             [
              0.4444444444444444,
              "#bd3786"
             ],
             [
              0.5555555555555556,
              "#d8576b"
             ],
             [
              0.6666666666666666,
              "#ed7953"
             ],
             [
              0.7777777777777778,
              "#fb9f3a"
             ],
             [
              0.8888888888888888,
              "#fdca26"
             ],
             [
              1,
              "#f0f921"
             ]
            ],
            "type": "histogram2dcontour"
           }
          ],
          "mesh3d": [
           {
            "colorbar": {
             "outlinewidth": 0,
             "ticks": ""
            },
            "type": "mesh3d"
           }
          ],
          "parcoords": [
           {
            "line": {
             "colorbar": {
              "outlinewidth": 0,
              "ticks": ""
             }
            },
            "type": "parcoords"
           }
          ],
          "pie": [
           {
            "automargin": true,
            "type": "pie"
           }
          ],
          "scatter": [
           {
            "fillpattern": {
             "fillmode": "overlay",
             "size": 10,
             "solidity": 0.2
            },
            "type": "scatter"
           }
          ],
          "scatter3d": [
           {
            "line": {
             "colorbar": {
              "outlinewidth": 0,
              "ticks": ""
             }
            },
            "marker": {
             "colorbar": {
              "outlinewidth": 0,
              "ticks": ""
             }
            },
            "type": "scatter3d"
           }
          ],
          "scattercarpet": [
           {
            "marker": {
             "colorbar": {
              "outlinewidth": 0,
              "ticks": ""
             }
            },
            "type": "scattercarpet"
           }
          ],
          "scattergeo": [
           {
            "marker": {
             "colorbar": {
              "outlinewidth": 0,
              "ticks": ""
             }
            },
            "type": "scattergeo"
           }
          ],
          "scattergl": [
           {
            "marker": {
             "colorbar": {
              "outlinewidth": 0,
              "ticks": ""
             }
            },
            "type": "scattergl"
           }
          ],
          "scattermap": [
           {
            "marker": {
             "colorbar": {
              "outlinewidth": 0,
              "ticks": ""
             }
            },
            "type": "scattermap"
           }
          ],
          "scattermapbox": [
           {
            "marker": {
             "colorbar": {
              "outlinewidth": 0,
              "ticks": ""
             }
            },
            "type": "scattermapbox"
           }
          ],
          "scatterpolar": [
           {
            "marker": {
             "colorbar": {
              "outlinewidth": 0,
              "ticks": ""
             }
            },
            "type": "scatterpolar"
           }
          ],
          "scatterpolargl": [
           {
            "marker": {
             "colorbar": {
              "outlinewidth": 0,
              "ticks": ""
             }
            },
            "type": "scatterpolargl"
           }
          ],
          "scatterternary": [
           {
            "marker": {
             "colorbar": {
              "outlinewidth": 0,
              "ticks": ""
             }
            },
            "type": "scatterternary"
           }
          ],
          "surface": [
           {
            "colorbar": {
             "outlinewidth": 0,
             "ticks": ""
            },
            "colorscale": [
             [
              0,
              "#0d0887"
             ],
             [
              0.1111111111111111,
              "#46039f"
             ],
             [
              0.2222222222222222,
              "#7201a8"
             ],
             [
              0.3333333333333333,
              "#9c179e"
             ],
             [
              0.4444444444444444,
              "#bd3786"
             ],
             [
              0.5555555555555556,
              "#d8576b"
             ],
             [
              0.6666666666666666,
              "#ed7953"
             ],
             [
              0.7777777777777778,
              "#fb9f3a"
             ],
             [
              0.8888888888888888,
              "#fdca26"
             ],
             [
              1,
              "#f0f921"
             ]
            ],
            "type": "surface"
           }
          ],
          "table": [
           {
            "cells": {
             "fill": {
              "color": "#EBF0F8"
             },
             "line": {
              "color": "white"
             }
            },
            "header": {
             "fill": {
              "color": "#C8D4E3"
             },
             "line": {
              "color": "white"
             }
            },
            "type": "table"
           }
          ]
         },
         "layout": {
          "annotationdefaults": {
           "arrowcolor": "#2a3f5f",
           "arrowhead": 0,
           "arrowwidth": 1
          },
          "autotypenumbers": "strict",
          "coloraxis": {
           "colorbar": {
            "outlinewidth": 0,
            "ticks": ""
           }
          },
          "colorscale": {
           "diverging": [
            [
             0,
             "#8e0152"
            ],
            [
             0.1,
             "#c51b7d"
            ],
            [
             0.2,
             "#de77ae"
            ],
            [
             0.3,
             "#f1b6da"
            ],
            [
             0.4,
             "#fde0ef"
            ],
            [
             0.5,
             "#f7f7f7"
            ],
            [
             0.6,
             "#e6f5d0"
            ],
            [
             0.7,
             "#b8e186"
            ],
            [
             0.8,
             "#7fbc41"
            ],
            [
             0.9,
             "#4d9221"
            ],
            [
             1,
             "#276419"
            ]
           ],
           "sequential": [
            [
             0,
             "#0d0887"
            ],
            [
             0.1111111111111111,
             "#46039f"
            ],
            [
             0.2222222222222222,
             "#7201a8"
            ],
            [
             0.3333333333333333,
             "#9c179e"
            ],
            [
             0.4444444444444444,
             "#bd3786"
            ],
            [
             0.5555555555555556,
             "#d8576b"
            ],
            [
             0.6666666666666666,
             "#ed7953"
            ],
            [
             0.7777777777777778,
             "#fb9f3a"
            ],
            [
             0.8888888888888888,
             "#fdca26"
            ],
            [
             1,
             "#f0f921"
            ]
           ],
           "sequentialminus": [
            [
             0,
             "#0d0887"
            ],
            [
             0.1111111111111111,
             "#46039f"
            ],
            [
             0.2222222222222222,
             "#7201a8"
            ],
            [
             0.3333333333333333,
             "#9c179e"
            ],
            [
             0.4444444444444444,
             "#bd3786"
            ],
            [
             0.5555555555555556,
             "#d8576b"
            ],
            [
             0.6666666666666666,
             "#ed7953"
            ],
            [
             0.7777777777777778,
             "#fb9f3a"
            ],
            [
             0.8888888888888888,
             "#fdca26"
            ],
            [
             1,
             "#f0f921"
            ]
           ]
          },
          "colorway": [
           "#636efa",
           "#EF553B",
           "#00cc96",
           "#ab63fa",
           "#FFA15A",
           "#19d3f3",
           "#FF6692",
           "#B6E880",
           "#FF97FF",
           "#FECB52"
          ],
          "font": {
           "color": "#2a3f5f"
          },
          "geo": {
           "bgcolor": "white",
           "lakecolor": "white",
           "landcolor": "#E5ECF6",
           "showlakes": true,
           "showland": true,
           "subunitcolor": "white"
          },
          "hoverlabel": {
           "align": "left"
          },
          "hovermode": "closest",
          "mapbox": {
           "style": "light"
          },
          "paper_bgcolor": "white",
          "plot_bgcolor": "#E5ECF6",
          "polar": {
           "angularaxis": {
            "gridcolor": "white",
            "linecolor": "white",
            "ticks": ""
           },
           "bgcolor": "#E5ECF6",
           "radialaxis": {
            "gridcolor": "white",
            "linecolor": "white",
            "ticks": ""
           }
          },
          "scene": {
           "xaxis": {
            "backgroundcolor": "#E5ECF6",
            "gridcolor": "white",
            "gridwidth": 2,
            "linecolor": "white",
            "showbackground": true,
            "ticks": "",
            "zerolinecolor": "white"
           },
           "yaxis": {
            "backgroundcolor": "#E5ECF6",
            "gridcolor": "white",
            "gridwidth": 2,
            "linecolor": "white",
            "showbackground": true,
            "ticks": "",
            "zerolinecolor": "white"
           },
           "zaxis": {
            "backgroundcolor": "#E5ECF6",
            "gridcolor": "white",
            "gridwidth": 2,
            "linecolor": "white",
            "showbackground": true,
            "ticks": "",
            "zerolinecolor": "white"
           }
          },
          "shapedefaults": {
           "line": {
            "color": "#2a3f5f"
           }
          },
          "ternary": {
           "aaxis": {
            "gridcolor": "white",
            "linecolor": "white",
            "ticks": ""
           },
           "baxis": {
            "gridcolor": "white",
            "linecolor": "white",
            "ticks": ""
           },
           "bgcolor": "#E5ECF6",
           "caxis": {
            "gridcolor": "white",
            "linecolor": "white",
            "ticks": ""
           }
          },
          "title": {
           "x": 0.05
          },
          "xaxis": {
           "automargin": true,
           "gridcolor": "white",
           "linecolor": "white",
           "ticks": "",
           "title": {
            "standoff": 15
           },
           "zerolinecolor": "white",
           "zerolinewidth": 2
          },
          "yaxis": {
           "automargin": true,
           "gridcolor": "white",
           "linecolor": "white",
           "ticks": "",
           "title": {
            "standoff": 15
           },
           "zerolinecolor": "white",
           "zerolinewidth": 2
          }
         }
        },
        "title": {
         "text": "Distribution of Steps"
        },
        "xaxis": {
         "anchor": "y",
         "domain": [
          0,
          1
         ],
         "title": {
          "text": "Steps"
         }
        },
        "yaxis": {
         "anchor": "x",
         "domain": [
          0,
          1
         ],
         "title": {
          "text": "count"
         }
        }
       }
      }
     },
     "metadata": {},
     "output_type": "display_data"
    }
   ],
   "source": [
    "# Create a histogram of the number of steps\n",
    "steps_hist = px.histogram(fitness_data, x='steps', title='Distribution of Steps',\n",
    "                              labels={'steps': 'Steps'}, nbins=30)\n",
    "steps_hist.show()"
   ]
  },
  {
   "cell_type": "code",
   "execution_count": 42,
   "id": "2622cc12",
   "metadata": {},
   "outputs": [
    {
     "data": {
      "application/vnd.plotly.v1+json": {
       "config": {
        "plotlyServerURL": "https://plot.ly"
       },
       "data": [
        {
         "hovertemplate": "Date=%{x}<br>Number of Steps=%{y}<extra></extra>",
         "legendgroup": "",
         "line": {
          "color": "#636efa",
          "dash": "solid"
         },
         "marker": {
          "symbol": "circle"
         },
         "mode": "lines+markers",
         "name": "",
         "orientation": "v",
         "showlegend": false,
         "type": "scatter",
         "x": [
          "2024-07-01T00:00:00.000000000",
          "2024-07-02T00:00:00.000000000",
          "2024-07-03T00:00:00.000000000",
          "2024-07-04T00:00:00.000000000",
          "2024-07-05T00:00:00.000000000",
          "2024-07-06T00:00:00.000000000",
          "2024-07-07T00:00:00.000000000",
          "2024-07-08T00:00:00.000000000",
          "2024-07-09T00:00:00.000000000",
          "2024-07-10T00:00:00.000000000",
          "2024-07-11T00:00:00.000000000",
          "2024-07-12T00:00:00.000000000",
          "2024-07-13T00:00:00.000000000",
          "2024-07-14T00:00:00.000000000",
          "2024-07-15T00:00:00.000000000",
          "2024-07-16T00:00:00.000000000",
          "2024-07-17T00:00:00.000000000",
          "2024-07-18T00:00:00.000000000",
          "2024-07-19T00:00:00.000000000",
          "2024-07-20T00:00:00.000000000",
          "2024-07-21T00:00:00.000000000",
          "2024-07-22T00:00:00.000000000",
          "2024-07-23T00:00:00.000000000",
          "2024-07-24T00:00:00.000000000",
          "2024-07-25T00:00:00.000000000",
          "2024-07-26T00:00:00.000000000",
          "2024-07-27T00:00:00.000000000",
          "2024-07-28T00:00:00.000000000",
          "2024-07-29T00:00:00.000000000",
          "2024-07-30T00:00:00.000000000",
          "2024-07-31T00:00:00.000000000",
          "2024-08-01T00:00:00.000000000",
          "2024-08-02T00:00:00.000000000",
          "2024-08-03T00:00:00.000000000",
          "2024-08-04T00:00:00.000000000",
          "2024-08-05T00:00:00.000000000",
          "2024-08-06T00:00:00.000000000",
          "2024-08-07T00:00:00.000000000",
          "2024-08-08T00:00:00.000000000",
          "2024-08-09T00:00:00.000000000",
          "2024-08-10T00:00:00.000000000",
          "2024-08-11T00:00:00.000000000",
          "2024-08-12T00:00:00.000000000",
          "2024-08-13T00:00:00.000000000",
          "2024-08-14T00:00:00.000000000",
          "2024-08-15T00:00:00.000000000",
          "2024-08-16T00:00:00.000000000",
          "2024-08-17T00:00:00.000000000",
          "2024-08-18T00:00:00.000000000",
          "2024-08-19T00:00:00.000000000",
          "2024-08-20T00:00:00.000000000",
          "2024-08-21T00:00:00.000000000",
          "2024-08-22T00:00:00.000000000",
          "2024-08-23T00:00:00.000000000",
          "2024-08-24T00:00:00.000000000",
          "2024-08-25T00:00:00.000000000",
          "2024-08-26T00:00:00.000000000",
          "2024-08-27T00:00:00.000000000",
          "2024-08-28T00:00:00.000000000",
          "2024-08-29T00:00:00.000000000",
          "2024-08-30T00:00:00.000000000",
          "2024-08-31T00:00:00.000000000",
          "2024-09-01T00:00:00.000000000",
          "2024-09-02T00:00:00.000000000",
          "2024-09-03T00:00:00.000000000",
          "2024-09-04T00:00:00.000000000",
          "2024-09-05T00:00:00.000000000",
          "2024-09-06T00:00:00.000000000",
          "2024-09-07T00:00:00.000000000",
          "2024-09-08T00:00:00.000000000",
          "2024-09-09T00:00:00.000000000",
          "2024-09-10T00:00:00.000000000",
          "2024-09-11T00:00:00.000000000",
          "2024-09-12T00:00:00.000000000",
          "2024-09-13T00:00:00.000000000",
          "2024-09-14T00:00:00.000000000",
          "2024-09-15T00:00:00.000000000",
          "2024-09-16T00:00:00.000000000",
          "2024-09-17T00:00:00.000000000",
          "2024-09-18T00:00:00.000000000",
          "2024-09-19T00:00:00.000000000",
          "2024-09-20T00:00:00.000000000",
          "2024-09-21T00:00:00.000000000",
          "2024-09-22T00:00:00.000000000",
          "2024-09-23T00:00:00.000000000",
          "2024-09-24T00:00:00.000000000",
          "2024-09-25T00:00:00.000000000",
          "2024-09-26T00:00:00.000000000",
          "2024-09-27T00:00:00.000000000",
          "2024-09-28T00:00:00.000000000",
          "2024-09-29T00:00:00.000000000",
          "2024-09-30T00:00:00.000000000",
          "2024-10-01T00:00:00.000000000",
          "2024-10-02T00:00:00.000000000",
          "2024-10-03T00:00:00.000000000",
          "2024-10-04T00:00:00.000000000",
          "2024-10-05T00:00:00.000000000",
          "2024-10-06T00:00:00.000000000",
          "2024-10-07T00:00:00.000000000",
          "2024-10-08T00:00:00.000000000",
          "2024-10-09T00:00:00.000000000",
          "2024-10-10T00:00:00.000000000",
          "2024-10-11T00:00:00.000000000",
          "2024-10-12T00:00:00.000000000",
          "2024-10-13T00:00:00.000000000",
          "2024-10-14T00:00:00.000000000",
          "2024-10-15T00:00:00.000000000",
          "2024-10-16T00:00:00.000000000",
          "2024-10-17T00:00:00.000000000",
          "2024-10-18T00:00:00.000000000",
          "2024-10-19T00:00:00.000000000",
          "2024-10-20T00:00:00.000000000",
          "2024-10-21T00:00:00.000000000",
          "2024-10-22T00:00:00.000000000",
          "2024-10-23T00:00:00.000000000",
          "2024-10-24T00:00:00.000000000",
          "2024-10-25T00:00:00.000000000",
          "2024-10-26T00:00:00.000000000",
          "2024-10-27T00:00:00.000000000",
          "2024-10-28T00:00:00.000000000",
          "2024-10-29T00:00:00.000000000",
          "2024-10-30T00:00:00.000000000",
          "2024-10-31T00:00:00.000000000",
          "2024-11-01T00:00:00.000000000",
          "2024-11-02T00:00:00.000000000",
          "2024-11-03T00:00:00.000000000",
          "2024-11-04T00:00:00.000000000",
          "2024-11-05T00:00:00.000000000",
          "2024-11-06T00:00:00.000000000",
          "2024-11-07T00:00:00.000000000",
          "2024-11-08T00:00:00.000000000",
          "2024-11-09T00:00:00.000000000",
          "2024-11-10T00:00:00.000000000",
          "2024-11-11T00:00:00.000000000",
          "2024-11-12T00:00:00.000000000",
          "2024-11-13T00:00:00.000000000",
          "2024-11-14T00:00:00.000000000",
          "2024-11-15T00:00:00.000000000",
          "2024-11-16T00:00:00.000000000",
          "2024-11-17T00:00:00.000000000",
          "2024-11-18T00:00:00.000000000",
          "2024-11-19T00:00:00.000000000",
          "2024-11-20T00:00:00.000000000",
          "2024-11-21T00:00:00.000000000",
          "2024-11-22T00:00:00.000000000",
          "2024-11-23T00:00:00.000000000",
          "2024-11-24T00:00:00.000000000",
          "2024-11-25T00:00:00.000000000",
          "2024-11-26T00:00:00.000000000",
          "2024-11-27T00:00:00.000000000",
          "2024-11-28T00:00:00.000000000",
          "2024-11-29T00:00:00.000000000",
          "2024-11-30T00:00:00.000000000",
          "2024-12-01T00:00:00.000000000",
          "2024-12-02T00:00:00.000000000",
          "2024-12-03T00:00:00.000000000",
          "2024-12-04T00:00:00.000000000",
          "2024-12-05T00:00:00.000000000",
          "2024-12-06T00:00:00.000000000",
          "2024-12-07T00:00:00.000000000",
          "2024-12-08T00:00:00.000000000",
          "2024-12-09T00:00:00.000000000",
          "2024-12-10T00:00:00.000000000",
          "2024-12-11T00:00:00.000000000",
          "2024-12-12T00:00:00.000000000",
          "2024-12-13T00:00:00.000000000",
          "2024-12-14T00:00:00.000000000",
          "2024-12-15T00:00:00.000000000",
          "2024-12-16T00:00:00.000000000",
          "2024-12-17T00:00:00.000000000",
          "2024-12-18T00:00:00.000000000",
          "2024-12-19T00:00:00.000000000",
          "2024-12-20T00:00:00.000000000",
          "2024-12-21T00:00:00.000000000",
          "2024-12-22T00:00:00.000000000",
          "2024-12-23T00:00:00.000000000",
          "2024-12-24T00:00:00.000000000",
          "2024-12-25T00:00:00.000000000",
          "2024-12-26T00:00:00.000000000",
          "2024-12-27T00:00:00.000000000",
          "2024-12-28T00:00:00.000000000",
          "2024-12-29T00:00:00.000000000",
          "2024-12-30T00:00:00.000000000",
          "2024-12-31T00:00:00.000000000",
          "2025-01-01T00:00:00.000000000"
         ],
         "xaxis": "x",
         "y": {
          "bdata": "AAAAAACtukAAAAAAAD2+QAAAAACAEcBAAAAAAADnyUAAAAAAgFDCQAAAAAAARL9AAAAAAAAwskAAAAAAAGy4QAAAAAAAuMZAAAAAAADyuEAAAAAAADS0QAAAAACAqMFAAAAAAADqxEAAAAAAAO6/QAAAAAAA5LdAAAAAAABywkAAAAAAAD2+QAAAAAAAuMRAAAAAAADPs0AAAAAAgFrBQAAAAAAAyrhAAAAAAIDxwEAAAAAAANXAQAAAAAAAiLlAAAAAAAA7v0AAAAAAAP/CQAAAAAAAE8dAAAAAAAC4xEAAAAAAALLBQAAAAAAAcLNAAAAAAICewEAAAAAAAOi8QAAAAAAA0cBAAAAAAAD3yEAAAAAAgOHBQAAAAAAA779AAAAAAICOwUAAAAAAAPC0QAAAAAAAabhAAAAAAIDwwkAAAAAAABDBQAAAAAAAYbtAAAAAAACuwkAAAAAAADK+QAAAAAAA47NAAAAAAACYtUAAAAAAgF7AQAAAAAAA9r9AAAAAAADdxEAAAAAAANq2QAAAAAAAAblAAAAAAIALwkAAAAAAAPi/QAAAAAAAtr1AAAAAAABzw0AAAAAAAJa8QAAAAAAALLpAAAAAAACmvEAAAAAAANDAQAAAAAAA27tAAAAAAABGykAAAAAAgFjMQAAAAAAAqMFAAAAAAIAfwkAAAAAAAIPEQAAAAAAApL9AAAAAAADRtkAAAAAAANqzQAAAAAAAfbpAAAAAAACsukAAAAAAgLDAQAAAAACAqMFAAAAAAABAvkAAAAAAAEy1QAAAAACA68VAAAAAAAAcwUAAAAAAgPzBQAAAAACA88ZAAAAAAAC9vUAAAAAAAOi8QAAAAACAHsNAAAAAAIAbwUAAAAAAAA3GQAAAAAAA8cFAAAAAAABvu0AAAAAAAIy6QAAAAAAA7bRAAAAAAAD0xEAAAAAAAD3EQAAAAAAAib9AAAAAAAA6tEAAAAAAAMu3QAAAAACA5sJAAAAAAIDkwUAAAAAAAMjBQAAAAAAAWsFAAAAAAAC2zkAAAAAAgF7AQAAAAAAANb5AAAAAAAAJvkAAAAAAAAy5QAAAAAAADqlAAAAAAICNwEAAAAAAABK7QAAAAAAAbr9AAAAAAIARxUAAAAAAAO+5QAAAAAAAT8NAAAAAAAD4wkAAAAAAAKG8QAAAAACA2sBAAAAAAIBHwkAAAAAAALy3QAAAAACAIcBAAAAAAIBxyUAAAAAAAM68QAAAAAAAnL9AAAAAAAAhvkAAAAAAAELBQAAAAAAAwLxAAAAAAIDhxkAAAAAAAKbAQAAAAAAAWMJAAAAAAIBdzEAAAAAAAOnHQAAAAAAAArRAAAAAAACZsUAAAAAAAN66QAAAAAAAubtAAAAAAABitUAAAAAAgLPBQAAAAACAw8ZAAAAAAIAlw0AAAAAAAKi1QAAAAAAAoMJAAAAAAAD0w0AAAAAAAIuzQAAAAAAABsVAAAAAAAAmw0AAAAAAgLXCQAAAAAAAV7dAAAAAAABdxkAAAAAAAAGzQAAAAAAAbbhAAAAAAAA0wkAAAAAAAFPNQAAAAAAAw8ZAAAAAAAC9tUAAAAAAAEC2QAAAAAAA071AAAAAAAAA+H8AAAAAAAD4fwAAAAAAAPh/AAAAAIA+xEAAAAAAgAnAQAAAAACAH8JAAAAAAACiukAAAAAAAGrGQAAAAACAGMNAAAAAAABPzUAAAAAAAA3DQAAAAAAAXrRAAAAAAAB3uEAAAAAAAEnBQAAAAACABchAAAAAAABMqUAAAAAAANe5QAAAAACAc8dAAAAAAIBYwkAAAAAAAG3BQAAAAACAasFAAAAAAADuwUAAAAAAAGHGQAAAAAAAqr9AAAAAAACCwkAAAAAAAAS8QAAAAAAAAPh/AAAAAAAA+H8AAAAAAAD4fwAAAACAD8dAAAAAAAD7tkAAAAAAgN/AQAAAAACAxcBAAAAAAABUxEAAAAAAAHKpQA==",
          "dtype": "f8"
         },
         "yaxis": "y"
        }
       ],
       "layout": {
        "legend": {
         "tracegroupgap": 0
        },
        "template": {
         "data": {
          "bar": [
           {
            "error_x": {
             "color": "#2a3f5f"
            },
            "error_y": {
             "color": "#2a3f5f"
            },
            "marker": {
             "line": {
              "color": "#E5ECF6",
              "width": 0.5
             },
             "pattern": {
              "fillmode": "overlay",
              "size": 10,
              "solidity": 0.2
             }
            },
            "type": "bar"
           }
          ],
          "barpolar": [
           {
            "marker": {
             "line": {
              "color": "#E5ECF6",
              "width": 0.5
             },
             "pattern": {
              "fillmode": "overlay",
              "size": 10,
              "solidity": 0.2
             }
            },
            "type": "barpolar"
           }
          ],
          "carpet": [
           {
            "aaxis": {
             "endlinecolor": "#2a3f5f",
             "gridcolor": "white",
             "linecolor": "white",
             "minorgridcolor": "white",
             "startlinecolor": "#2a3f5f"
            },
            "baxis": {
             "endlinecolor": "#2a3f5f",
             "gridcolor": "white",
             "linecolor": "white",
             "minorgridcolor": "white",
             "startlinecolor": "#2a3f5f"
            },
            "type": "carpet"
           }
          ],
          "choropleth": [
           {
            "colorbar": {
             "outlinewidth": 0,
             "ticks": ""
            },
            "type": "choropleth"
           }
          ],
          "contour": [
           {
            "colorbar": {
             "outlinewidth": 0,
             "ticks": ""
            },
            "colorscale": [
             [
              0,
              "#0d0887"
             ],
             [
              0.1111111111111111,
              "#46039f"
             ],
             [
              0.2222222222222222,
              "#7201a8"
             ],
             [
              0.3333333333333333,
              "#9c179e"
             ],
             [
              0.4444444444444444,
              "#bd3786"
             ],
             [
              0.5555555555555556,
              "#d8576b"
             ],
             [
              0.6666666666666666,
              "#ed7953"
             ],
             [
              0.7777777777777778,
              "#fb9f3a"
             ],
             [
              0.8888888888888888,
              "#fdca26"
             ],
             [
              1,
              "#f0f921"
             ]
            ],
            "type": "contour"
           }
          ],
          "contourcarpet": [
           {
            "colorbar": {
             "outlinewidth": 0,
             "ticks": ""
            },
            "type": "contourcarpet"
           }
          ],
          "heatmap": [
           {
            "colorbar": {
             "outlinewidth": 0,
             "ticks": ""
            },
            "colorscale": [
             [
              0,
              "#0d0887"
             ],
             [
              0.1111111111111111,
              "#46039f"
             ],
             [
              0.2222222222222222,
              "#7201a8"
             ],
             [
              0.3333333333333333,
              "#9c179e"
             ],
             [
              0.4444444444444444,
              "#bd3786"
             ],
             [
              0.5555555555555556,
              "#d8576b"
             ],
             [
              0.6666666666666666,
              "#ed7953"
             ],
             [
              0.7777777777777778,
              "#fb9f3a"
             ],
             [
              0.8888888888888888,
              "#fdca26"
             ],
             [
              1,
              "#f0f921"
             ]
            ],
            "type": "heatmap"
           }
          ],
          "histogram": [
           {
            "marker": {
             "pattern": {
              "fillmode": "overlay",
              "size": 10,
              "solidity": 0.2
             }
            },
            "type": "histogram"
           }
          ],
          "histogram2d": [
           {
            "colorbar": {
             "outlinewidth": 0,
             "ticks": ""
            },
            "colorscale": [
             [
              0,
              "#0d0887"
             ],
             [
              0.1111111111111111,
              "#46039f"
             ],
             [
              0.2222222222222222,
              "#7201a8"
             ],
             [
              0.3333333333333333,
              "#9c179e"
             ],
             [
              0.4444444444444444,
              "#bd3786"
             ],
             [
              0.5555555555555556,
              "#d8576b"
             ],
             [
              0.6666666666666666,
              "#ed7953"
             ],
             [
              0.7777777777777778,
              "#fb9f3a"
             ],
             [
              0.8888888888888888,
              "#fdca26"
             ],
             [
              1,
              "#f0f921"
             ]
            ],
            "type": "histogram2d"
           }
          ],
          "histogram2dcontour": [
           {
            "colorbar": {
             "outlinewidth": 0,
             "ticks": ""
            },
            "colorscale": [
             [
              0,
              "#0d0887"
             ],
             [
              0.1111111111111111,
              "#46039f"
             ],
             [
              0.2222222222222222,
              "#7201a8"
             ],
             [
              0.3333333333333333,
              "#9c179e"
             ],
             [
              0.4444444444444444,
              "#bd3786"
             ],
             [
              0.5555555555555556,
              "#d8576b"
             ],
             [
              0.6666666666666666,
              "#ed7953"
             ],
             [
              0.7777777777777778,
              "#fb9f3a"
             ],
             [
              0.8888888888888888,
              "#fdca26"
             ],
             [
              1,
              "#f0f921"
             ]
            ],
            "type": "histogram2dcontour"
           }
          ],
          "mesh3d": [
           {
            "colorbar": {
             "outlinewidth": 0,
             "ticks": ""
            },
            "type": "mesh3d"
           }
          ],
          "parcoords": [
           {
            "line": {
             "colorbar": {
              "outlinewidth": 0,
              "ticks": ""
             }
            },
            "type": "parcoords"
           }
          ],
          "pie": [
           {
            "automargin": true,
            "type": "pie"
           }
          ],
          "scatter": [
           {
            "fillpattern": {
             "fillmode": "overlay",
             "size": 10,
             "solidity": 0.2
            },
            "type": "scatter"
           }
          ],
          "scatter3d": [
           {
            "line": {
             "colorbar": {
              "outlinewidth": 0,
              "ticks": ""
             }
            },
            "marker": {
             "colorbar": {
              "outlinewidth": 0,
              "ticks": ""
             }
            },
            "type": "scatter3d"
           }
          ],
          "scattercarpet": [
           {
            "marker": {
             "colorbar": {
              "outlinewidth": 0,
              "ticks": ""
             }
            },
            "type": "scattercarpet"
           }
          ],
          "scattergeo": [
           {
            "marker": {
             "colorbar": {
              "outlinewidth": 0,
              "ticks": ""
             }
            },
            "type": "scattergeo"
           }
          ],
          "scattergl": [
           {
            "marker": {
             "colorbar": {
              "outlinewidth": 0,
              "ticks": ""
             }
            },
            "type": "scattergl"
           }
          ],
          "scattermap": [
           {
            "marker": {
             "colorbar": {
              "outlinewidth": 0,
              "ticks": ""
             }
            },
            "type": "scattermap"
           }
          ],
          "scattermapbox": [
           {
            "marker": {
             "colorbar": {
              "outlinewidth": 0,
              "ticks": ""
             }
            },
            "type": "scattermapbox"
           }
          ],
          "scatterpolar": [
           {
            "marker": {
             "colorbar": {
              "outlinewidth": 0,
              "ticks": ""
             }
            },
            "type": "scatterpolar"
           }
          ],
          "scatterpolargl": [
           {
            "marker": {
             "colorbar": {
              "outlinewidth": 0,
              "ticks": ""
             }
            },
            "type": "scatterpolargl"
           }
          ],
          "scatterternary": [
           {
            "marker": {
             "colorbar": {
              "outlinewidth": 0,
              "ticks": ""
             }
            },
            "type": "scatterternary"
           }
          ],
          "surface": [
           {
            "colorbar": {
             "outlinewidth": 0,
             "ticks": ""
            },
            "colorscale": [
             [
              0,
              "#0d0887"
             ],
             [
              0.1111111111111111,
              "#46039f"
             ],
             [
              0.2222222222222222,
              "#7201a8"
             ],
             [
              0.3333333333333333,
              "#9c179e"
             ],
             [
              0.4444444444444444,
              "#bd3786"
             ],
             [
              0.5555555555555556,
              "#d8576b"
             ],
             [
              0.6666666666666666,
              "#ed7953"
             ],
             [
              0.7777777777777778,
              "#fb9f3a"
             ],
             [
              0.8888888888888888,
              "#fdca26"
             ],
             [
              1,
              "#f0f921"
             ]
            ],
            "type": "surface"
           }
          ],
          "table": [
           {
            "cells": {
             "fill": {
              "color": "#EBF0F8"
             },
             "line": {
              "color": "white"
             }
            },
            "header": {
             "fill": {
              "color": "#C8D4E3"
             },
             "line": {
              "color": "white"
             }
            },
            "type": "table"
           }
          ]
         },
         "layout": {
          "annotationdefaults": {
           "arrowcolor": "#2a3f5f",
           "arrowhead": 0,
           "arrowwidth": 1
          },
          "autotypenumbers": "strict",
          "coloraxis": {
           "colorbar": {
            "outlinewidth": 0,
            "ticks": ""
           }
          },
          "colorscale": {
           "diverging": [
            [
             0,
             "#8e0152"
            ],
            [
             0.1,
             "#c51b7d"
            ],
            [
             0.2,
             "#de77ae"
            ],
            [
             0.3,
             "#f1b6da"
            ],
            [
             0.4,
             "#fde0ef"
            ],
            [
             0.5,
             "#f7f7f7"
            ],
            [
             0.6,
             "#e6f5d0"
            ],
            [
             0.7,
             "#b8e186"
            ],
            [
             0.8,
             "#7fbc41"
            ],
            [
             0.9,
             "#4d9221"
            ],
            [
             1,
             "#276419"
            ]
           ],
           "sequential": [
            [
             0,
             "#0d0887"
            ],
            [
             0.1111111111111111,
             "#46039f"
            ],
            [
             0.2222222222222222,
             "#7201a8"
            ],
            [
             0.3333333333333333,
             "#9c179e"
            ],
            [
             0.4444444444444444,
             "#bd3786"
            ],
            [
             0.5555555555555556,
             "#d8576b"
            ],
            [
             0.6666666666666666,
             "#ed7953"
            ],
            [
             0.7777777777777778,
             "#fb9f3a"
            ],
            [
             0.8888888888888888,
             "#fdca26"
            ],
            [
             1,
             "#f0f921"
            ]
           ],
           "sequentialminus": [
            [
             0,
             "#0d0887"
            ],
            [
             0.1111111111111111,
             "#46039f"
            ],
            [
             0.2222222222222222,
             "#7201a8"
            ],
            [
             0.3333333333333333,
             "#9c179e"
            ],
            [
             0.4444444444444444,
             "#bd3786"
            ],
            [
             0.5555555555555556,
             "#d8576b"
            ],
            [
             0.6666666666666666,
             "#ed7953"
            ],
            [
             0.7777777777777778,
             "#fb9f3a"
            ],
            [
             0.8888888888888888,
             "#fdca26"
            ],
            [
             1,
             "#f0f921"
            ]
           ]
          },
          "colorway": [
           "#636efa",
           "#EF553B",
           "#00cc96",
           "#ab63fa",
           "#FFA15A",
           "#19d3f3",
           "#FF6692",
           "#B6E880",
           "#FF97FF",
           "#FECB52"
          ],
          "font": {
           "color": "#2a3f5f"
          },
          "geo": {
           "bgcolor": "white",
           "lakecolor": "white",
           "landcolor": "#E5ECF6",
           "showlakes": true,
           "showland": true,
           "subunitcolor": "white"
          },
          "hoverlabel": {
           "align": "left"
          },
          "hovermode": "closest",
          "mapbox": {
           "style": "light"
          },
          "paper_bgcolor": "white",
          "plot_bgcolor": "#E5ECF6",
          "polar": {
           "angularaxis": {
            "gridcolor": "white",
            "linecolor": "white",
            "ticks": ""
           },
           "bgcolor": "#E5ECF6",
           "radialaxis": {
            "gridcolor": "white",
            "linecolor": "white",
            "ticks": ""
           }
          },
          "scene": {
           "xaxis": {
            "backgroundcolor": "#E5ECF6",
            "gridcolor": "white",
            "gridwidth": 2,
            "linecolor": "white",
            "showbackground": true,
            "ticks": "",
            "zerolinecolor": "white"
           },
           "yaxis": {
            "backgroundcolor": "#E5ECF6",
            "gridcolor": "white",
            "gridwidth": 2,
            "linecolor": "white",
            "showbackground": true,
            "ticks": "",
            "zerolinecolor": "white"
           },
           "zaxis": {
            "backgroundcolor": "#E5ECF6",
            "gridcolor": "white",
            "gridwidth": 2,
            "linecolor": "white",
            "showbackground": true,
            "ticks": "",
            "zerolinecolor": "white"
           }
          },
          "shapedefaults": {
           "line": {
            "color": "#2a3f5f"
           }
          },
          "ternary": {
           "aaxis": {
            "gridcolor": "white",
            "linecolor": "white",
            "ticks": ""
           },
           "baxis": {
            "gridcolor": "white",
            "linecolor": "white",
            "ticks": ""
           },
           "bgcolor": "#E5ECF6",
           "caxis": {
            "gridcolor": "white",
            "linecolor": "white",
            "ticks": ""
           }
          },
          "title": {
           "x": 0.05
          },
          "xaxis": {
           "automargin": true,
           "gridcolor": "white",
           "linecolor": "white",
           "ticks": "",
           "title": {
            "standoff": 15
           },
           "zerolinecolor": "white",
           "zerolinewidth": 2
          },
          "yaxis": {
           "automargin": true,
           "gridcolor": "white",
           "linecolor": "white",
           "ticks": "",
           "title": {
            "standoff": 15
           },
           "zerolinecolor": "white",
           "zerolinewidth": 2
          }
         }
        },
        "title": {
         "text": "Number of Steps Over Time"
        },
        "xaxis": {
         "anchor": "y",
         "domain": [
          0,
          1
         ],
         "title": {
          "text": "Date"
         }
        },
        "yaxis": {
         "anchor": "x",
         "domain": [
          0,
          1
         ],
         "title": {
          "text": "Number of Steps"
         }
        }
       }
      }
     },
     "metadata": {},
     "output_type": "display_data"
    }
   ],
   "source": [
    "# Create a line chart for the number of steps over time\n",
    "fig = px.line(fitness_data, x='date', y='steps', title='Number of Steps Over Time',\n",
    "              labels={'steps': 'Number of Steps', 'date': 'Date'},\n",
    "              markers=True)\n",
    "fig.show()"
   ]
  },
  {
   "cell_type": "code",
   "execution_count": 43,
   "id": "dc1128d2",
   "metadata": {},
   "outputs": [
    {
     "data": {
      "application/vnd.plotly.v1+json": {
       "config": {
        "plotlyServerURL": "https://plot.ly"
       },
       "data": [
        {
         "bingroup": "x",
         "hovertemplate": "Total Calories Burned=%{x}<br>count=%{y}<extra></extra>",
         "legendgroup": "",
         "marker": {
          "color": "#636efa",
          "pattern": {
           "shape": ""
          }
         },
         "name": "",
         "nbinsx": 30,
         "orientation": "v",
         "showlegend": false,
         "type": "histogram",
         "x": {
          "bdata": "AAAAAADAhEAAAAAAAKCEQAAAAAAASItAAAAAAABkkUAAAAAAALCIQAAAAAAA4IVAAAAAAABwf0AAAAAAAGCEQAAAAAAAsI9AAAAAAABghUAAAAAAAIiCQAAAAAAAiItAAAAAAABwjEAAAAAAAIiHQAAAAAAAgIJAAAAAAACIkUAAAAAAACCHQAAAAAAAmItAAAAAAAB4gkAAAAAAAIiLQAAAAAAAMIFAAAAAAACwiEAAAAAAANCIQAAAAAAA0IJAAAAAAABAjEAAAAAAAJCQQAAAAAAAaJBAAAAAAABojUAAAAAAALCIQAAAAAAAcHpAAAAAAACghUAAAAAAAPCGQAAAAAAA4IdAAAAAAADIkkAAAAAAABiJQAAAAAAA0IZAAAAAAAAoiEAAAAAAANiBQAAAAAAAaIRAAAAAAAAEkkAAAAAAAIiUQAAAAAAA4IpAAAAAAAAgjkAAAAAAAMCHQAAAAAAASIFAAAAAAACYgEAAAAAAABiQQAAAAAAAUI9AAAAAAAB4jUAAAAAAADCDQAAAAAAAeIdAAAAAAACAjEAAAAAAAPCGQAAAAAAAsIpAAAAAAACAjUAAAAAAAEiLQAAAAAAAaIlAAAAAAACQhkAAAAAAABB5QAAAAAAAAIVAAAAAAAA8k0AAAAAAAPiSQAAAAAAA8ItAAAAAAAAQj0AAAAAAADCNQAAAAAAA0ItAAAAAAACQgkAAAAAAABCDQAAAAAAACIpAAAAAAADogUAAAAAAAHiHQAAAAAAAEIpAAAAAAAAIiUAAAAAAAHiDQAAAAAAAUJRAAAAAAABYjkAAAAAAACiMQAAAAAAA5JBAAAAAAABAhkAAAAAAAFCJQAAAAAAAwIlAAAAAAADQiEAAAAAAADiRQAAAAAAAUItAAAAAAACQhkAAAAAAAICHQAAAAAAAoIFAAAAAAABYjkAAAAAAAAiUQAAAAAAAuI1AAAAAAAC4g0AAAAAAADiHQAAAAAAAWIpAAAAAAADghUAAAAAAAJCMQAAAAAAAeJBAAAAAAACUmEAAAAAAAGCOQAAAAAAAoItAAAAAAACAiEAAAAAAAMCEQAAAAAAA8HJAAAAAAAAQiUAAAAAAAACXQAAAAAAAPJFAAAAAAAD4j0AAAAAAAKiEQAAAAAAA8IpAAAAAAAB4jEAAAAAAAMiHQAAAAAAAQJBAAAAAAACQi0AAAAAAAECHQAAAAAAA0IhAAAAAAAA8kUAAAAAAAECGQAAAAAAAKJJAAAAAAACghkAAAAAAAPCLQAAAAAAAiIZAAAAAAAAAj0AAAAAAANiLQAAAAAAAuIhAAAAAAABwk0AAAAAAALyVQAAAAAAAMINAAAAAAACogEAAAAAAAJCKQAAAAAAA0JFAAAAAAADgf0AAAAAAAAyRQAAAAAAAlJNAAAAAAADgikAAAAAAAFCFQAAAAAAAgJFAAAAAAABokUAAAAAAAHCCQAAAAAAACI9AAAAAAAAYjUAAAAAAAPiJQAAAAAAA+IBAAAAAAADgj0AAAAAAAJiAQAAAAAAASIZAAAAAAABgk0AAAAAAANSUQAAAAAAAYI5AAAAAAADogUAAAAAAAMCCQAAAAAAAWIVAAAAAAAAA+H8AAAAAAAD4fwAAAAAAAPh/AAAAAACckEAAAAAAADiHQAAAAAAASIpAAAAAAABQiUAAAAAAAMCOQAAAAAAAYI5AAAAAAACslEAAAAAAAGiQQAAAAAAAIHxAAAAAAABghEAAAAAAADCRQAAAAAAAeJBAAAAAAADwd0AAAAAAADiGQAAAAAAAqI9AAAAAAADAiEAAAAAAAPiKQAAAAAAAIIhAAAAAAAAojUAAAAAAAHCTQAAAAAAAMItAAAAAAACYi0AAAAAAAFCEQAAAAAAAAPh/AAAAAAAA+H8AAAAAAAD4fwAAAAAAdJJAAAAAAABAhkAAAAAAAFCLQAAAAAAAUItAAAAAAAAgjEAAAAAAAICIQA==",
          "dtype": "f8"
         },
         "xaxis": "x",
         "yaxis": "y"
        }
       ],
       "layout": {
        "barmode": "relative",
        "legend": {
         "tracegroupgap": 0
        },
        "template": {
         "data": {
          "bar": [
           {
            "error_x": {
             "color": "#2a3f5f"
            },
            "error_y": {
             "color": "#2a3f5f"
            },
            "marker": {
             "line": {
              "color": "#E5ECF6",
              "width": 0.5
             },
             "pattern": {
              "fillmode": "overlay",
              "size": 10,
              "solidity": 0.2
             }
            },
            "type": "bar"
           }
          ],
          "barpolar": [
           {
            "marker": {
             "line": {
              "color": "#E5ECF6",
              "width": 0.5
             },
             "pattern": {
              "fillmode": "overlay",
              "size": 10,
              "solidity": 0.2
             }
            },
            "type": "barpolar"
           }
          ],
          "carpet": [
           {
            "aaxis": {
             "endlinecolor": "#2a3f5f",
             "gridcolor": "white",
             "linecolor": "white",
             "minorgridcolor": "white",
             "startlinecolor": "#2a3f5f"
            },
            "baxis": {
             "endlinecolor": "#2a3f5f",
             "gridcolor": "white",
             "linecolor": "white",
             "minorgridcolor": "white",
             "startlinecolor": "#2a3f5f"
            },
            "type": "carpet"
           }
          ],
          "choropleth": [
           {
            "colorbar": {
             "outlinewidth": 0,
             "ticks": ""
            },
            "type": "choropleth"
           }
          ],
          "contour": [
           {
            "colorbar": {
             "outlinewidth": 0,
             "ticks": ""
            },
            "colorscale": [
             [
              0,
              "#0d0887"
             ],
             [
              0.1111111111111111,
              "#46039f"
             ],
             [
              0.2222222222222222,
              "#7201a8"
             ],
             [
              0.3333333333333333,
              "#9c179e"
             ],
             [
              0.4444444444444444,
              "#bd3786"
             ],
             [
              0.5555555555555556,
              "#d8576b"
             ],
             [
              0.6666666666666666,
              "#ed7953"
             ],
             [
              0.7777777777777778,
              "#fb9f3a"
             ],
             [
              0.8888888888888888,
              "#fdca26"
             ],
             [
              1,
              "#f0f921"
             ]
            ],
            "type": "contour"
           }
          ],
          "contourcarpet": [
           {
            "colorbar": {
             "outlinewidth": 0,
             "ticks": ""
            },
            "type": "contourcarpet"
           }
          ],
          "heatmap": [
           {
            "colorbar": {
             "outlinewidth": 0,
             "ticks": ""
            },
            "colorscale": [
             [
              0,
              "#0d0887"
             ],
             [
              0.1111111111111111,
              "#46039f"
             ],
             [
              0.2222222222222222,
              "#7201a8"
             ],
             [
              0.3333333333333333,
              "#9c179e"
             ],
             [
              0.4444444444444444,
              "#bd3786"
             ],
             [
              0.5555555555555556,
              "#d8576b"
             ],
             [
              0.6666666666666666,
              "#ed7953"
             ],
             [
              0.7777777777777778,
              "#fb9f3a"
             ],
             [
              0.8888888888888888,
              "#fdca26"
             ],
             [
              1,
              "#f0f921"
             ]
            ],
            "type": "heatmap"
           }
          ],
          "histogram": [
           {
            "marker": {
             "pattern": {
              "fillmode": "overlay",
              "size": 10,
              "solidity": 0.2
             }
            },
            "type": "histogram"
           }
          ],
          "histogram2d": [
           {
            "colorbar": {
             "outlinewidth": 0,
             "ticks": ""
            },
            "colorscale": [
             [
              0,
              "#0d0887"
             ],
             [
              0.1111111111111111,
              "#46039f"
             ],
             [
              0.2222222222222222,
              "#7201a8"
             ],
             [
              0.3333333333333333,
              "#9c179e"
             ],
             [
              0.4444444444444444,
              "#bd3786"
             ],
             [
              0.5555555555555556,
              "#d8576b"
             ],
             [
              0.6666666666666666,
              "#ed7953"
             ],
             [
              0.7777777777777778,
              "#fb9f3a"
             ],
             [
              0.8888888888888888,
              "#fdca26"
             ],
             [
              1,
              "#f0f921"
             ]
            ],
            "type": "histogram2d"
           }
          ],
          "histogram2dcontour": [
           {
            "colorbar": {
             "outlinewidth": 0,
             "ticks": ""
            },
            "colorscale": [
             [
              0,
              "#0d0887"
             ],
             [
              0.1111111111111111,
              "#46039f"
             ],
             [
              0.2222222222222222,
              "#7201a8"
             ],
             [
              0.3333333333333333,
              "#9c179e"
             ],
             [
              0.4444444444444444,
              "#bd3786"
             ],
             [
              0.5555555555555556,
              "#d8576b"
             ],
             [
              0.6666666666666666,
              "#ed7953"
             ],
             [
              0.7777777777777778,
              "#fb9f3a"
             ],
             [
              0.8888888888888888,
              "#fdca26"
             ],
             [
              1,
              "#f0f921"
             ]
            ],
            "type": "histogram2dcontour"
           }
          ],
          "mesh3d": [
           {
            "colorbar": {
             "outlinewidth": 0,
             "ticks": ""
            },
            "type": "mesh3d"
           }
          ],
          "parcoords": [
           {
            "line": {
             "colorbar": {
              "outlinewidth": 0,
              "ticks": ""
             }
            },
            "type": "parcoords"
           }
          ],
          "pie": [
           {
            "automargin": true,
            "type": "pie"
           }
          ],
          "scatter": [
           {
            "fillpattern": {
             "fillmode": "overlay",
             "size": 10,
             "solidity": 0.2
            },
            "type": "scatter"
           }
          ],
          "scatter3d": [
           {
            "line": {
             "colorbar": {
              "outlinewidth": 0,
              "ticks": ""
             }
            },
            "marker": {
             "colorbar": {
              "outlinewidth": 0,
              "ticks": ""
             }
            },
            "type": "scatter3d"
           }
          ],
          "scattercarpet": [
           {
            "marker": {
             "colorbar": {
              "outlinewidth": 0,
              "ticks": ""
             }
            },
            "type": "scattercarpet"
           }
          ],
          "scattergeo": [
           {
            "marker": {
             "colorbar": {
              "outlinewidth": 0,
              "ticks": ""
             }
            },
            "type": "scattergeo"
           }
          ],
          "scattergl": [
           {
            "marker": {
             "colorbar": {
              "outlinewidth": 0,
              "ticks": ""
             }
            },
            "type": "scattergl"
           }
          ],
          "scattermap": [
           {
            "marker": {
             "colorbar": {
              "outlinewidth": 0,
              "ticks": ""
             }
            },
            "type": "scattermap"
           }
          ],
          "scattermapbox": [
           {
            "marker": {
             "colorbar": {
              "outlinewidth": 0,
              "ticks": ""
             }
            },
            "type": "scattermapbox"
           }
          ],
          "scatterpolar": [
           {
            "marker": {
             "colorbar": {
              "outlinewidth": 0,
              "ticks": ""
             }
            },
            "type": "scatterpolar"
           }
          ],
          "scatterpolargl": [
           {
            "marker": {
             "colorbar": {
              "outlinewidth": 0,
              "ticks": ""
             }
            },
            "type": "scatterpolargl"
           }
          ],
          "scatterternary": [
           {
            "marker": {
             "colorbar": {
              "outlinewidth": 0,
              "ticks": ""
             }
            },
            "type": "scatterternary"
           }
          ],
          "surface": [
           {
            "colorbar": {
             "outlinewidth": 0,
             "ticks": ""
            },
            "colorscale": [
             [
              0,
              "#0d0887"
             ],
             [
              0.1111111111111111,
              "#46039f"
             ],
             [
              0.2222222222222222,
              "#7201a8"
             ],
             [
              0.3333333333333333,
              "#9c179e"
             ],
             [
              0.4444444444444444,
              "#bd3786"
             ],
             [
              0.5555555555555556,
              "#d8576b"
             ],
             [
              0.6666666666666666,
              "#ed7953"
             ],
             [
              0.7777777777777778,
              "#fb9f3a"
             ],
             [
              0.8888888888888888,
              "#fdca26"
             ],
             [
              1,
              "#f0f921"
             ]
            ],
            "type": "surface"
           }
          ],
          "table": [
           {
            "cells": {
             "fill": {
              "color": "#EBF0F8"
             },
             "line": {
              "color": "white"
             }
            },
            "header": {
             "fill": {
              "color": "#C8D4E3"
             },
             "line": {
              "color": "white"
             }
            },
            "type": "table"
           }
          ]
         },
         "layout": {
          "annotationdefaults": {
           "arrowcolor": "#2a3f5f",
           "arrowhead": 0,
           "arrowwidth": 1
          },
          "autotypenumbers": "strict",
          "coloraxis": {
           "colorbar": {
            "outlinewidth": 0,
            "ticks": ""
           }
          },
          "colorscale": {
           "diverging": [
            [
             0,
             "#8e0152"
            ],
            [
             0.1,
             "#c51b7d"
            ],
            [
             0.2,
             "#de77ae"
            ],
            [
             0.3,
             "#f1b6da"
            ],
            [
             0.4,
             "#fde0ef"
            ],
            [
             0.5,
             "#f7f7f7"
            ],
            [
             0.6,
             "#e6f5d0"
            ],
            [
             0.7,
             "#b8e186"
            ],
            [
             0.8,
             "#7fbc41"
            ],
            [
             0.9,
             "#4d9221"
            ],
            [
             1,
             "#276419"
            ]
           ],
           "sequential": [
            [
             0,
             "#0d0887"
            ],
            [
             0.1111111111111111,
             "#46039f"
            ],
            [
             0.2222222222222222,
             "#7201a8"
            ],
            [
             0.3333333333333333,
             "#9c179e"
            ],
            [
             0.4444444444444444,
             "#bd3786"
            ],
            [
             0.5555555555555556,
             "#d8576b"
            ],
            [
             0.6666666666666666,
             "#ed7953"
            ],
            [
             0.7777777777777778,
             "#fb9f3a"
            ],
            [
             0.8888888888888888,
             "#fdca26"
            ],
            [
             1,
             "#f0f921"
            ]
           ],
           "sequentialminus": [
            [
             0,
             "#0d0887"
            ],
            [
             0.1111111111111111,
             "#46039f"
            ],
            [
             0.2222222222222222,
             "#7201a8"
            ],
            [
             0.3333333333333333,
             "#9c179e"
            ],
            [
             0.4444444444444444,
             "#bd3786"
            ],
            [
             0.5555555555555556,
             "#d8576b"
            ],
            [
             0.6666666666666666,
             "#ed7953"
            ],
            [
             0.7777777777777778,
             "#fb9f3a"
            ],
            [
             0.8888888888888888,
             "#fdca26"
            ],
            [
             1,
             "#f0f921"
            ]
           ]
          },
          "colorway": [
           "#636efa",
           "#EF553B",
           "#00cc96",
           "#ab63fa",
           "#FFA15A",
           "#19d3f3",
           "#FF6692",
           "#B6E880",
           "#FF97FF",
           "#FECB52"
          ],
          "font": {
           "color": "#2a3f5f"
          },
          "geo": {
           "bgcolor": "white",
           "lakecolor": "white",
           "landcolor": "#E5ECF6",
           "showlakes": true,
           "showland": true,
           "subunitcolor": "white"
          },
          "hoverlabel": {
           "align": "left"
          },
          "hovermode": "closest",
          "mapbox": {
           "style": "light"
          },
          "paper_bgcolor": "white",
          "plot_bgcolor": "#E5ECF6",
          "polar": {
           "angularaxis": {
            "gridcolor": "white",
            "linecolor": "white",
            "ticks": ""
           },
           "bgcolor": "#E5ECF6",
           "radialaxis": {
            "gridcolor": "white",
            "linecolor": "white",
            "ticks": ""
           }
          },
          "scene": {
           "xaxis": {
            "backgroundcolor": "#E5ECF6",
            "gridcolor": "white",
            "gridwidth": 2,
            "linecolor": "white",
            "showbackground": true,
            "ticks": "",
            "zerolinecolor": "white"
           },
           "yaxis": {
            "backgroundcolor": "#E5ECF6",
            "gridcolor": "white",
            "gridwidth": 2,
            "linecolor": "white",
            "showbackground": true,
            "ticks": "",
            "zerolinecolor": "white"
           },
           "zaxis": {
            "backgroundcolor": "#E5ECF6",
            "gridcolor": "white",
            "gridwidth": 2,
            "linecolor": "white",
            "showbackground": true,
            "ticks": "",
            "zerolinecolor": "white"
           }
          },
          "shapedefaults": {
           "line": {
            "color": "#2a3f5f"
           }
          },
          "ternary": {
           "aaxis": {
            "gridcolor": "white",
            "linecolor": "white",
            "ticks": ""
           },
           "baxis": {
            "gridcolor": "white",
            "linecolor": "white",
            "ticks": ""
           },
           "bgcolor": "#E5ECF6",
           "caxis": {
            "gridcolor": "white",
            "linecolor": "white",
            "ticks": ""
           }
          },
          "title": {
           "x": 0.05
          },
          "xaxis": {
           "automargin": true,
           "gridcolor": "white",
           "linecolor": "white",
           "ticks": "",
           "title": {
            "standoff": 15
           },
           "zerolinecolor": "white",
           "zerolinewidth": 2
          },
          "yaxis": {
           "automargin": true,
           "gridcolor": "white",
           "linecolor": "white",
           "ticks": "",
           "title": {
            "standoff": 15
           },
           "zerolinecolor": "white",
           "zerolinewidth": 2
          }
         }
        },
        "title": {
         "text": "Distribution of Calories Burned"
        },
        "xaxis": {
         "anchor": "y",
         "domain": [
          0,
          1
         ],
         "title": {
          "text": "Total Calories Burned"
         }
        },
        "yaxis": {
         "anchor": "x",
         "domain": [
          0,
          1
         ],
         "title": {
          "text": "count"
         }
        }
       }
      }
     },
     "metadata": {},
     "output_type": "display_data"
    }
   ],
   "source": [
    "# Distribution of calories burned\n",
    "cals_hist = px.histogram(fitness_data, x='total_calories_burned', title='Distribution of Calories Burned',\n",
    "                              labels={'total_calories_burned': 'Total Calories Burned'}, nbins=30)\n",
    "cals_hist.show()"
   ]
  },
  {
   "cell_type": "code",
   "execution_count": 44,
   "id": "76a82bf4",
   "metadata": {},
   "outputs": [
    {
     "data": {
      "application/vnd.plotly.v1+json": {
       "config": {
        "plotlyServerURL": "https://plot.ly"
       },
       "data": [
        {
         "hovertemplate": "Date=%{x}<br>Total Calories Burned=%{y}<extra></extra>",
         "legendgroup": "",
         "line": {
          "color": "#636efa",
          "dash": "solid"
         },
         "marker": {
          "symbol": "circle"
         },
         "mode": "lines+markers",
         "name": "",
         "orientation": "v",
         "showlegend": false,
         "type": "scatter",
         "x": [
          "2024-07-01T00:00:00.000000000",
          "2024-07-02T00:00:00.000000000",
          "2024-07-03T00:00:00.000000000",
          "2024-07-04T00:00:00.000000000",
          "2024-07-05T00:00:00.000000000",
          "2024-07-06T00:00:00.000000000",
          "2024-07-07T00:00:00.000000000",
          "2024-07-08T00:00:00.000000000",
          "2024-07-09T00:00:00.000000000",
          "2024-07-10T00:00:00.000000000",
          "2024-07-11T00:00:00.000000000",
          "2024-07-12T00:00:00.000000000",
          "2024-07-13T00:00:00.000000000",
          "2024-07-14T00:00:00.000000000",
          "2024-07-15T00:00:00.000000000",
          "2024-07-16T00:00:00.000000000",
          "2024-07-17T00:00:00.000000000",
          "2024-07-18T00:00:00.000000000",
          "2024-07-19T00:00:00.000000000",
          "2024-07-20T00:00:00.000000000",
          "2024-07-21T00:00:00.000000000",
          "2024-07-22T00:00:00.000000000",
          "2024-07-23T00:00:00.000000000",
          "2024-07-24T00:00:00.000000000",
          "2024-07-25T00:00:00.000000000",
          "2024-07-26T00:00:00.000000000",
          "2024-07-27T00:00:00.000000000",
          "2024-07-28T00:00:00.000000000",
          "2024-07-29T00:00:00.000000000",
          "2024-07-30T00:00:00.000000000",
          "2024-07-31T00:00:00.000000000",
          "2024-08-01T00:00:00.000000000",
          "2024-08-02T00:00:00.000000000",
          "2024-08-03T00:00:00.000000000",
          "2024-08-04T00:00:00.000000000",
          "2024-08-05T00:00:00.000000000",
          "2024-08-06T00:00:00.000000000",
          "2024-08-07T00:00:00.000000000",
          "2024-08-08T00:00:00.000000000",
          "2024-08-09T00:00:00.000000000",
          "2024-08-10T00:00:00.000000000",
          "2024-08-11T00:00:00.000000000",
          "2024-08-12T00:00:00.000000000",
          "2024-08-13T00:00:00.000000000",
          "2024-08-14T00:00:00.000000000",
          "2024-08-15T00:00:00.000000000",
          "2024-08-16T00:00:00.000000000",
          "2024-08-17T00:00:00.000000000",
          "2024-08-18T00:00:00.000000000",
          "2024-08-19T00:00:00.000000000",
          "2024-08-20T00:00:00.000000000",
          "2024-08-21T00:00:00.000000000",
          "2024-08-22T00:00:00.000000000",
          "2024-08-23T00:00:00.000000000",
          "2024-08-24T00:00:00.000000000",
          "2024-08-25T00:00:00.000000000",
          "2024-08-26T00:00:00.000000000",
          "2024-08-27T00:00:00.000000000",
          "2024-08-28T00:00:00.000000000",
          "2024-08-29T00:00:00.000000000",
          "2024-08-30T00:00:00.000000000",
          "2024-08-31T00:00:00.000000000",
          "2024-09-01T00:00:00.000000000",
          "2024-09-02T00:00:00.000000000",
          "2024-09-03T00:00:00.000000000",
          "2024-09-04T00:00:00.000000000",
          "2024-09-05T00:00:00.000000000",
          "2024-09-06T00:00:00.000000000",
          "2024-09-07T00:00:00.000000000",
          "2024-09-08T00:00:00.000000000",
          "2024-09-09T00:00:00.000000000",
          "2024-09-10T00:00:00.000000000",
          "2024-09-11T00:00:00.000000000",
          "2024-09-12T00:00:00.000000000",
          "2024-09-13T00:00:00.000000000",
          "2024-09-14T00:00:00.000000000",
          "2024-09-15T00:00:00.000000000",
          "2024-09-16T00:00:00.000000000",
          "2024-09-17T00:00:00.000000000",
          "2024-09-18T00:00:00.000000000",
          "2024-09-19T00:00:00.000000000",
          "2024-09-20T00:00:00.000000000",
          "2024-09-21T00:00:00.000000000",
          "2024-09-22T00:00:00.000000000",
          "2024-09-23T00:00:00.000000000",
          "2024-09-24T00:00:00.000000000",
          "2024-09-25T00:00:00.000000000",
          "2024-09-26T00:00:00.000000000",
          "2024-09-27T00:00:00.000000000",
          "2024-09-28T00:00:00.000000000",
          "2024-09-29T00:00:00.000000000",
          "2024-09-30T00:00:00.000000000",
          "2024-10-01T00:00:00.000000000",
          "2024-10-02T00:00:00.000000000",
          "2024-10-03T00:00:00.000000000",
          "2024-10-04T00:00:00.000000000",
          "2024-10-05T00:00:00.000000000",
          "2024-10-06T00:00:00.000000000",
          "2024-10-07T00:00:00.000000000",
          "2024-10-08T00:00:00.000000000",
          "2024-10-09T00:00:00.000000000",
          "2024-10-10T00:00:00.000000000",
          "2024-10-11T00:00:00.000000000",
          "2024-10-12T00:00:00.000000000",
          "2024-10-13T00:00:00.000000000",
          "2024-10-14T00:00:00.000000000",
          "2024-10-15T00:00:00.000000000",
          "2024-10-16T00:00:00.000000000",
          "2024-10-17T00:00:00.000000000",
          "2024-10-18T00:00:00.000000000",
          "2024-10-19T00:00:00.000000000",
          "2024-10-20T00:00:00.000000000",
          "2024-10-21T00:00:00.000000000",
          "2024-10-22T00:00:00.000000000",
          "2024-10-23T00:00:00.000000000",
          "2024-10-24T00:00:00.000000000",
          "2024-10-25T00:00:00.000000000",
          "2024-10-26T00:00:00.000000000",
          "2024-10-27T00:00:00.000000000",
          "2024-10-28T00:00:00.000000000",
          "2024-10-29T00:00:00.000000000",
          "2024-10-30T00:00:00.000000000",
          "2024-10-31T00:00:00.000000000",
          "2024-11-01T00:00:00.000000000",
          "2024-11-02T00:00:00.000000000",
          "2024-11-03T00:00:00.000000000",
          "2024-11-04T00:00:00.000000000",
          "2024-11-05T00:00:00.000000000",
          "2024-11-06T00:00:00.000000000",
          "2024-11-07T00:00:00.000000000",
          "2024-11-08T00:00:00.000000000",
          "2024-11-09T00:00:00.000000000",
          "2024-11-10T00:00:00.000000000",
          "2024-11-11T00:00:00.000000000",
          "2024-11-12T00:00:00.000000000",
          "2024-11-13T00:00:00.000000000",
          "2024-11-14T00:00:00.000000000",
          "2024-11-15T00:00:00.000000000",
          "2024-11-16T00:00:00.000000000",
          "2024-11-17T00:00:00.000000000",
          "2024-11-18T00:00:00.000000000",
          "2024-11-19T00:00:00.000000000",
          "2024-11-20T00:00:00.000000000",
          "2024-11-21T00:00:00.000000000",
          "2024-11-22T00:00:00.000000000",
          "2024-11-23T00:00:00.000000000",
          "2024-11-24T00:00:00.000000000",
          "2024-11-25T00:00:00.000000000",
          "2024-11-26T00:00:00.000000000",
          "2024-11-27T00:00:00.000000000",
          "2024-11-28T00:00:00.000000000",
          "2024-11-29T00:00:00.000000000",
          "2024-11-30T00:00:00.000000000",
          "2024-12-01T00:00:00.000000000",
          "2024-12-02T00:00:00.000000000",
          "2024-12-03T00:00:00.000000000",
          "2024-12-04T00:00:00.000000000",
          "2024-12-05T00:00:00.000000000",
          "2024-12-06T00:00:00.000000000",
          "2024-12-07T00:00:00.000000000",
          "2024-12-08T00:00:00.000000000",
          "2024-12-09T00:00:00.000000000",
          "2024-12-10T00:00:00.000000000",
          "2024-12-11T00:00:00.000000000",
          "2024-12-12T00:00:00.000000000",
          "2024-12-13T00:00:00.000000000",
          "2024-12-14T00:00:00.000000000",
          "2024-12-15T00:00:00.000000000",
          "2024-12-16T00:00:00.000000000",
          "2024-12-17T00:00:00.000000000",
          "2024-12-18T00:00:00.000000000",
          "2024-12-19T00:00:00.000000000",
          "2024-12-20T00:00:00.000000000",
          "2024-12-21T00:00:00.000000000",
          "2024-12-22T00:00:00.000000000",
          "2024-12-23T00:00:00.000000000",
          "2024-12-24T00:00:00.000000000",
          "2024-12-25T00:00:00.000000000",
          "2024-12-26T00:00:00.000000000",
          "2024-12-27T00:00:00.000000000",
          "2024-12-28T00:00:00.000000000",
          "2024-12-29T00:00:00.000000000",
          "2024-12-30T00:00:00.000000000",
          "2024-12-31T00:00:00.000000000",
          "2025-01-01T00:00:00.000000000"
         ],
         "xaxis": "x",
         "y": {
          "bdata": "AAAAAADAhEAAAAAAAKCEQAAAAAAASItAAAAAAABkkUAAAAAAALCIQAAAAAAA4IVAAAAAAABwf0AAAAAAAGCEQAAAAAAAsI9AAAAAAABghUAAAAAAAIiCQAAAAAAAiItAAAAAAABwjEAAAAAAAIiHQAAAAAAAgIJAAAAAAACIkUAAAAAAACCHQAAAAAAAmItAAAAAAAB4gkAAAAAAAIiLQAAAAAAAMIFAAAAAAACwiEAAAAAAANCIQAAAAAAA0IJAAAAAAABAjEAAAAAAAJCQQAAAAAAAaJBAAAAAAABojUAAAAAAALCIQAAAAAAAcHpAAAAAAACghUAAAAAAAPCGQAAAAAAA4IdAAAAAAADIkkAAAAAAABiJQAAAAAAA0IZAAAAAAAAoiEAAAAAAANiBQAAAAAAAaIRAAAAAAAAEkkAAAAAAAIiUQAAAAAAA4IpAAAAAAAAgjkAAAAAAAMCHQAAAAAAASIFAAAAAAACYgEAAAAAAABiQQAAAAAAAUI9AAAAAAAB4jUAAAAAAADCDQAAAAAAAeIdAAAAAAACAjEAAAAAAAPCGQAAAAAAAsIpAAAAAAACAjUAAAAAAAEiLQAAAAAAAaIlAAAAAAACQhkAAAAAAABB5QAAAAAAAAIVAAAAAAAA8k0AAAAAAAPiSQAAAAAAA8ItAAAAAAAAQj0AAAAAAADCNQAAAAAAA0ItAAAAAAACQgkAAAAAAABCDQAAAAAAACIpAAAAAAADogUAAAAAAAHiHQAAAAAAAEIpAAAAAAAAIiUAAAAAAAHiDQAAAAAAAUJRAAAAAAABYjkAAAAAAACiMQAAAAAAA5JBAAAAAAABAhkAAAAAAAFCJQAAAAAAAwIlAAAAAAADQiEAAAAAAADiRQAAAAAAAUItAAAAAAACQhkAAAAAAAICHQAAAAAAAoIFAAAAAAABYjkAAAAAAAAiUQAAAAAAAuI1AAAAAAAC4g0AAAAAAADiHQAAAAAAAWIpAAAAAAADghUAAAAAAAJCMQAAAAAAAeJBAAAAAAACUmEAAAAAAAGCOQAAAAAAAoItAAAAAAACAiEAAAAAAAMCEQAAAAAAA8HJAAAAAAAAQiUAAAAAAAACXQAAAAAAAPJFAAAAAAAD4j0AAAAAAAKiEQAAAAAAA8IpAAAAAAAB4jEAAAAAAAMiHQAAAAAAAQJBAAAAAAACQi0AAAAAAAECHQAAAAAAA0IhAAAAAAAA8kUAAAAAAAECGQAAAAAAAKJJAAAAAAACghkAAAAAAAPCLQAAAAAAAiIZAAAAAAAAAj0AAAAAAANiLQAAAAAAAuIhAAAAAAABwk0AAAAAAALyVQAAAAAAAMINAAAAAAACogEAAAAAAAJCKQAAAAAAA0JFAAAAAAADgf0AAAAAAAAyRQAAAAAAAlJNAAAAAAADgikAAAAAAAFCFQAAAAAAAgJFAAAAAAABokUAAAAAAAHCCQAAAAAAACI9AAAAAAAAYjUAAAAAAAPiJQAAAAAAA+IBAAAAAAADgj0AAAAAAAJiAQAAAAAAASIZAAAAAAABgk0AAAAAAANSUQAAAAAAAYI5AAAAAAADogUAAAAAAAMCCQAAAAAAAWIVAAAAAAAAA+H8AAAAAAAD4fwAAAAAAAPh/AAAAAACckEAAAAAAADiHQAAAAAAASIpAAAAAAABQiUAAAAAAAMCOQAAAAAAAYI5AAAAAAACslEAAAAAAAGiQQAAAAAAAIHxAAAAAAABghEAAAAAAADCRQAAAAAAAeJBAAAAAAADwd0AAAAAAADiGQAAAAAAAqI9AAAAAAADAiEAAAAAAAPiKQAAAAAAAIIhAAAAAAAAojUAAAAAAAHCTQAAAAAAAMItAAAAAAACYi0AAAAAAAFCEQAAAAAAAAPh/AAAAAAAA+H8AAAAAAAD4fwAAAAAAdJJAAAAAAABAhkAAAAAAAFCLQAAAAAAAUItAAAAAAAAgjEAAAAAAAICIQA==",
          "dtype": "f8"
         },
         "yaxis": "y"
        }
       ],
       "layout": {
        "legend": {
         "tracegroupgap": 0
        },
        "template": {
         "data": {
          "bar": [
           {
            "error_x": {
             "color": "#2a3f5f"
            },
            "error_y": {
             "color": "#2a3f5f"
            },
            "marker": {
             "line": {
              "color": "#E5ECF6",
              "width": 0.5
             },
             "pattern": {
              "fillmode": "overlay",
              "size": 10,
              "solidity": 0.2
             }
            },
            "type": "bar"
           }
          ],
          "barpolar": [
           {
            "marker": {
             "line": {
              "color": "#E5ECF6",
              "width": 0.5
             },
             "pattern": {
              "fillmode": "overlay",
              "size": 10,
              "solidity": 0.2
             }
            },
            "type": "barpolar"
           }
          ],
          "carpet": [
           {
            "aaxis": {
             "endlinecolor": "#2a3f5f",
             "gridcolor": "white",
             "linecolor": "white",
             "minorgridcolor": "white",
             "startlinecolor": "#2a3f5f"
            },
            "baxis": {
             "endlinecolor": "#2a3f5f",
             "gridcolor": "white",
             "linecolor": "white",
             "minorgridcolor": "white",
             "startlinecolor": "#2a3f5f"
            },
            "type": "carpet"
           }
          ],
          "choropleth": [
           {
            "colorbar": {
             "outlinewidth": 0,
             "ticks": ""
            },
            "type": "choropleth"
           }
          ],
          "contour": [
           {
            "colorbar": {
             "outlinewidth": 0,
             "ticks": ""
            },
            "colorscale": [
             [
              0,
              "#0d0887"
             ],
             [
              0.1111111111111111,
              "#46039f"
             ],
             [
              0.2222222222222222,
              "#7201a8"
             ],
             [
              0.3333333333333333,
              "#9c179e"
             ],
             [
              0.4444444444444444,
              "#bd3786"
             ],
             [
              0.5555555555555556,
              "#d8576b"
             ],
             [
              0.6666666666666666,
              "#ed7953"
             ],
             [
              0.7777777777777778,
              "#fb9f3a"
             ],
             [
              0.8888888888888888,
              "#fdca26"
             ],
             [
              1,
              "#f0f921"
             ]
            ],
            "type": "contour"
           }
          ],
          "contourcarpet": [
           {
            "colorbar": {
             "outlinewidth": 0,
             "ticks": ""
            },
            "type": "contourcarpet"
           }
          ],
          "heatmap": [
           {
            "colorbar": {
             "outlinewidth": 0,
             "ticks": ""
            },
            "colorscale": [
             [
              0,
              "#0d0887"
             ],
             [
              0.1111111111111111,
              "#46039f"
             ],
             [
              0.2222222222222222,
              "#7201a8"
             ],
             [
              0.3333333333333333,
              "#9c179e"
             ],
             [
              0.4444444444444444,
              "#bd3786"
             ],
             [
              0.5555555555555556,
              "#d8576b"
             ],
             [
              0.6666666666666666,
              "#ed7953"
             ],
             [
              0.7777777777777778,
              "#fb9f3a"
             ],
             [
              0.8888888888888888,
              "#fdca26"
             ],
             [
              1,
              "#f0f921"
             ]
            ],
            "type": "heatmap"
           }
          ],
          "histogram": [
           {
            "marker": {
             "pattern": {
              "fillmode": "overlay",
              "size": 10,
              "solidity": 0.2
             }
            },
            "type": "histogram"
           }
          ],
          "histogram2d": [
           {
            "colorbar": {
             "outlinewidth": 0,
             "ticks": ""
            },
            "colorscale": [
             [
              0,
              "#0d0887"
             ],
             [
              0.1111111111111111,
              "#46039f"
             ],
             [
              0.2222222222222222,
              "#7201a8"
             ],
             [
              0.3333333333333333,
              "#9c179e"
             ],
             [
              0.4444444444444444,
              "#bd3786"
             ],
             [
              0.5555555555555556,
              "#d8576b"
             ],
             [
              0.6666666666666666,
              "#ed7953"
             ],
             [
              0.7777777777777778,
              "#fb9f3a"
             ],
             [
              0.8888888888888888,
              "#fdca26"
             ],
             [
              1,
              "#f0f921"
             ]
            ],
            "type": "histogram2d"
           }
          ],
          "histogram2dcontour": [
           {
            "colorbar": {
             "outlinewidth": 0,
             "ticks": ""
            },
            "colorscale": [
             [
              0,
              "#0d0887"
             ],
             [
              0.1111111111111111,
              "#46039f"
             ],
             [
              0.2222222222222222,
              "#7201a8"
             ],
             [
              0.3333333333333333,
              "#9c179e"
             ],
             [
              0.4444444444444444,
              "#bd3786"
             ],
             [
              0.5555555555555556,
              "#d8576b"
             ],
             [
              0.6666666666666666,
              "#ed7953"
             ],
             [
              0.7777777777777778,
              "#fb9f3a"
             ],
             [
              0.8888888888888888,
              "#fdca26"
             ],
             [
              1,
              "#f0f921"
             ]
            ],
            "type": "histogram2dcontour"
           }
          ],
          "mesh3d": [
           {
            "colorbar": {
             "outlinewidth": 0,
             "ticks": ""
            },
            "type": "mesh3d"
           }
          ],
          "parcoords": [
           {
            "line": {
             "colorbar": {
              "outlinewidth": 0,
              "ticks": ""
             }
            },
            "type": "parcoords"
           }
          ],
          "pie": [
           {
            "automargin": true,
            "type": "pie"
           }
          ],
          "scatter": [
           {
            "fillpattern": {
             "fillmode": "overlay",
             "size": 10,
             "solidity": 0.2
            },
            "type": "scatter"
           }
          ],
          "scatter3d": [
           {
            "line": {
             "colorbar": {
              "outlinewidth": 0,
              "ticks": ""
             }
            },
            "marker": {
             "colorbar": {
              "outlinewidth": 0,
              "ticks": ""
             }
            },
            "type": "scatter3d"
           }
          ],
          "scattercarpet": [
           {
            "marker": {
             "colorbar": {
              "outlinewidth": 0,
              "ticks": ""
             }
            },
            "type": "scattercarpet"
           }
          ],
          "scattergeo": [
           {
            "marker": {
             "colorbar": {
              "outlinewidth": 0,
              "ticks": ""
             }
            },
            "type": "scattergeo"
           }
          ],
          "scattergl": [
           {
            "marker": {
             "colorbar": {
              "outlinewidth": 0,
              "ticks": ""
             }
            },
            "type": "scattergl"
           }
          ],
          "scattermap": [
           {
            "marker": {
             "colorbar": {
              "outlinewidth": 0,
              "ticks": ""
             }
            },
            "type": "scattermap"
           }
          ],
          "scattermapbox": [
           {
            "marker": {
             "colorbar": {
              "outlinewidth": 0,
              "ticks": ""
             }
            },
            "type": "scattermapbox"
           }
          ],
          "scatterpolar": [
           {
            "marker": {
             "colorbar": {
              "outlinewidth": 0,
              "ticks": ""
             }
            },
            "type": "scatterpolar"
           }
          ],
          "scatterpolargl": [
           {
            "marker": {
             "colorbar": {
              "outlinewidth": 0,
              "ticks": ""
             }
            },
            "type": "scatterpolargl"
           }
          ],
          "scatterternary": [
           {
            "marker": {
             "colorbar": {
              "outlinewidth": 0,
              "ticks": ""
             }
            },
            "type": "scatterternary"
           }
          ],
          "surface": [
           {
            "colorbar": {
             "outlinewidth": 0,
             "ticks": ""
            },
            "colorscale": [
             [
              0,
              "#0d0887"
             ],
             [
              0.1111111111111111,
              "#46039f"
             ],
             [
              0.2222222222222222,
              "#7201a8"
             ],
             [
              0.3333333333333333,
              "#9c179e"
             ],
             [
              0.4444444444444444,
              "#bd3786"
             ],
             [
              0.5555555555555556,
              "#d8576b"
             ],
             [
              0.6666666666666666,
              "#ed7953"
             ],
             [
              0.7777777777777778,
              "#fb9f3a"
             ],
             [
              0.8888888888888888,
              "#fdca26"
             ],
             [
              1,
              "#f0f921"
             ]
            ],
            "type": "surface"
           }
          ],
          "table": [
           {
            "cells": {
             "fill": {
              "color": "#EBF0F8"
             },
             "line": {
              "color": "white"
             }
            },
            "header": {
             "fill": {
              "color": "#C8D4E3"
             },
             "line": {
              "color": "white"
             }
            },
            "type": "table"
           }
          ]
         },
         "layout": {
          "annotationdefaults": {
           "arrowcolor": "#2a3f5f",
           "arrowhead": 0,
           "arrowwidth": 1
          },
          "autotypenumbers": "strict",
          "coloraxis": {
           "colorbar": {
            "outlinewidth": 0,
            "ticks": ""
           }
          },
          "colorscale": {
           "diverging": [
            [
             0,
             "#8e0152"
            ],
            [
             0.1,
             "#c51b7d"
            ],
            [
             0.2,
             "#de77ae"
            ],
            [
             0.3,
             "#f1b6da"
            ],
            [
             0.4,
             "#fde0ef"
            ],
            [
             0.5,
             "#f7f7f7"
            ],
            [
             0.6,
             "#e6f5d0"
            ],
            [
             0.7,
             "#b8e186"
            ],
            [
             0.8,
             "#7fbc41"
            ],
            [
             0.9,
             "#4d9221"
            ],
            [
             1,
             "#276419"
            ]
           ],
           "sequential": [
            [
             0,
             "#0d0887"
            ],
            [
             0.1111111111111111,
             "#46039f"
            ],
            [
             0.2222222222222222,
             "#7201a8"
            ],
            [
             0.3333333333333333,
             "#9c179e"
            ],
            [
             0.4444444444444444,
             "#bd3786"
            ],
            [
             0.5555555555555556,
             "#d8576b"
            ],
            [
             0.6666666666666666,
             "#ed7953"
            ],
            [
             0.7777777777777778,
             "#fb9f3a"
            ],
            [
             0.8888888888888888,
             "#fdca26"
            ],
            [
             1,
             "#f0f921"
            ]
           ],
           "sequentialminus": [
            [
             0,
             "#0d0887"
            ],
            [
             0.1111111111111111,
             "#46039f"
            ],
            [
             0.2222222222222222,
             "#7201a8"
            ],
            [
             0.3333333333333333,
             "#9c179e"
            ],
            [
             0.4444444444444444,
             "#bd3786"
            ],
            [
             0.5555555555555556,
             "#d8576b"
            ],
            [
             0.6666666666666666,
             "#ed7953"
            ],
            [
             0.7777777777777778,
             "#fb9f3a"
            ],
            [
             0.8888888888888888,
             "#fdca26"
            ],
            [
             1,
             "#f0f921"
            ]
           ]
          },
          "colorway": [
           "#636efa",
           "#EF553B",
           "#00cc96",
           "#ab63fa",
           "#FFA15A",
           "#19d3f3",
           "#FF6692",
           "#B6E880",
           "#FF97FF",
           "#FECB52"
          ],
          "font": {
           "color": "#2a3f5f"
          },
          "geo": {
           "bgcolor": "white",
           "lakecolor": "white",
           "landcolor": "#E5ECF6",
           "showlakes": true,
           "showland": true,
           "subunitcolor": "white"
          },
          "hoverlabel": {
           "align": "left"
          },
          "hovermode": "closest",
          "mapbox": {
           "style": "light"
          },
          "paper_bgcolor": "white",
          "plot_bgcolor": "#E5ECF6",
          "polar": {
           "angularaxis": {
            "gridcolor": "white",
            "linecolor": "white",
            "ticks": ""
           },
           "bgcolor": "#E5ECF6",
           "radialaxis": {
            "gridcolor": "white",
            "linecolor": "white",
            "ticks": ""
           }
          },
          "scene": {
           "xaxis": {
            "backgroundcolor": "#E5ECF6",
            "gridcolor": "white",
            "gridwidth": 2,
            "linecolor": "white",
            "showbackground": true,
            "ticks": "",
            "zerolinecolor": "white"
           },
           "yaxis": {
            "backgroundcolor": "#E5ECF6",
            "gridcolor": "white",
            "gridwidth": 2,
            "linecolor": "white",
            "showbackground": true,
            "ticks": "",
            "zerolinecolor": "white"
           },
           "zaxis": {
            "backgroundcolor": "#E5ECF6",
            "gridcolor": "white",
            "gridwidth": 2,
            "linecolor": "white",
            "showbackground": true,
            "ticks": "",
            "zerolinecolor": "white"
           }
          },
          "shapedefaults": {
           "line": {
            "color": "#2a3f5f"
           }
          },
          "ternary": {
           "aaxis": {
            "gridcolor": "white",
            "linecolor": "white",
            "ticks": ""
           },
           "baxis": {
            "gridcolor": "white",
            "linecolor": "white",
            "ticks": ""
           },
           "bgcolor": "#E5ECF6",
           "caxis": {
            "gridcolor": "white",
            "linecolor": "white",
            "ticks": ""
           }
          },
          "title": {
           "x": 0.05
          },
          "xaxis": {
           "automargin": true,
           "gridcolor": "white",
           "linecolor": "white",
           "ticks": "",
           "title": {
            "standoff": 15
           },
           "zerolinecolor": "white",
           "zerolinewidth": 2
          },
          "yaxis": {
           "automargin": true,
           "gridcolor": "white",
           "linecolor": "white",
           "ticks": "",
           "title": {
            "standoff": 15
           },
           "zerolinecolor": "white",
           "zerolinewidth": 2
          }
         }
        },
        "title": {
         "text": "Total Calories Burned Over Time"
        },
        "xaxis": {
         "anchor": "y",
         "domain": [
          0,
          1
         ],
         "title": {
          "text": "Date"
         }
        },
        "yaxis": {
         "anchor": "x",
         "domain": [
          0,
          1
         ],
         "title": {
          "text": "Total Calories Burned"
         }
        }
       }
      }
     },
     "metadata": {},
     "output_type": "display_data"
    }
   ],
   "source": [
    "# Create a line chart for the number of calories burned over time\n",
    "fig_calories = px.line(fitness_data, x='date', y='total_calories_burned', \n",
    "                       title='Total Calories Burned Over Time',\n",
    "                       labels={'total_calories_burned': 'Total Calories Burned', 'date': 'Date'},\n",
    "                       markers=True)\n",
    "fig_calories.show()"
   ]
  },
  {
   "cell_type": "code",
   "execution_count": 45,
   "id": "7ba88750",
   "metadata": {},
   "outputs": [
    {
     "data": {
      "application/vnd.plotly.v1+json": {
       "config": {
        "plotlyServerURL": "https://plot.ly"
       },
       "data": [
        {
         "hovertemplate": "Date=%{x}<br>Weight=%{y}<extra></extra>",
         "legendgroup": "",
         "line": {
          "color": "#636efa",
          "dash": "solid"
         },
         "marker": {
          "symbol": "circle"
         },
         "mode": "lines",
         "name": "",
         "orientation": "v",
         "showlegend": false,
         "type": "scatter",
         "x": [
          "2024-07-01T00:00:00.000000000",
          "2024-07-02T00:00:00.000000000",
          "2024-07-03T00:00:00.000000000",
          "2024-07-04T00:00:00.000000000",
          "2024-07-05T00:00:00.000000000",
          "2024-07-06T00:00:00.000000000",
          "2024-07-07T00:00:00.000000000",
          "2024-07-08T00:00:00.000000000",
          "2024-07-09T00:00:00.000000000",
          "2024-07-10T00:00:00.000000000",
          "2024-07-11T00:00:00.000000000",
          "2024-07-12T00:00:00.000000000",
          "2024-07-13T00:00:00.000000000",
          "2024-07-14T00:00:00.000000000",
          "2024-07-15T00:00:00.000000000",
          "2024-07-16T00:00:00.000000000",
          "2024-07-17T00:00:00.000000000",
          "2024-07-18T00:00:00.000000000",
          "2024-07-19T00:00:00.000000000",
          "2024-07-20T00:00:00.000000000",
          "2024-07-21T00:00:00.000000000",
          "2024-07-22T00:00:00.000000000",
          "2024-07-23T00:00:00.000000000",
          "2024-07-24T00:00:00.000000000",
          "2024-07-25T00:00:00.000000000",
          "2024-07-26T00:00:00.000000000",
          "2024-07-27T00:00:00.000000000",
          "2024-07-28T00:00:00.000000000",
          "2024-07-29T00:00:00.000000000",
          "2024-07-30T00:00:00.000000000",
          "2024-07-31T00:00:00.000000000",
          "2024-08-01T00:00:00.000000000",
          "2024-08-02T00:00:00.000000000",
          "2024-08-03T00:00:00.000000000",
          "2024-08-04T00:00:00.000000000",
          "2024-08-05T00:00:00.000000000",
          "2024-08-06T00:00:00.000000000",
          "2024-08-07T00:00:00.000000000",
          "2024-08-08T00:00:00.000000000",
          "2024-08-09T00:00:00.000000000",
          "2024-08-10T00:00:00.000000000",
          "2024-08-11T00:00:00.000000000",
          "2024-08-12T00:00:00.000000000",
          "2024-08-13T00:00:00.000000000",
          "2024-08-14T00:00:00.000000000",
          "2024-08-15T00:00:00.000000000",
          "2024-08-16T00:00:00.000000000",
          "2024-08-17T00:00:00.000000000",
          "2024-08-18T00:00:00.000000000",
          "2024-08-19T00:00:00.000000000",
          "2024-08-20T00:00:00.000000000",
          "2024-08-21T00:00:00.000000000",
          "2024-08-22T00:00:00.000000000",
          "2024-08-23T00:00:00.000000000",
          "2024-08-24T00:00:00.000000000",
          "2024-08-25T00:00:00.000000000",
          "2024-08-26T00:00:00.000000000",
          "2024-08-27T00:00:00.000000000",
          "2024-08-28T00:00:00.000000000",
          "2024-08-29T00:00:00.000000000",
          "2024-08-30T00:00:00.000000000",
          "2024-08-31T00:00:00.000000000",
          "2024-09-01T00:00:00.000000000",
          "2024-09-02T00:00:00.000000000",
          "2024-09-03T00:00:00.000000000",
          "2024-09-04T00:00:00.000000000",
          "2024-09-05T00:00:00.000000000",
          "2024-09-06T00:00:00.000000000",
          "2024-09-07T00:00:00.000000000",
          "2024-09-08T00:00:00.000000000",
          "2024-09-09T00:00:00.000000000",
          "2024-09-10T00:00:00.000000000",
          "2024-09-11T00:00:00.000000000",
          "2024-09-12T00:00:00.000000000",
          "2024-09-13T00:00:00.000000000",
          "2024-09-14T00:00:00.000000000",
          "2024-09-15T00:00:00.000000000",
          "2024-09-16T00:00:00.000000000",
          "2024-09-17T00:00:00.000000000",
          "2024-09-18T00:00:00.000000000",
          "2024-09-19T00:00:00.000000000",
          "2024-09-20T00:00:00.000000000",
          "2024-09-21T00:00:00.000000000",
          "2024-09-22T00:00:00.000000000",
          "2024-09-23T00:00:00.000000000",
          "2024-09-24T00:00:00.000000000",
          "2024-09-25T00:00:00.000000000",
          "2024-09-26T00:00:00.000000000",
          "2024-09-27T00:00:00.000000000",
          "2024-09-28T00:00:00.000000000",
          "2024-09-29T00:00:00.000000000",
          "2024-09-30T00:00:00.000000000",
          "2024-10-01T00:00:00.000000000",
          "2024-10-02T00:00:00.000000000",
          "2024-10-03T00:00:00.000000000",
          "2024-10-04T00:00:00.000000000",
          "2024-10-05T00:00:00.000000000",
          "2024-10-06T00:00:00.000000000",
          "2024-10-07T00:00:00.000000000",
          "2024-10-08T00:00:00.000000000",
          "2024-10-09T00:00:00.000000000",
          "2024-10-10T00:00:00.000000000",
          "2024-10-11T00:00:00.000000000",
          "2024-10-12T00:00:00.000000000",
          "2024-10-13T00:00:00.000000000",
          "2024-10-14T00:00:00.000000000",
          "2024-10-15T00:00:00.000000000",
          "2024-10-16T00:00:00.000000000",
          "2024-10-17T00:00:00.000000000",
          "2024-10-18T00:00:00.000000000",
          "2024-10-19T00:00:00.000000000",
          "2024-10-20T00:00:00.000000000",
          "2024-10-21T00:00:00.000000000",
          "2024-10-22T00:00:00.000000000",
          "2024-10-23T00:00:00.000000000",
          "2024-10-24T00:00:00.000000000",
          "2024-10-25T00:00:00.000000000",
          "2024-10-26T00:00:00.000000000",
          "2024-10-27T00:00:00.000000000",
          "2024-10-28T00:00:00.000000000",
          "2024-10-29T00:00:00.000000000",
          "2024-10-30T00:00:00.000000000",
          "2024-10-31T00:00:00.000000000",
          "2024-11-01T00:00:00.000000000",
          "2024-11-02T00:00:00.000000000",
          "2024-11-03T00:00:00.000000000",
          "2024-11-04T00:00:00.000000000",
          "2024-11-05T00:00:00.000000000",
          "2024-11-06T00:00:00.000000000",
          "2024-11-07T00:00:00.000000000",
          "2024-11-08T00:00:00.000000000",
          "2024-11-09T00:00:00.000000000",
          "2024-11-10T00:00:00.000000000",
          "2024-11-11T00:00:00.000000000",
          "2024-11-12T00:00:00.000000000",
          "2024-11-13T00:00:00.000000000",
          "2024-11-14T00:00:00.000000000",
          "2024-11-15T00:00:00.000000000",
          "2024-11-16T00:00:00.000000000",
          "2024-11-17T00:00:00.000000000",
          "2024-11-18T00:00:00.000000000",
          "2024-11-19T00:00:00.000000000",
          "2024-11-20T00:00:00.000000000",
          "2024-11-21T00:00:00.000000000",
          "2024-11-22T00:00:00.000000000",
          "2024-11-23T00:00:00.000000000",
          "2024-11-24T00:00:00.000000000",
          "2024-11-25T00:00:00.000000000",
          "2024-11-26T00:00:00.000000000",
          "2024-11-27T00:00:00.000000000",
          "2024-11-28T00:00:00.000000000",
          "2024-11-29T00:00:00.000000000",
          "2024-11-30T00:00:00.000000000",
          "2024-12-01T00:00:00.000000000",
          "2024-12-02T00:00:00.000000000",
          "2024-12-03T00:00:00.000000000",
          "2024-12-04T00:00:00.000000000",
          "2024-12-05T00:00:00.000000000",
          "2024-12-06T00:00:00.000000000",
          "2024-12-07T00:00:00.000000000",
          "2024-12-08T00:00:00.000000000",
          "2024-12-09T00:00:00.000000000",
          "2024-12-10T00:00:00.000000000",
          "2024-12-11T00:00:00.000000000",
          "2024-12-12T00:00:00.000000000",
          "2024-12-13T00:00:00.000000000",
          "2024-12-14T00:00:00.000000000",
          "2024-12-15T00:00:00.000000000",
          "2024-12-16T00:00:00.000000000",
          "2024-12-17T00:00:00.000000000",
          "2024-12-18T00:00:00.000000000",
          "2024-12-19T00:00:00.000000000",
          "2024-12-20T00:00:00.000000000",
          "2024-12-21T00:00:00.000000000",
          "2024-12-22T00:00:00.000000000",
          "2024-12-23T00:00:00.000000000",
          "2024-12-24T00:00:00.000000000",
          "2024-12-25T00:00:00.000000000",
          "2024-12-26T00:00:00.000000000",
          "2024-12-27T00:00:00.000000000",
          "2024-12-28T00:00:00.000000000",
          "2024-12-29T00:00:00.000000000",
          "2024-12-30T00:00:00.000000000",
          "2024-12-31T00:00:00.000000000",
          "2025-01-01T00:00:00.000000000"
         ],
         "xaxis": "x",
         "y": {
          "bdata": "mFQUFeXPUkD5W1o1iLpSQClcj8L1yFJAzczMzMzMUkDhehSuR9FSQPYoXI/C1VJACtejcD3aUkAxuYnpQNFSQATfuAWhqFJA16NwPQrnUkB7FK5H4epSQB+F61G47lJAe1H3lji7UkDXo3A9CvdSQHsUrkfh+lJAH4XrUbj+UkDD9ShcjwJTQGZmZmZmBlNAmpmZmZkJU0A9CtejcA1TQHE9CtejEFNApHA9CtcTU0BI4XoUrhdTQArXo3A9GlNAPQrXo3AdU0BxPQrXoyBTQDMzMzMzI1NA9ihcj8IlU0C4HoXrUShTQHsUrkfhKlNAPQrXo3AtU0CPwvUoXC9TQHsUrkfhKlNApHA9CtczU0AzMzMzMzNTQNejcD0KN1NAuB6F61E4U0AK16NwPTpTQOxRuB6FO1NAXI/C9Sg8U0BI4XoUrjdTQK5H4XoUPlNAH4XrUbg+U0CkcD0K10NTQFK4HoXrQVNAFK5H4XpEU0D2KFyPwkVTQDMzMzMzQ1NASOF6FK5HU0CPwvUoXD9TQHE9CtejQFNArkfhehQ+U0DhehSuRzFTQFyPwvUoPFNA7FG4HoU7U0AK16NwPTpTQEjhehSuN1NA7FG4HoU7U0CF61G4HjVTQEjhehSuN1NAUrgehesxU0CPwvUoXC9TQHE9CtejAFNAhetRuB71UkDNzMzMzNxSQDMzMzMz01JAMzMzMzPzUkCamZmZmclSQEjhehSut1JAZmZmZmaWUkB7FK5H4YpSQM3MzMzMbFJAexSuR+FqUkB7FK5H4VpSQMP1KFyPUlJAZmZmZmZWUkDsUbgehUtSQK5H4XoUTlJACtejcD1aUkBmZmZmZlZSQOxRuB6FS1JAFK5H4XokUkBSuB6F6zFSQIXrUbgeVVJAexSuR+FKUkDD9Shcj2JSQNejcD0KR1JA7FG4HoU7UkCPwvUoXC9SQDMzMzMzI1JA7FG4HoUbUkDhehSuRxFSQM3MzMzMHFJA4XoUrkcxUkDNzMzMzCxSQGZmZmZmNlJACtejcD06UkCuR+F6FP5RQDMzMzMzA1JAXI/C9Sj8UUBI4XoUrvdRQNejcD0KB1JAFK5H4XoUUkAK16NwPRpSQHsUrkfhKlJAPQrXo3AtUkBmZmZmZjZSQOxRuB6FO1JAFK5H4XpEUkBI4XoUrkdSQHsUrkfhSlJAw/UoXI9CUkB7FK5H4SpSQBSuR+F6JFJAuB6F61FoUkBcj8L1KGxSQMP1KFyPYlJAFK5H4XpkUkDNzMzMzFxSQI/C9ShcX1JASOF6FK5XUkAzMzMzM2NSQMP1KFyPUlJA7FG4HoVrUkCuR+F6FE5SQFyPwvUoTFJAexSuR+FKUkApXI/C9UhSQEjhehSuR1JAexSuR+FKUkCuR+F6FE5SQPYoXI/CVVJAw/UoXI9CUkBSuB6F60FSQOF6FK5HQVJAcT0K16NAUkCuR+F6FD5SQBSuR+F6RFJAexSuR+FKUkAzMzMzM0NSQNejcD0Kx1FAMzMzMzMDUkB7FK5H4QpSQIXrUbgeFVJAj8L1KFwPUkBcj8L1KAxSQOF6FK5HMVJAhetRuB5FUkD2KFyPwlVSQB+F61G4XlJAAAAAAAAA+H8AAAAAAAD4fwAAAAAAAPh/4XoUrkfxUkDXo3A9CvdSQClcj8L16FJAcT0K16MAU0CamZmZmQlTQPYoXI/CBVNAFK5H4XoEU0CamZmZmQlTQFyPwvUoDFNAH4XrUbgOU0D2KFyPwhVTQM3MzMzMHFNAcT0K16MgU0CPwvUoXA9TQIXrUbgeFVNAexSuR+EKU0CPwvUoXB9TQIXrUbgeFVNA4XoUrkcRU0AfhetRuC5TQKRwPQrXM1NA7FG4HoUrU0CPwvUoXB9TQAAAAAAAAPh/AAAAAAAA+H8AAAAAAAD4f3E9CtejgFNAXI/C9ShsU0DXo3A9CmdTQI/C9ShcX1NAMzMzMzNjU0B7FK5H4YpTQA==",
          "dtype": "f8"
         },
         "yaxis": "y"
        }
       ],
       "layout": {
        "legend": {
         "tracegroupgap": 0
        },
        "template": {
         "data": {
          "bar": [
           {
            "error_x": {
             "color": "#2a3f5f"
            },
            "error_y": {
             "color": "#2a3f5f"
            },
            "marker": {
             "line": {
              "color": "#E5ECF6",
              "width": 0.5
             },
             "pattern": {
              "fillmode": "overlay",
              "size": 10,
              "solidity": 0.2
             }
            },
            "type": "bar"
           }
          ],
          "barpolar": [
           {
            "marker": {
             "line": {
              "color": "#E5ECF6",
              "width": 0.5
             },
             "pattern": {
              "fillmode": "overlay",
              "size": 10,
              "solidity": 0.2
             }
            },
            "type": "barpolar"
           }
          ],
          "carpet": [
           {
            "aaxis": {
             "endlinecolor": "#2a3f5f",
             "gridcolor": "white",
             "linecolor": "white",
             "minorgridcolor": "white",
             "startlinecolor": "#2a3f5f"
            },
            "baxis": {
             "endlinecolor": "#2a3f5f",
             "gridcolor": "white",
             "linecolor": "white",
             "minorgridcolor": "white",
             "startlinecolor": "#2a3f5f"
            },
            "type": "carpet"
           }
          ],
          "choropleth": [
           {
            "colorbar": {
             "outlinewidth": 0,
             "ticks": ""
            },
            "type": "choropleth"
           }
          ],
          "contour": [
           {
            "colorbar": {
             "outlinewidth": 0,
             "ticks": ""
            },
            "colorscale": [
             [
              0,
              "#0d0887"
             ],
             [
              0.1111111111111111,
              "#46039f"
             ],
             [
              0.2222222222222222,
              "#7201a8"
             ],
             [
              0.3333333333333333,
              "#9c179e"
             ],
             [
              0.4444444444444444,
              "#bd3786"
             ],
             [
              0.5555555555555556,
              "#d8576b"
             ],
             [
              0.6666666666666666,
              "#ed7953"
             ],
             [
              0.7777777777777778,
              "#fb9f3a"
             ],
             [
              0.8888888888888888,
              "#fdca26"
             ],
             [
              1,
              "#f0f921"
             ]
            ],
            "type": "contour"
           }
          ],
          "contourcarpet": [
           {
            "colorbar": {
             "outlinewidth": 0,
             "ticks": ""
            },
            "type": "contourcarpet"
           }
          ],
          "heatmap": [
           {
            "colorbar": {
             "outlinewidth": 0,
             "ticks": ""
            },
            "colorscale": [
             [
              0,
              "#0d0887"
             ],
             [
              0.1111111111111111,
              "#46039f"
             ],
             [
              0.2222222222222222,
              "#7201a8"
             ],
             [
              0.3333333333333333,
              "#9c179e"
             ],
             [
              0.4444444444444444,
              "#bd3786"
             ],
             [
              0.5555555555555556,
              "#d8576b"
             ],
             [
              0.6666666666666666,
              "#ed7953"
             ],
             [
              0.7777777777777778,
              "#fb9f3a"
             ],
             [
              0.8888888888888888,
              "#fdca26"
             ],
             [
              1,
              "#f0f921"
             ]
            ],
            "type": "heatmap"
           }
          ],
          "histogram": [
           {
            "marker": {
             "pattern": {
              "fillmode": "overlay",
              "size": 10,
              "solidity": 0.2
             }
            },
            "type": "histogram"
           }
          ],
          "histogram2d": [
           {
            "colorbar": {
             "outlinewidth": 0,
             "ticks": ""
            },
            "colorscale": [
             [
              0,
              "#0d0887"
             ],
             [
              0.1111111111111111,
              "#46039f"
             ],
             [
              0.2222222222222222,
              "#7201a8"
             ],
             [
              0.3333333333333333,
              "#9c179e"
             ],
             [
              0.4444444444444444,
              "#bd3786"
             ],
             [
              0.5555555555555556,
              "#d8576b"
             ],
             [
              0.6666666666666666,
              "#ed7953"
             ],
             [
              0.7777777777777778,
              "#fb9f3a"
             ],
             [
              0.8888888888888888,
              "#fdca26"
             ],
             [
              1,
              "#f0f921"
             ]
            ],
            "type": "histogram2d"
           }
          ],
          "histogram2dcontour": [
           {
            "colorbar": {
             "outlinewidth": 0,
             "ticks": ""
            },
            "colorscale": [
             [
              0,
              "#0d0887"
             ],
             [
              0.1111111111111111,
              "#46039f"
             ],
             [
              0.2222222222222222,
              "#7201a8"
             ],
             [
              0.3333333333333333,
              "#9c179e"
             ],
             [
              0.4444444444444444,
              "#bd3786"
             ],
             [
              0.5555555555555556,
              "#d8576b"
             ],
             [
              0.6666666666666666,
              "#ed7953"
             ],
             [
              0.7777777777777778,
              "#fb9f3a"
             ],
             [
              0.8888888888888888,
              "#fdca26"
             ],
             [
              1,
              "#f0f921"
             ]
            ],
            "type": "histogram2dcontour"
           }
          ],
          "mesh3d": [
           {
            "colorbar": {
             "outlinewidth": 0,
             "ticks": ""
            },
            "type": "mesh3d"
           }
          ],
          "parcoords": [
           {
            "line": {
             "colorbar": {
              "outlinewidth": 0,
              "ticks": ""
             }
            },
            "type": "parcoords"
           }
          ],
          "pie": [
           {
            "automargin": true,
            "type": "pie"
           }
          ],
          "scatter": [
           {
            "fillpattern": {
             "fillmode": "overlay",
             "size": 10,
             "solidity": 0.2
            },
            "type": "scatter"
           }
          ],
          "scatter3d": [
           {
            "line": {
             "colorbar": {
              "outlinewidth": 0,
              "ticks": ""
             }
            },
            "marker": {
             "colorbar": {
              "outlinewidth": 0,
              "ticks": ""
             }
            },
            "type": "scatter3d"
           }
          ],
          "scattercarpet": [
           {
            "marker": {
             "colorbar": {
              "outlinewidth": 0,
              "ticks": ""
             }
            },
            "type": "scattercarpet"
           }
          ],
          "scattergeo": [
           {
            "marker": {
             "colorbar": {
              "outlinewidth": 0,
              "ticks": ""
             }
            },
            "type": "scattergeo"
           }
          ],
          "scattergl": [
           {
            "marker": {
             "colorbar": {
              "outlinewidth": 0,
              "ticks": ""
             }
            },
            "type": "scattergl"
           }
          ],
          "scattermap": [
           {
            "marker": {
             "colorbar": {
              "outlinewidth": 0,
              "ticks": ""
             }
            },
            "type": "scattermap"
           }
          ],
          "scattermapbox": [
           {
            "marker": {
             "colorbar": {
              "outlinewidth": 0,
              "ticks": ""
             }
            },
            "type": "scattermapbox"
           }
          ],
          "scatterpolar": [
           {
            "marker": {
             "colorbar": {
              "outlinewidth": 0,
              "ticks": ""
             }
            },
            "type": "scatterpolar"
           }
          ],
          "scatterpolargl": [
           {
            "marker": {
             "colorbar": {
              "outlinewidth": 0,
              "ticks": ""
             }
            },
            "type": "scatterpolargl"
           }
          ],
          "scatterternary": [
           {
            "marker": {
             "colorbar": {
              "outlinewidth": 0,
              "ticks": ""
             }
            },
            "type": "scatterternary"
           }
          ],
          "surface": [
           {
            "colorbar": {
             "outlinewidth": 0,
             "ticks": ""
            },
            "colorscale": [
             [
              0,
              "#0d0887"
             ],
             [
              0.1111111111111111,
              "#46039f"
             ],
             [
              0.2222222222222222,
              "#7201a8"
             ],
             [
              0.3333333333333333,
              "#9c179e"
             ],
             [
              0.4444444444444444,
              "#bd3786"
             ],
             [
              0.5555555555555556,
              "#d8576b"
             ],
             [
              0.6666666666666666,
              "#ed7953"
             ],
             [
              0.7777777777777778,
              "#fb9f3a"
             ],
             [
              0.8888888888888888,
              "#fdca26"
             ],
             [
              1,
              "#f0f921"
             ]
            ],
            "type": "surface"
           }
          ],
          "table": [
           {
            "cells": {
             "fill": {
              "color": "#EBF0F8"
             },
             "line": {
              "color": "white"
             }
            },
            "header": {
             "fill": {
              "color": "#C8D4E3"
             },
             "line": {
              "color": "white"
             }
            },
            "type": "table"
           }
          ]
         },
         "layout": {
          "annotationdefaults": {
           "arrowcolor": "#2a3f5f",
           "arrowhead": 0,
           "arrowwidth": 1
          },
          "autotypenumbers": "strict",
          "coloraxis": {
           "colorbar": {
            "outlinewidth": 0,
            "ticks": ""
           }
          },
          "colorscale": {
           "diverging": [
            [
             0,
             "#8e0152"
            ],
            [
             0.1,
             "#c51b7d"
            ],
            [
             0.2,
             "#de77ae"
            ],
            [
             0.3,
             "#f1b6da"
            ],
            [
             0.4,
             "#fde0ef"
            ],
            [
             0.5,
             "#f7f7f7"
            ],
            [
             0.6,
             "#e6f5d0"
            ],
            [
             0.7,
             "#b8e186"
            ],
            [
             0.8,
             "#7fbc41"
            ],
            [
             0.9,
             "#4d9221"
            ],
            [
             1,
             "#276419"
            ]
           ],
           "sequential": [
            [
             0,
             "#0d0887"
            ],
            [
             0.1111111111111111,
             "#46039f"
            ],
            [
             0.2222222222222222,
             "#7201a8"
            ],
            [
             0.3333333333333333,
             "#9c179e"
            ],
            [
             0.4444444444444444,
             "#bd3786"
            ],
            [
             0.5555555555555556,
             "#d8576b"
            ],
            [
             0.6666666666666666,
             "#ed7953"
            ],
            [
             0.7777777777777778,
             "#fb9f3a"
            ],
            [
             0.8888888888888888,
             "#fdca26"
            ],
            [
             1,
             "#f0f921"
            ]
           ],
           "sequentialminus": [
            [
             0,
             "#0d0887"
            ],
            [
             0.1111111111111111,
             "#46039f"
            ],
            [
             0.2222222222222222,
             "#7201a8"
            ],
            [
             0.3333333333333333,
             "#9c179e"
            ],
            [
             0.4444444444444444,
             "#bd3786"
            ],
            [
             0.5555555555555556,
             "#d8576b"
            ],
            [
             0.6666666666666666,
             "#ed7953"
            ],
            [
             0.7777777777777778,
             "#fb9f3a"
            ],
            [
             0.8888888888888888,
             "#fdca26"
            ],
            [
             1,
             "#f0f921"
            ]
           ]
          },
          "colorway": [
           "#636efa",
           "#EF553B",
           "#00cc96",
           "#ab63fa",
           "#FFA15A",
           "#19d3f3",
           "#FF6692",
           "#B6E880",
           "#FF97FF",
           "#FECB52"
          ],
          "font": {
           "color": "#2a3f5f"
          },
          "geo": {
           "bgcolor": "white",
           "lakecolor": "white",
           "landcolor": "#E5ECF6",
           "showlakes": true,
           "showland": true,
           "subunitcolor": "white"
          },
          "hoverlabel": {
           "align": "left"
          },
          "hovermode": "closest",
          "mapbox": {
           "style": "light"
          },
          "paper_bgcolor": "white",
          "plot_bgcolor": "#E5ECF6",
          "polar": {
           "angularaxis": {
            "gridcolor": "white",
            "linecolor": "white",
            "ticks": ""
           },
           "bgcolor": "#E5ECF6",
           "radialaxis": {
            "gridcolor": "white",
            "linecolor": "white",
            "ticks": ""
           }
          },
          "scene": {
           "xaxis": {
            "backgroundcolor": "#E5ECF6",
            "gridcolor": "white",
            "gridwidth": 2,
            "linecolor": "white",
            "showbackground": true,
            "ticks": "",
            "zerolinecolor": "white"
           },
           "yaxis": {
            "backgroundcolor": "#E5ECF6",
            "gridcolor": "white",
            "gridwidth": 2,
            "linecolor": "white",
            "showbackground": true,
            "ticks": "",
            "zerolinecolor": "white"
           },
           "zaxis": {
            "backgroundcolor": "#E5ECF6",
            "gridcolor": "white",
            "gridwidth": 2,
            "linecolor": "white",
            "showbackground": true,
            "ticks": "",
            "zerolinecolor": "white"
           }
          },
          "shapedefaults": {
           "line": {
            "color": "#2a3f5f"
           }
          },
          "ternary": {
           "aaxis": {
            "gridcolor": "white",
            "linecolor": "white",
            "ticks": ""
           },
           "baxis": {
            "gridcolor": "white",
            "linecolor": "white",
            "ticks": ""
           },
           "bgcolor": "#E5ECF6",
           "caxis": {
            "gridcolor": "white",
            "linecolor": "white",
            "ticks": ""
           }
          },
          "title": {
           "x": 0.05
          },
          "xaxis": {
           "automargin": true,
           "gridcolor": "white",
           "linecolor": "white",
           "ticks": "",
           "title": {
            "standoff": 15
           },
           "zerolinecolor": "white",
           "zerolinewidth": 2
          },
          "yaxis": {
           "automargin": true,
           "gridcolor": "white",
           "linecolor": "white",
           "ticks": "",
           "title": {
            "standoff": 15
           },
           "zerolinecolor": "white",
           "zerolinewidth": 2
          }
         }
        },
        "title": {
         "text": "Weight Over Time"
        },
        "xaxis": {
         "anchor": "y",
         "domain": [
          0,
          1
         ],
         "title": {
          "text": "Date"
         }
        },
        "yaxis": {
         "anchor": "x",
         "domain": [
          0,
          1
         ],
         "title": {
          "text": "Weight"
         }
        }
       }
      }
     },
     "metadata": {},
     "output_type": "display_data"
    }
   ],
   "source": [
    "# Line plot for weight over time\n",
    "fig_steps = px.line(\n",
    "    fitness_data, x='date', y='weight_kg', title='Weight Over Time', labels={'weight_kg': 'Weight', 'date': 'Date'})\n",
    "fig_steps.show()"
   ]
  },
  {
   "cell_type": "markdown",
   "id": "81b46c8c",
   "metadata": {},
   "source": [
    "## 4. Visualizing trends across multiple variables 📊"
   ]
  },
  {
   "cell_type": "code",
   "execution_count": 46,
   "id": "be3819b3",
   "metadata": {},
   "outputs": [
    {
     "data": {
      "application/vnd.plotly.v1+json": {
       "config": {
        "plotlyServerURL": "https://plot.ly"
       },
       "data": [
        {
         "hovertemplate": "Metric=sleep_hours<br>Date=%{x}<br>Hours=%{y}<extra></extra>",
         "legendgroup": "sleep_hours",
         "line": {
          "color": "#636efa",
          "dash": "solid"
         },
         "marker": {
          "symbol": "circle"
         },
         "mode": "lines+markers",
         "name": "sleep_hours",
         "orientation": "v",
         "showlegend": true,
         "type": "scatter",
         "x": [
          "2024-07-01T00:00:00.000000000",
          "2024-07-02T00:00:00.000000000",
          "2024-07-03T00:00:00.000000000",
          "2024-07-04T00:00:00.000000000",
          "2024-07-05T00:00:00.000000000",
          "2024-07-06T00:00:00.000000000",
          "2024-07-07T00:00:00.000000000",
          "2024-07-08T00:00:00.000000000",
          "2024-07-09T00:00:00.000000000",
          "2024-07-10T00:00:00.000000000",
          "2024-07-11T00:00:00.000000000",
          "2024-07-12T00:00:00.000000000",
          "2024-07-13T00:00:00.000000000",
          "2024-07-14T00:00:00.000000000",
          "2024-07-15T00:00:00.000000000",
          "2024-07-16T00:00:00.000000000",
          "2024-07-17T00:00:00.000000000",
          "2024-07-18T00:00:00.000000000",
          "2024-07-19T00:00:00.000000000",
          "2024-07-20T00:00:00.000000000",
          "2024-07-21T00:00:00.000000000",
          "2024-07-22T00:00:00.000000000",
          "2024-07-23T00:00:00.000000000",
          "2024-07-24T00:00:00.000000000",
          "2024-07-25T00:00:00.000000000",
          "2024-07-26T00:00:00.000000000",
          "2024-07-27T00:00:00.000000000",
          "2024-07-28T00:00:00.000000000",
          "2024-07-29T00:00:00.000000000",
          "2024-07-30T00:00:00.000000000",
          "2024-07-31T00:00:00.000000000",
          "2024-08-01T00:00:00.000000000",
          "2024-08-02T00:00:00.000000000",
          "2024-08-03T00:00:00.000000000",
          "2024-08-04T00:00:00.000000000",
          "2024-08-05T00:00:00.000000000",
          "2024-08-06T00:00:00.000000000",
          "2024-08-07T00:00:00.000000000",
          "2024-08-08T00:00:00.000000000",
          "2024-08-09T00:00:00.000000000",
          "2024-08-10T00:00:00.000000000",
          "2024-08-11T00:00:00.000000000",
          "2024-08-12T00:00:00.000000000",
          "2024-08-13T00:00:00.000000000",
          "2024-08-14T00:00:00.000000000",
          "2024-08-15T00:00:00.000000000",
          "2024-08-16T00:00:00.000000000",
          "2024-08-17T00:00:00.000000000",
          "2024-08-18T00:00:00.000000000",
          "2024-08-19T00:00:00.000000000",
          "2024-08-20T00:00:00.000000000",
          "2024-08-21T00:00:00.000000000",
          "2024-08-22T00:00:00.000000000",
          "2024-08-23T00:00:00.000000000",
          "2024-08-24T00:00:00.000000000",
          "2024-08-25T00:00:00.000000000",
          "2024-08-26T00:00:00.000000000",
          "2024-08-27T00:00:00.000000000",
          "2024-08-28T00:00:00.000000000",
          "2024-08-29T00:00:00.000000000",
          "2024-08-30T00:00:00.000000000",
          "2024-08-31T00:00:00.000000000",
          "2024-09-01T00:00:00.000000000",
          "2024-09-02T00:00:00.000000000",
          "2024-09-03T00:00:00.000000000",
          "2024-09-04T00:00:00.000000000",
          "2024-09-05T00:00:00.000000000",
          "2024-09-06T00:00:00.000000000",
          "2024-09-07T00:00:00.000000000",
          "2024-09-08T00:00:00.000000000",
          "2024-09-09T00:00:00.000000000",
          "2024-09-10T00:00:00.000000000",
          "2024-09-11T00:00:00.000000000",
          "2024-09-12T00:00:00.000000000",
          "2024-09-13T00:00:00.000000000",
          "2024-09-14T00:00:00.000000000",
          "2024-09-15T00:00:00.000000000",
          "2024-09-16T00:00:00.000000000",
          "2024-09-17T00:00:00.000000000",
          "2024-09-18T00:00:00.000000000",
          "2024-09-19T00:00:00.000000000",
          "2024-09-20T00:00:00.000000000",
          "2024-09-21T00:00:00.000000000",
          "2024-09-22T00:00:00.000000000",
          "2024-09-23T00:00:00.000000000",
          "2024-09-24T00:00:00.000000000",
          "2024-09-25T00:00:00.000000000",
          "2024-09-26T00:00:00.000000000",
          "2024-09-27T00:00:00.000000000",
          "2024-09-28T00:00:00.000000000",
          "2024-09-29T00:00:00.000000000",
          "2024-09-30T00:00:00.000000000",
          "2024-10-01T00:00:00.000000000",
          "2024-10-02T00:00:00.000000000",
          "2024-10-03T00:00:00.000000000",
          "2024-10-04T00:00:00.000000000",
          "2024-10-05T00:00:00.000000000",
          "2024-10-06T00:00:00.000000000",
          "2024-10-07T00:00:00.000000000",
          "2024-10-08T00:00:00.000000000",
          "2024-10-09T00:00:00.000000000",
          "2024-10-10T00:00:00.000000000",
          "2024-10-11T00:00:00.000000000",
          "2024-10-12T00:00:00.000000000",
          "2024-10-13T00:00:00.000000000",
          "2024-10-14T00:00:00.000000000",
          "2024-10-15T00:00:00.000000000",
          "2024-10-16T00:00:00.000000000",
          "2024-10-17T00:00:00.000000000",
          "2024-10-18T00:00:00.000000000",
          "2024-10-19T00:00:00.000000000",
          "2024-10-20T00:00:00.000000000",
          "2024-10-21T00:00:00.000000000",
          "2024-10-22T00:00:00.000000000",
          "2024-10-23T00:00:00.000000000",
          "2024-10-24T00:00:00.000000000",
          "2024-10-25T00:00:00.000000000",
          "2024-10-26T00:00:00.000000000",
          "2024-10-27T00:00:00.000000000",
          "2024-10-28T00:00:00.000000000",
          "2024-10-29T00:00:00.000000000",
          "2024-10-30T00:00:00.000000000",
          "2024-10-31T00:00:00.000000000",
          "2024-11-01T00:00:00.000000000",
          "2024-11-02T00:00:00.000000000",
          "2024-11-03T00:00:00.000000000",
          "2024-11-04T00:00:00.000000000",
          "2024-11-05T00:00:00.000000000",
          "2024-11-06T00:00:00.000000000",
          "2024-11-07T00:00:00.000000000",
          "2024-11-08T00:00:00.000000000",
          "2024-11-09T00:00:00.000000000",
          "2024-11-10T00:00:00.000000000",
          "2024-11-11T00:00:00.000000000",
          "2024-11-12T00:00:00.000000000",
          "2024-11-13T00:00:00.000000000",
          "2024-11-14T00:00:00.000000000",
          "2024-11-15T00:00:00.000000000",
          "2024-11-16T00:00:00.000000000",
          "2024-11-17T00:00:00.000000000",
          "2024-11-18T00:00:00.000000000",
          "2024-11-19T00:00:00.000000000",
          "2024-11-20T00:00:00.000000000",
          "2024-11-21T00:00:00.000000000",
          "2024-11-22T00:00:00.000000000",
          "2024-11-23T00:00:00.000000000",
          "2024-11-24T00:00:00.000000000",
          "2024-11-25T00:00:00.000000000",
          "2024-11-26T00:00:00.000000000",
          "2024-11-27T00:00:00.000000000",
          "2024-11-28T00:00:00.000000000",
          "2024-11-29T00:00:00.000000000",
          "2024-11-30T00:00:00.000000000",
          "2024-12-01T00:00:00.000000000",
          "2024-12-02T00:00:00.000000000",
          "2024-12-03T00:00:00.000000000",
          "2024-12-04T00:00:00.000000000",
          "2024-12-05T00:00:00.000000000",
          "2024-12-06T00:00:00.000000000",
          "2024-12-07T00:00:00.000000000",
          "2024-12-08T00:00:00.000000000",
          "2024-12-09T00:00:00.000000000",
          "2024-12-10T00:00:00.000000000",
          "2024-12-11T00:00:00.000000000",
          "2024-12-12T00:00:00.000000000",
          "2024-12-13T00:00:00.000000000",
          "2024-12-14T00:00:00.000000000",
          "2024-12-15T00:00:00.000000000",
          "2024-12-16T00:00:00.000000000",
          "2024-12-17T00:00:00.000000000",
          "2024-12-18T00:00:00.000000000",
          "2024-12-19T00:00:00.000000000",
          "2024-12-20T00:00:00.000000000",
          "2024-12-21T00:00:00.000000000",
          "2024-12-22T00:00:00.000000000",
          "2024-12-23T00:00:00.000000000",
          "2024-12-24T00:00:00.000000000",
          "2024-12-25T00:00:00.000000000",
          "2024-12-26T00:00:00.000000000",
          "2024-12-27T00:00:00.000000000",
          "2024-12-28T00:00:00.000000000",
          "2024-12-29T00:00:00.000000000",
          "2024-12-30T00:00:00.000000000",
          "2024-12-31T00:00:00.000000000",
          "2025-01-01T00:00:00.000000000"
         ],
         "xaxis": "x",
         "y": {
          "bdata": "H4XrUbgeHEBmZmZmZmYfQB+F61G4Hh5AhetRuB6FEkCF61G4HoUVQBSuR+F6FCBA4XoUrkfhIkBcj8L1KFwaQArXo3A9CiBAPQrXo3C9IUAK55Xe/JMfQOF6FK5H4RhApHA9CtejHEC4HoXrUbghQHE9Ctej8CBASOF6FK7HIUBI4XoUrkceQBSuR+F6FB5AKVyPwvUoGEDsUbgehesdQJqZmZmZGSBA8npwmHnBG0DXo3A9CtcfQJqZmZmZGSBAhetRuB4FIEDNzMzMzMwXQKRwPQrXox9APQrXo3A9IkDhehSuR+EdQNejcD0K1x9Aw/UoXI/CHEDXo3A9CtcfQM4PWvlN9BlAAAAAAAAAH0BI4XoUrsciQD0K16NwPSBAYFKYpEFNG0BI4XoUrkcfQBSuR+F6FBpACtejcD0KGECkcD0K16MaQPYoXI/C9SFAuB6F61G4HkBSuB6F61EfQFK4HoXrUR5ASOF6FK5HH0DNzMzMzMwVQIXrUbgehRtAuB6F61E4I0CamZmZmZkbQAAAAAAAAB1AKVyPwvUoIUAUrkfhehQdQG8y1eCg+BpAH4XrUbgeGkAzMzMzM7MhQB+F61G4Hh9ArkfhehSuHUD2KFyPwvUgQEjhehSuRxxA9ihcj8L1GEDsUbgehescQEjhehSuRyFApHA9CtejHkDD9Shcj8IZQFK4HoXrUR1AzczMzMzMHkApXI/C9SgUQLgehetRuB5ArkfhehQuIEBcj8L1KFwfQFspnI4UlSBA9ihcj8L1HkCddjfkYXYeQKRwPQrXoxZAFLIfGaJIHkAzMzMzMzMgQJqZmZmZmR9AmpmZmZmZHECkcD0K16MfQHE9CtejcBxAKVyPwvUoFUBcj8L1KFweQFK4HoXrUSFAhetRuB6FH0AUrkfhehQhQKRwPQrXox9AcT0K16NwH0A9CtejcD0ZQKRwPQrXoxtAS/4jjGsAHkDNzMzMzMwfQLgehetRuBxA4XoUrkfhHkDNzMzMzMwcQIXrUbgehRlACtejcD0KHkB7FK5H4XohQJqZmZmZmSBAmpmZmZmZHUCF61G4HoUaQIXrUbgehR1AMzMzMzMzF0BSuB6F61EdQHsUrkfh+iBAZmZmZmZmHEAayzP7+7UfQJqZmZmZmRpA7FG4HoXrHkAK16NwPQoVQFyPwvUoXCBASOF6FK7HIkDXo3A9CtcfQM3MzMzMzBxAd4ZXSDWGHECtrZieQAIgQD0K16NwPRdA16NwPQrXG0Bcj8L1KFwiQClcj8L1KB9AmpmZmZmZHECF61G4HoUfQM3MzMzMzBpAMzMzMzMzGUDD9Shcj8IfQK5H4XoULiNAH4XrUbgeH0DNzMzMzMwdQK5H4XoUrh5Aj8L1KFyPHUDsH1fcKpggQArXo3A9CiFAKVyPwvWoIUApXI/C9SgdQBSuR+F6FB5ASOF6FK5HHUAzMzMzMzMbQM3MzMzMzBVA9SG9xsEmIEAUrkfhepQiQArXo3A9iiBAXI/C9ShcH0C4HoXrUTghQMP1KFyPwh1AhetRuB6FF0DhehSuR+EfQLq5MRqOsyBAH4XrUbgeIECPwvUoXI8cQK/k2+dKoCBAAAAAAAAA+H8AAAAAAAD4fwAAAAAAAPh/CtejcD0KIkA9CtejcD0dQIXrUbgehR9AFK5H4XoUIEBSuB6F69EgQK5H4XoUrhlAj8L1KFyPG0A9CtejcD0jQM3MzMzMzCBAexSuR+F6HUAfhetRuB4dQLgehetRuB1AAAAAAAAAFkBI4XoUrkcdQHsUrkfheiFAzczMzMzMG0CkcD0K16MdQDnbKJa9kRxASOF6FK5HG0CamZmZmZkVQJqZmZmZmR1ASOF6FK5HIUB7FK5H4fogQAAAAAAAAPh/AAAAAAAA+H8AAAAAAAD4f2ZmZmZm5iJAj8L1KFyPI0AzMzMzMzMaQArXo3A9CiBASOF6FK5HEkBcj8L1KFwJQA==",
          "dtype": "f8"
         },
         "yaxis": "y"
        },
        {
         "hovertemplate": "Metric=sleep_debt<br>Date=%{x}<br>Hours=%{y}<extra></extra>",
         "legendgroup": "sleep_debt",
         "line": {
          "color": "#EF553B",
          "dash": "solid"
         },
         "marker": {
          "symbol": "circle"
         },
         "mode": "lines+markers",
         "name": "sleep_debt",
         "orientation": "v",
         "showlegend": true,
         "type": "scatter",
         "x": [
          "2024-07-01T00:00:00.000000000",
          "2024-07-02T00:00:00.000000000",
          "2024-07-03T00:00:00.000000000",
          "2024-07-04T00:00:00.000000000",
          "2024-07-05T00:00:00.000000000",
          "2024-07-06T00:00:00.000000000",
          "2024-07-07T00:00:00.000000000",
          "2024-07-08T00:00:00.000000000",
          "2024-07-09T00:00:00.000000000",
          "2024-07-10T00:00:00.000000000",
          "2024-07-11T00:00:00.000000000",
          "2024-07-12T00:00:00.000000000",
          "2024-07-13T00:00:00.000000000",
          "2024-07-14T00:00:00.000000000",
          "2024-07-15T00:00:00.000000000",
          "2024-07-16T00:00:00.000000000",
          "2024-07-17T00:00:00.000000000",
          "2024-07-18T00:00:00.000000000",
          "2024-07-19T00:00:00.000000000",
          "2024-07-20T00:00:00.000000000",
          "2024-07-21T00:00:00.000000000",
          "2024-07-22T00:00:00.000000000",
          "2024-07-23T00:00:00.000000000",
          "2024-07-24T00:00:00.000000000",
          "2024-07-25T00:00:00.000000000",
          "2024-07-26T00:00:00.000000000",
          "2024-07-27T00:00:00.000000000",
          "2024-07-28T00:00:00.000000000",
          "2024-07-29T00:00:00.000000000",
          "2024-07-30T00:00:00.000000000",
          "2024-07-31T00:00:00.000000000",
          "2024-08-01T00:00:00.000000000",
          "2024-08-02T00:00:00.000000000",
          "2024-08-03T00:00:00.000000000",
          "2024-08-04T00:00:00.000000000",
          "2024-08-05T00:00:00.000000000",
          "2024-08-06T00:00:00.000000000",
          "2024-08-07T00:00:00.000000000",
          "2024-08-08T00:00:00.000000000",
          "2024-08-09T00:00:00.000000000",
          "2024-08-10T00:00:00.000000000",
          "2024-08-11T00:00:00.000000000",
          "2024-08-12T00:00:00.000000000",
          "2024-08-13T00:00:00.000000000",
          "2024-08-14T00:00:00.000000000",
          "2024-08-15T00:00:00.000000000",
          "2024-08-16T00:00:00.000000000",
          "2024-08-17T00:00:00.000000000",
          "2024-08-18T00:00:00.000000000",
          "2024-08-19T00:00:00.000000000",
          "2024-08-20T00:00:00.000000000",
          "2024-08-21T00:00:00.000000000",
          "2024-08-22T00:00:00.000000000",
          "2024-08-23T00:00:00.000000000",
          "2024-08-24T00:00:00.000000000",
          "2024-08-25T00:00:00.000000000",
          "2024-08-26T00:00:00.000000000",
          "2024-08-27T00:00:00.000000000",
          "2024-08-28T00:00:00.000000000",
          "2024-08-29T00:00:00.000000000",
          "2024-08-30T00:00:00.000000000",
          "2024-08-31T00:00:00.000000000",
          "2024-09-01T00:00:00.000000000",
          "2024-09-02T00:00:00.000000000",
          "2024-09-03T00:00:00.000000000",
          "2024-09-04T00:00:00.000000000",
          "2024-09-05T00:00:00.000000000",
          "2024-09-06T00:00:00.000000000",
          "2024-09-07T00:00:00.000000000",
          "2024-09-08T00:00:00.000000000",
          "2024-09-09T00:00:00.000000000",
          "2024-09-10T00:00:00.000000000",
          "2024-09-11T00:00:00.000000000",
          "2024-09-12T00:00:00.000000000",
          "2024-09-13T00:00:00.000000000",
          "2024-09-14T00:00:00.000000000",
          "2024-09-15T00:00:00.000000000",
          "2024-09-16T00:00:00.000000000",
          "2024-09-17T00:00:00.000000000",
          "2024-09-18T00:00:00.000000000",
          "2024-09-19T00:00:00.000000000",
          "2024-09-20T00:00:00.000000000",
          "2024-09-21T00:00:00.000000000",
          "2024-09-22T00:00:00.000000000",
          "2024-09-23T00:00:00.000000000",
          "2024-09-24T00:00:00.000000000",
          "2024-09-25T00:00:00.000000000",
          "2024-09-26T00:00:00.000000000",
          "2024-09-27T00:00:00.000000000",
          "2024-09-28T00:00:00.000000000",
          "2024-09-29T00:00:00.000000000",
          "2024-09-30T00:00:00.000000000",
          "2024-10-01T00:00:00.000000000",
          "2024-10-02T00:00:00.000000000",
          "2024-10-03T00:00:00.000000000",
          "2024-10-04T00:00:00.000000000",
          "2024-10-05T00:00:00.000000000",
          "2024-10-06T00:00:00.000000000",
          "2024-10-07T00:00:00.000000000",
          "2024-10-08T00:00:00.000000000",
          "2024-10-09T00:00:00.000000000",
          "2024-10-10T00:00:00.000000000",
          "2024-10-11T00:00:00.000000000",
          "2024-10-12T00:00:00.000000000",
          "2024-10-13T00:00:00.000000000",
          "2024-10-14T00:00:00.000000000",
          "2024-10-15T00:00:00.000000000",
          "2024-10-16T00:00:00.000000000",
          "2024-10-17T00:00:00.000000000",
          "2024-10-18T00:00:00.000000000",
          "2024-10-19T00:00:00.000000000",
          "2024-10-20T00:00:00.000000000",
          "2024-10-21T00:00:00.000000000",
          "2024-10-22T00:00:00.000000000",
          "2024-10-23T00:00:00.000000000",
          "2024-10-24T00:00:00.000000000",
          "2024-10-25T00:00:00.000000000",
          "2024-10-26T00:00:00.000000000",
          "2024-10-27T00:00:00.000000000",
          "2024-10-28T00:00:00.000000000",
          "2024-10-29T00:00:00.000000000",
          "2024-10-30T00:00:00.000000000",
          "2024-10-31T00:00:00.000000000",
          "2024-11-01T00:00:00.000000000",
          "2024-11-02T00:00:00.000000000",
          "2024-11-03T00:00:00.000000000",
          "2024-11-04T00:00:00.000000000",
          "2024-11-05T00:00:00.000000000",
          "2024-11-06T00:00:00.000000000",
          "2024-11-07T00:00:00.000000000",
          "2024-11-08T00:00:00.000000000",
          "2024-11-09T00:00:00.000000000",
          "2024-11-10T00:00:00.000000000",
          "2024-11-11T00:00:00.000000000",
          "2024-11-12T00:00:00.000000000",
          "2024-11-13T00:00:00.000000000",
          "2024-11-14T00:00:00.000000000",
          "2024-11-15T00:00:00.000000000",
          "2024-11-16T00:00:00.000000000",
          "2024-11-17T00:00:00.000000000",
          "2024-11-18T00:00:00.000000000",
          "2024-11-19T00:00:00.000000000",
          "2024-11-20T00:00:00.000000000",
          "2024-11-21T00:00:00.000000000",
          "2024-11-22T00:00:00.000000000",
          "2024-11-23T00:00:00.000000000",
          "2024-11-24T00:00:00.000000000",
          "2024-11-25T00:00:00.000000000",
          "2024-11-26T00:00:00.000000000",
          "2024-11-27T00:00:00.000000000",
          "2024-11-28T00:00:00.000000000",
          "2024-11-29T00:00:00.000000000",
          "2024-11-30T00:00:00.000000000",
          "2024-12-01T00:00:00.000000000",
          "2024-12-02T00:00:00.000000000",
          "2024-12-03T00:00:00.000000000",
          "2024-12-04T00:00:00.000000000",
          "2024-12-05T00:00:00.000000000",
          "2024-12-06T00:00:00.000000000",
          "2024-12-07T00:00:00.000000000",
          "2024-12-08T00:00:00.000000000",
          "2024-12-09T00:00:00.000000000",
          "2024-12-10T00:00:00.000000000",
          "2024-12-11T00:00:00.000000000",
          "2024-12-12T00:00:00.000000000",
          "2024-12-13T00:00:00.000000000",
          "2024-12-14T00:00:00.000000000",
          "2024-12-15T00:00:00.000000000",
          "2024-12-16T00:00:00.000000000",
          "2024-12-17T00:00:00.000000000",
          "2024-12-18T00:00:00.000000000",
          "2024-12-19T00:00:00.000000000",
          "2024-12-20T00:00:00.000000000",
          "2024-12-21T00:00:00.000000000",
          "2024-12-22T00:00:00.000000000",
          "2024-12-23T00:00:00.000000000",
          "2024-12-24T00:00:00.000000000",
          "2024-12-25T00:00:00.000000000",
          "2024-12-26T00:00:00.000000000",
          "2024-12-27T00:00:00.000000000",
          "2024-12-28T00:00:00.000000000",
          "2024-12-29T00:00:00.000000000",
          "2024-12-30T00:00:00.000000000",
          "2024-12-31T00:00:00.000000000",
          "2025-01-01T00:00:00.000000000"
         ],
         "xaxis": "x",
         "y": {
          "bdata": "EK5H4XoU3j9gZmZmZmbWvwAfhetRuJ6/9ihcj8L1BkD2KFyPwvUAQEDhehSuR+G/CNejcD0K/78ghetRuB7tP6BwPQrXo+C/6FG4HoXr9b+gcF7pzT/Zv3wUrkfhevQ/wPUoXI/C1T/A9Shcj8L1vxDXo3A9Cu+/QArXo3A99r8AUrgeheuxvwAUrkfhepS/XI/C9Shc9z8AFK5H4XqUP6CZmZmZmeG/cCh8PDP04T9wPQrXo3Ddv6CZmZmZmeG/ULgehetR4L/MzMzMzMz4P0AK16NwPdq/6FG4HoXr+b8AH4XrUbieP3A9CtejcN2/0KNwPQrX0z9wPQrXo3Ddv8jAlxrILvA/AAAAAAAA0L9ACtejcD3+v9CjcD0K1+O/AG092/KV5T+AFK5H4XrUv2CPwvUoXO8/2KNwPQrX9z/gehSuR+HqP7BH4XoUrve/ANejcD0Kx78ghetRuB7Vv4AUrkfherS/gBSuR+F61L9mZmZmZmYAQNijcD0K1+M/4HoUrkfhAMAwMzMzMzPjPwAAAAAAANA/SOF6FK5H8b+APQrXo3DNP4hsVvn4Oug/CNejcD0K7z+YmZmZmZn1v/BRuB6F69G/gBSuR+F6tD9gj8L1KFzvv4DrUbgehds/KFyPwvUo9D9A4XoUrkfRP0AK16NwPfK/gBSuR+F6xL/0KFyPwvXwP8D1KFyPwsU/oJmZmZmZyb+uR+F6FK4DQADXo3A9Cse/4HoUrkfh4r/A9Shcj8LVv7CVwulIUem/wB6F61G4zr9Ap90NeZi9v3A9CtejcP0/AIXsR4Yosr8wMzMzMzPjv6CZmZmZmdm/YGZmZmZm1j9ACtejcD3av/AoXI/C9dg/rkfhehSuAUAA16NwPQq3v5DC9Shcj/K/ULgehetR2L+gcD0K16Pwv0AK16NwPdq/ENejcD0K178M16NwPQrzP+B6FK5H4eI/AMCS/wjjOr/QzMzMzMzcv4AUrkfhetQ/IFyPwvUozL8wMzMzMzPTP+xRuB6F6/E/ABSuR+F6hL/Yo3A9Ctfzv6CZmZmZmem/gJmZmZmZuT/Yo3A9CtfrP8AehetRuL4/NDMzMzMz+z/A9Shcj8LFP7BH4XoUru+/oJmZmZmZ2T+gsTyzv1/bvzAzMzMzM+s/gD0K16Nwzb/sUbgehesBQMD1KFyPwuW/QArXo3A9/r9wPQrXo3DdvzAzMzMzM9M/kJiHequc1z/Q2orpCSTgvwzXo3A9Cvs/SOF6FK5H4T/gehSuR+H6v5DC9Shcj9K/YGZmZmZm1j9QuB6F61HYv5iZmZmZmek/NDMzMzMz8z8wXI/C9Sjcv7gehetRuADA8FG4HoXr0b+AmZmZmZmpP8D1KFyPwsW/QFyPwvUovD/A/nHFrYLpv1C4HoXrUfC/SOF6FK5H9b/gehSuR+HKPwAUrkfhepS/ANejcD0Kxz9oZmZmZmbmP2ZmZmZmZgBAUB/Saxxs4r+gcD0K16P8v6BwPQrXo+i/wPUoXI/C1b/A9Shcj8Lxv4AehetRuK4/7FG4HoXr+T8QrkfhehTev6CbG6PhOOu/8FG4HoXr4b8Q16NwPQrXP/BKvn2uBOq/AAAAAAAA+H8AAAAAAAD4fwAAAAAAAPh/ULgehetR+L9guB6F61HIP1C4HoXrUdi/QOF6FK5H4b8ghetRuB7tv0jhehSuR/E/iOtRuB6F4z/0KFyPwvUAwNDMzMzMzOy/oHA9CtejwD8gXI/C9SjMPwBSuB6F67E/AAAAAAAAAEAA16NwPQrHP9ijcD0K1/O/mJmZmZmZ4T8A16NwPQq3P3BMcp0m5NY/wPUoXI/C5T/MzMzMzMwAQICZmZmZmbk/QArXo3A98r+wR+F6FK7vvwAAAAAAAPh/AAAAAAAA+H8AAAAAAAD4fzAzMzMzM/+/PArXo3A9AsBoZmZmZmbuP6BwPQrXo+C/cD0K16NwB0BSuB6F61ERQA==",
          "dtype": "f8"
         },
         "yaxis": "y"
        },
        {
         "hovertemplate": "Metric=cumulative_sleep_debt<br>Date=%{x}<br>Hours=%{y}<extra></extra>",
         "legendgroup": "cumulative_sleep_debt",
         "line": {
          "color": "#00cc96",
          "dash": "solid"
         },
         "marker": {
          "symbol": "circle"
         },
         "mode": "lines+markers",
         "name": "cumulative_sleep_debt",
         "orientation": "v",
         "showlegend": true,
         "type": "scatter",
         "x": [
          "2024-07-01T00:00:00.000000000",
          "2024-07-02T00:00:00.000000000",
          "2024-07-03T00:00:00.000000000",
          "2024-07-04T00:00:00.000000000",
          "2024-07-05T00:00:00.000000000",
          "2024-07-06T00:00:00.000000000",
          "2024-07-07T00:00:00.000000000",
          "2024-07-08T00:00:00.000000000",
          "2024-07-09T00:00:00.000000000",
          "2024-07-10T00:00:00.000000000",
          "2024-07-11T00:00:00.000000000",
          "2024-07-12T00:00:00.000000000",
          "2024-07-13T00:00:00.000000000",
          "2024-07-14T00:00:00.000000000",
          "2024-07-15T00:00:00.000000000",
          "2024-07-16T00:00:00.000000000",
          "2024-07-17T00:00:00.000000000",
          "2024-07-18T00:00:00.000000000",
          "2024-07-19T00:00:00.000000000",
          "2024-07-20T00:00:00.000000000",
          "2024-07-21T00:00:00.000000000",
          "2024-07-22T00:00:00.000000000",
          "2024-07-23T00:00:00.000000000",
          "2024-07-24T00:00:00.000000000",
          "2024-07-25T00:00:00.000000000",
          "2024-07-26T00:00:00.000000000",
          "2024-07-27T00:00:00.000000000",
          "2024-07-28T00:00:00.000000000",
          "2024-07-29T00:00:00.000000000",
          "2024-07-30T00:00:00.000000000",
          "2024-07-31T00:00:00.000000000",
          "2024-08-01T00:00:00.000000000",
          "2024-08-02T00:00:00.000000000",
          "2024-08-03T00:00:00.000000000",
          "2024-08-04T00:00:00.000000000",
          "2024-08-05T00:00:00.000000000",
          "2024-08-06T00:00:00.000000000",
          "2024-08-07T00:00:00.000000000",
          "2024-08-08T00:00:00.000000000",
          "2024-08-09T00:00:00.000000000",
          "2024-08-10T00:00:00.000000000",
          "2024-08-11T00:00:00.000000000",
          "2024-08-12T00:00:00.000000000",
          "2024-08-13T00:00:00.000000000",
          "2024-08-14T00:00:00.000000000",
          "2024-08-15T00:00:00.000000000",
          "2024-08-16T00:00:00.000000000",
          "2024-08-17T00:00:00.000000000",
          "2024-08-18T00:00:00.000000000",
          "2024-08-19T00:00:00.000000000",
          "2024-08-20T00:00:00.000000000",
          "2024-08-21T00:00:00.000000000",
          "2024-08-22T00:00:00.000000000",
          "2024-08-23T00:00:00.000000000",
          "2024-08-24T00:00:00.000000000",
          "2024-08-25T00:00:00.000000000",
          "2024-08-26T00:00:00.000000000",
          "2024-08-27T00:00:00.000000000",
          "2024-08-28T00:00:00.000000000",
          "2024-08-29T00:00:00.000000000",
          "2024-08-30T00:00:00.000000000",
          "2024-08-31T00:00:00.000000000",
          "2024-09-01T00:00:00.000000000",
          "2024-09-02T00:00:00.000000000",
          "2024-09-03T00:00:00.000000000",
          "2024-09-04T00:00:00.000000000",
          "2024-09-05T00:00:00.000000000",
          "2024-09-06T00:00:00.000000000",
          "2024-09-07T00:00:00.000000000",
          "2024-09-08T00:00:00.000000000",
          "2024-09-09T00:00:00.000000000",
          "2024-09-10T00:00:00.000000000",
          "2024-09-11T00:00:00.000000000",
          "2024-09-12T00:00:00.000000000",
          "2024-09-13T00:00:00.000000000",
          "2024-09-14T00:00:00.000000000",
          "2024-09-15T00:00:00.000000000",
          "2024-09-16T00:00:00.000000000",
          "2024-09-17T00:00:00.000000000",
          "2024-09-18T00:00:00.000000000",
          "2024-09-19T00:00:00.000000000",
          "2024-09-20T00:00:00.000000000",
          "2024-09-21T00:00:00.000000000",
          "2024-09-22T00:00:00.000000000",
          "2024-09-23T00:00:00.000000000",
          "2024-09-24T00:00:00.000000000",
          "2024-09-25T00:00:00.000000000",
          "2024-09-26T00:00:00.000000000",
          "2024-09-27T00:00:00.000000000",
          "2024-09-28T00:00:00.000000000",
          "2024-09-29T00:00:00.000000000",
          "2024-09-30T00:00:00.000000000",
          "2024-10-01T00:00:00.000000000",
          "2024-10-02T00:00:00.000000000",
          "2024-10-03T00:00:00.000000000",
          "2024-10-04T00:00:00.000000000",
          "2024-10-05T00:00:00.000000000",
          "2024-10-06T00:00:00.000000000",
          "2024-10-07T00:00:00.000000000",
          "2024-10-08T00:00:00.000000000",
          "2024-10-09T00:00:00.000000000",
          "2024-10-10T00:00:00.000000000",
          "2024-10-11T00:00:00.000000000",
          "2024-10-12T00:00:00.000000000",
          "2024-10-13T00:00:00.000000000",
          "2024-10-14T00:00:00.000000000",
          "2024-10-15T00:00:00.000000000",
          "2024-10-16T00:00:00.000000000",
          "2024-10-17T00:00:00.000000000",
          "2024-10-18T00:00:00.000000000",
          "2024-10-19T00:00:00.000000000",
          "2024-10-20T00:00:00.000000000",
          "2024-10-21T00:00:00.000000000",
          "2024-10-22T00:00:00.000000000",
          "2024-10-23T00:00:00.000000000",
          "2024-10-24T00:00:00.000000000",
          "2024-10-25T00:00:00.000000000",
          "2024-10-26T00:00:00.000000000",
          "2024-10-27T00:00:00.000000000",
          "2024-10-28T00:00:00.000000000",
          "2024-10-29T00:00:00.000000000",
          "2024-10-30T00:00:00.000000000",
          "2024-10-31T00:00:00.000000000",
          "2024-11-01T00:00:00.000000000",
          "2024-11-02T00:00:00.000000000",
          "2024-11-03T00:00:00.000000000",
          "2024-11-04T00:00:00.000000000",
          "2024-11-05T00:00:00.000000000",
          "2024-11-06T00:00:00.000000000",
          "2024-11-07T00:00:00.000000000",
          "2024-11-08T00:00:00.000000000",
          "2024-11-09T00:00:00.000000000",
          "2024-11-10T00:00:00.000000000",
          "2024-11-11T00:00:00.000000000",
          "2024-11-12T00:00:00.000000000",
          "2024-11-13T00:00:00.000000000",
          "2024-11-14T00:00:00.000000000",
          "2024-11-15T00:00:00.000000000",
          "2024-11-16T00:00:00.000000000",
          "2024-11-17T00:00:00.000000000",
          "2024-11-18T00:00:00.000000000",
          "2024-11-19T00:00:00.000000000",
          "2024-11-20T00:00:00.000000000",
          "2024-11-21T00:00:00.000000000",
          "2024-11-22T00:00:00.000000000",
          "2024-11-23T00:00:00.000000000",
          "2024-11-24T00:00:00.000000000",
          "2024-11-25T00:00:00.000000000",
          "2024-11-26T00:00:00.000000000",
          "2024-11-27T00:00:00.000000000",
          "2024-11-28T00:00:00.000000000",
          "2024-11-29T00:00:00.000000000",
          "2024-11-30T00:00:00.000000000",
          "2024-12-01T00:00:00.000000000",
          "2024-12-02T00:00:00.000000000",
          "2024-12-03T00:00:00.000000000",
          "2024-12-04T00:00:00.000000000",
          "2024-12-05T00:00:00.000000000",
          "2024-12-06T00:00:00.000000000",
          "2024-12-07T00:00:00.000000000",
          "2024-12-08T00:00:00.000000000",
          "2024-12-09T00:00:00.000000000",
          "2024-12-10T00:00:00.000000000",
          "2024-12-11T00:00:00.000000000",
          "2024-12-12T00:00:00.000000000",
          "2024-12-13T00:00:00.000000000",
          "2024-12-14T00:00:00.000000000",
          "2024-12-15T00:00:00.000000000",
          "2024-12-16T00:00:00.000000000",
          "2024-12-17T00:00:00.000000000",
          "2024-12-18T00:00:00.000000000",
          "2024-12-19T00:00:00.000000000",
          "2024-12-20T00:00:00.000000000",
          "2024-12-21T00:00:00.000000000",
          "2024-12-22T00:00:00.000000000",
          "2024-12-23T00:00:00.000000000",
          "2024-12-24T00:00:00.000000000",
          "2024-12-25T00:00:00.000000000",
          "2024-12-26T00:00:00.000000000",
          "2024-12-27T00:00:00.000000000",
          "2024-12-28T00:00:00.000000000",
          "2024-12-29T00:00:00.000000000",
          "2024-12-30T00:00:00.000000000",
          "2024-12-31T00:00:00.000000000",
          "2025-01-01T00:00:00.000000000"
         ],
         "xaxis": "x",
         "y": {
          "bdata": "EK5H4XoU3j/AHoXrUbi+PwDXo3A9Crc/rkfhehSuB0BSuB6F61EUQCpcj8L1KBJA0MzMzMzMBEAYrkfhehQMQPBRuB6F6wdA+FG4HoXr+T/QtWCkkZvzPyZlB3Y5CwRA3oOMYYvDBkD8EfBmh8T3P+hMPF3RfuA/mMdx6g/867/Y0UiOgDnuv3hChphX3e6/gLj9pfS13z/gTDxd0X7gPwDM1MWDrKG/sNseAGvZ4D/A582kyAixP1C5/wkB8d6/+JQeCmzK77+gBHuPLc/hPwD+PfbUwcI/KJLwf0qT97+sfUI4aRj3vwgNBS6SdP6/FOSons9++b+4uTVKfG0AwKiy03kwrPC/qLLTeTCs9L90XtWO0HQJwGiHMR6Tag7AKCxiZxYFCcC47leQcpQLwOBK51JovQPA0OO70IxH77/Ao52KFJnBvyj8NAw34fm/CHdJun7C/L8oLGJnFgUBwMycn3HtqAHAXF+Vmkk4BMCwx3ehGY/evwAA07L1PcI/wJXOpdB6/78o/DQMN+H1vyj8NAw34fG/uO5XkHKUAcDAlc6l0Hr/v3xfIylUXfO/wJ+LhqvBzr+QDWsKz3H5vwwiGVKw7P2/xECePQKl/L86xD9ciykGwMqGNYXnuALAbLHbR9lI8b848nmF2+3pv1wDlGZeNP+/9uLER93hAMD4nC0A+M3wv4D8UClMK+y/dLHbR9lI8b/o3eatTxP2Pwhj0v8HMvM/MEuQUciC4z+goPdGAUPRP2DFRkbIr+C/EA0owdxd6L/4wePi6xDsv+i4MMtb0O4/SCgzAkuL7D8w6v+dL7DSP8C9Zu6npbu/4G2Z1fj5zj+gphRy6IDFv0Cro6ycasw/YoKrRb50A0CqYyZabLwCQMQEV4t86fI/YK0eVAOq6T+Az3ABq3bOvwC5RxJjvOS/RNJM5cAg8L9AJrha5EvHP3CEwsRAtOg/GJKiY+Sw6D9gV3j6+5TUP/A1E6Huh+Q/0L3eYGL72j+A+AjKShfnPyzOvIMqd/0/BHItwTRO/T9YnHkHVe7iPyD1f0gSrcq/wFBm94rAu7/A2YPe+F7oP5h99BsDNuw/ALmWYBqnBEBcSFlWQwMGQODsQW98L/w/pCnUavFKAUDgJtno8r37PzxgOUHGqwRAZLzIA7zUAkAoh0CRIGASQODQdkudTw9AwEuL+eQwAEAkCFT9oAX5P/DUIMpt0v0/il1hVMzcAUCsTf2zk6f7P1ySUJLoWAtArkpvF9SqD0A+DWVAMDoCQNipjHaJ0P8/uCETiBG1AkBcld4uqFX/PxSx1X06EQZArkpvF9SqD0AoXx1ftSUMQOCAMOfG2vY/ZGyCn+Vf8j8wOU9ssizzP3gayoBgdPA/PBDz3O828j9wQ+joY9bVP+hOyRWluOW/XsSvTwASAMBg+Zyp18f8v7Cxuy7DGf2/0DangHs4+r84B+iakAruvzDJWH+Ex/E/EHPfkuwi4T8Yt83AYBL0v7Q39iImMgDAbFZ7DnjqAsBM0Y+8v8sLwNK84XTeUAvAuCcLyze2/L+eia5Bqx0CwIZwdarj6wjAAoUj8sRmDcAgCg9EfYUKwG5Ov3FUgxDAAAAAAAAA+H8AAAAAAAD4fwAAAAAAAPh/gvwGU8+XFsC/Bt72P9UVwETyL69eWhfAbE6/cVSDGcAQv/x7KycdwL4G3vY/1RjATcnTH5xkFsDH3YFnfd8ewLC7jYCLPCHA7sVkJPz5IMB+iFpNWIkgwNoXHUOBZSDAtC86hgLLGMD8ELWasBIYwPI5ESpzCB3Avwbe9j/VGsBjdxsBF3kawJxSRJfUChnA5DO/q4JSFsD8mrGKONgLwDDO5L1rCwvAqCnoBxIVEsCeUkSX1AoWwAAAAAAAAPh/AAAAAAAA+H8AAAAAAAD4f2ofEWSh1x3ARFL+2ix7I8De65d0xpQhwOjCO+UDnyLAGGfy3rWFGcCMXaezlGcAwA==",
          "dtype": "f8"
         },
         "yaxis": "y"
        }
       ],
       "layout": {
        "legend": {
         "title": {
          "text": "Metric"
         },
         "tracegroupgap": 0
        },
        "template": {
         "data": {
          "bar": [
           {
            "error_x": {
             "color": "#2a3f5f"
            },
            "error_y": {
             "color": "#2a3f5f"
            },
            "marker": {
             "line": {
              "color": "#E5ECF6",
              "width": 0.5
             },
             "pattern": {
              "fillmode": "overlay",
              "size": 10,
              "solidity": 0.2
             }
            },
            "type": "bar"
           }
          ],
          "barpolar": [
           {
            "marker": {
             "line": {
              "color": "#E5ECF6",
              "width": 0.5
             },
             "pattern": {
              "fillmode": "overlay",
              "size": 10,
              "solidity": 0.2
             }
            },
            "type": "barpolar"
           }
          ],
          "carpet": [
           {
            "aaxis": {
             "endlinecolor": "#2a3f5f",
             "gridcolor": "white",
             "linecolor": "white",
             "minorgridcolor": "white",
             "startlinecolor": "#2a3f5f"
            },
            "baxis": {
             "endlinecolor": "#2a3f5f",
             "gridcolor": "white",
             "linecolor": "white",
             "minorgridcolor": "white",
             "startlinecolor": "#2a3f5f"
            },
            "type": "carpet"
           }
          ],
          "choropleth": [
           {
            "colorbar": {
             "outlinewidth": 0,
             "ticks": ""
            },
            "type": "choropleth"
           }
          ],
          "contour": [
           {
            "colorbar": {
             "outlinewidth": 0,
             "ticks": ""
            },
            "colorscale": [
             [
              0,
              "#0d0887"
             ],
             [
              0.1111111111111111,
              "#46039f"
             ],
             [
              0.2222222222222222,
              "#7201a8"
             ],
             [
              0.3333333333333333,
              "#9c179e"
             ],
             [
              0.4444444444444444,
              "#bd3786"
             ],
             [
              0.5555555555555556,
              "#d8576b"
             ],
             [
              0.6666666666666666,
              "#ed7953"
             ],
             [
              0.7777777777777778,
              "#fb9f3a"
             ],
             [
              0.8888888888888888,
              "#fdca26"
             ],
             [
              1,
              "#f0f921"
             ]
            ],
            "type": "contour"
           }
          ],
          "contourcarpet": [
           {
            "colorbar": {
             "outlinewidth": 0,
             "ticks": ""
            },
            "type": "contourcarpet"
           }
          ],
          "heatmap": [
           {
            "colorbar": {
             "outlinewidth": 0,
             "ticks": ""
            },
            "colorscale": [
             [
              0,
              "#0d0887"
             ],
             [
              0.1111111111111111,
              "#46039f"
             ],
             [
              0.2222222222222222,
              "#7201a8"
             ],
             [
              0.3333333333333333,
              "#9c179e"
             ],
             [
              0.4444444444444444,
              "#bd3786"
             ],
             [
              0.5555555555555556,
              "#d8576b"
             ],
             [
              0.6666666666666666,
              "#ed7953"
             ],
             [
              0.7777777777777778,
              "#fb9f3a"
             ],
             [
              0.8888888888888888,
              "#fdca26"
             ],
             [
              1,
              "#f0f921"
             ]
            ],
            "type": "heatmap"
           }
          ],
          "histogram": [
           {
            "marker": {
             "pattern": {
              "fillmode": "overlay",
              "size": 10,
              "solidity": 0.2
             }
            },
            "type": "histogram"
           }
          ],
          "histogram2d": [
           {
            "colorbar": {
             "outlinewidth": 0,
             "ticks": ""
            },
            "colorscale": [
             [
              0,
              "#0d0887"
             ],
             [
              0.1111111111111111,
              "#46039f"
             ],
             [
              0.2222222222222222,
              "#7201a8"
             ],
             [
              0.3333333333333333,
              "#9c179e"
             ],
             [
              0.4444444444444444,
              "#bd3786"
             ],
             [
              0.5555555555555556,
              "#d8576b"
             ],
             [
              0.6666666666666666,
              "#ed7953"
             ],
             [
              0.7777777777777778,
              "#fb9f3a"
             ],
             [
              0.8888888888888888,
              "#fdca26"
             ],
             [
              1,
              "#f0f921"
             ]
            ],
            "type": "histogram2d"
           }
          ],
          "histogram2dcontour": [
           {
            "colorbar": {
             "outlinewidth": 0,
             "ticks": ""
            },
            "colorscale": [
             [
              0,
              "#0d0887"
             ],
             [
              0.1111111111111111,
              "#46039f"
             ],
             [
              0.2222222222222222,
              "#7201a8"
             ],
             [
              0.3333333333333333,
              "#9c179e"
             ],
             [
              0.4444444444444444,
              "#bd3786"
             ],
             [
              0.5555555555555556,
              "#d8576b"
             ],
             [
              0.6666666666666666,
              "#ed7953"
             ],
             [
              0.7777777777777778,
              "#fb9f3a"
             ],
             [
              0.8888888888888888,
              "#fdca26"
             ],
             [
              1,
              "#f0f921"
             ]
            ],
            "type": "histogram2dcontour"
           }
          ],
          "mesh3d": [
           {
            "colorbar": {
             "outlinewidth": 0,
             "ticks": ""
            },
            "type": "mesh3d"
           }
          ],
          "parcoords": [
           {
            "line": {
             "colorbar": {
              "outlinewidth": 0,
              "ticks": ""
             }
            },
            "type": "parcoords"
           }
          ],
          "pie": [
           {
            "automargin": true,
            "type": "pie"
           }
          ],
          "scatter": [
           {
            "fillpattern": {
             "fillmode": "overlay",
             "size": 10,
             "solidity": 0.2
            },
            "type": "scatter"
           }
          ],
          "scatter3d": [
           {
            "line": {
             "colorbar": {
              "outlinewidth": 0,
              "ticks": ""
             }
            },
            "marker": {
             "colorbar": {
              "outlinewidth": 0,
              "ticks": ""
             }
            },
            "type": "scatter3d"
           }
          ],
          "scattercarpet": [
           {
            "marker": {
             "colorbar": {
              "outlinewidth": 0,
              "ticks": ""
             }
            },
            "type": "scattercarpet"
           }
          ],
          "scattergeo": [
           {
            "marker": {
             "colorbar": {
              "outlinewidth": 0,
              "ticks": ""
             }
            },
            "type": "scattergeo"
           }
          ],
          "scattergl": [
           {
            "marker": {
             "colorbar": {
              "outlinewidth": 0,
              "ticks": ""
             }
            },
            "type": "scattergl"
           }
          ],
          "scattermap": [
           {
            "marker": {
             "colorbar": {
              "outlinewidth": 0,
              "ticks": ""
             }
            },
            "type": "scattermap"
           }
          ],
          "scattermapbox": [
           {
            "marker": {
             "colorbar": {
              "outlinewidth": 0,
              "ticks": ""
             }
            },
            "type": "scattermapbox"
           }
          ],
          "scatterpolar": [
           {
            "marker": {
             "colorbar": {
              "outlinewidth": 0,
              "ticks": ""
             }
            },
            "type": "scatterpolar"
           }
          ],
          "scatterpolargl": [
           {
            "marker": {
             "colorbar": {
              "outlinewidth": 0,
              "ticks": ""
             }
            },
            "type": "scatterpolargl"
           }
          ],
          "scatterternary": [
           {
            "marker": {
             "colorbar": {
              "outlinewidth": 0,
              "ticks": ""
             }
            },
            "type": "scatterternary"
           }
          ],
          "surface": [
           {
            "colorbar": {
             "outlinewidth": 0,
             "ticks": ""
            },
            "colorscale": [
             [
              0,
              "#0d0887"
             ],
             [
              0.1111111111111111,
              "#46039f"
             ],
             [
              0.2222222222222222,
              "#7201a8"
             ],
             [
              0.3333333333333333,
              "#9c179e"
             ],
             [
              0.4444444444444444,
              "#bd3786"
             ],
             [
              0.5555555555555556,
              "#d8576b"
             ],
             [
              0.6666666666666666,
              "#ed7953"
             ],
             [
              0.7777777777777778,
              "#fb9f3a"
             ],
             [
              0.8888888888888888,
              "#fdca26"
             ],
             [
              1,
              "#f0f921"
             ]
            ],
            "type": "surface"
           }
          ],
          "table": [
           {
            "cells": {
             "fill": {
              "color": "#EBF0F8"
             },
             "line": {
              "color": "white"
             }
            },
            "header": {
             "fill": {
              "color": "#C8D4E3"
             },
             "line": {
              "color": "white"
             }
            },
            "type": "table"
           }
          ]
         },
         "layout": {
          "annotationdefaults": {
           "arrowcolor": "#2a3f5f",
           "arrowhead": 0,
           "arrowwidth": 1
          },
          "autotypenumbers": "strict",
          "coloraxis": {
           "colorbar": {
            "outlinewidth": 0,
            "ticks": ""
           }
          },
          "colorscale": {
           "diverging": [
            [
             0,
             "#8e0152"
            ],
            [
             0.1,
             "#c51b7d"
            ],
            [
             0.2,
             "#de77ae"
            ],
            [
             0.3,
             "#f1b6da"
            ],
            [
             0.4,
             "#fde0ef"
            ],
            [
             0.5,
             "#f7f7f7"
            ],
            [
             0.6,
             "#e6f5d0"
            ],
            [
             0.7,
             "#b8e186"
            ],
            [
             0.8,
             "#7fbc41"
            ],
            [
             0.9,
             "#4d9221"
            ],
            [
             1,
             "#276419"
            ]
           ],
           "sequential": [
            [
             0,
             "#0d0887"
            ],
            [
             0.1111111111111111,
             "#46039f"
            ],
            [
             0.2222222222222222,
             "#7201a8"
            ],
            [
             0.3333333333333333,
             "#9c179e"
            ],
            [
             0.4444444444444444,
             "#bd3786"
            ],
            [
             0.5555555555555556,
             "#d8576b"
            ],
            [
             0.6666666666666666,
             "#ed7953"
            ],
            [
             0.7777777777777778,
             "#fb9f3a"
            ],
            [
             0.8888888888888888,
             "#fdca26"
            ],
            [
             1,
             "#f0f921"
            ]
           ],
           "sequentialminus": [
            [
             0,
             "#0d0887"
            ],
            [
             0.1111111111111111,
             "#46039f"
            ],
            [
             0.2222222222222222,
             "#7201a8"
            ],
            [
             0.3333333333333333,
             "#9c179e"
            ],
            [
             0.4444444444444444,
             "#bd3786"
            ],
            [
             0.5555555555555556,
             "#d8576b"
            ],
            [
             0.6666666666666666,
             "#ed7953"
            ],
            [
             0.7777777777777778,
             "#fb9f3a"
            ],
            [
             0.8888888888888888,
             "#fdca26"
            ],
            [
             1,
             "#f0f921"
            ]
           ]
          },
          "colorway": [
           "#636efa",
           "#EF553B",
           "#00cc96",
           "#ab63fa",
           "#FFA15A",
           "#19d3f3",
           "#FF6692",
           "#B6E880",
           "#FF97FF",
           "#FECB52"
          ],
          "font": {
           "color": "#2a3f5f"
          },
          "geo": {
           "bgcolor": "white",
           "lakecolor": "white",
           "landcolor": "#E5ECF6",
           "showlakes": true,
           "showland": true,
           "subunitcolor": "white"
          },
          "hoverlabel": {
           "align": "left"
          },
          "hovermode": "closest",
          "mapbox": {
           "style": "light"
          },
          "paper_bgcolor": "white",
          "plot_bgcolor": "#E5ECF6",
          "polar": {
           "angularaxis": {
            "gridcolor": "white",
            "linecolor": "white",
            "ticks": ""
           },
           "bgcolor": "#E5ECF6",
           "radialaxis": {
            "gridcolor": "white",
            "linecolor": "white",
            "ticks": ""
           }
          },
          "scene": {
           "xaxis": {
            "backgroundcolor": "#E5ECF6",
            "gridcolor": "white",
            "gridwidth": 2,
            "linecolor": "white",
            "showbackground": true,
            "ticks": "",
            "zerolinecolor": "white"
           },
           "yaxis": {
            "backgroundcolor": "#E5ECF6",
            "gridcolor": "white",
            "gridwidth": 2,
            "linecolor": "white",
            "showbackground": true,
            "ticks": "",
            "zerolinecolor": "white"
           },
           "zaxis": {
            "backgroundcolor": "#E5ECF6",
            "gridcolor": "white",
            "gridwidth": 2,
            "linecolor": "white",
            "showbackground": true,
            "ticks": "",
            "zerolinecolor": "white"
           }
          },
          "shapedefaults": {
           "line": {
            "color": "#2a3f5f"
           }
          },
          "ternary": {
           "aaxis": {
            "gridcolor": "white",
            "linecolor": "white",
            "ticks": ""
           },
           "baxis": {
            "gridcolor": "white",
            "linecolor": "white",
            "ticks": ""
           },
           "bgcolor": "#E5ECF6",
           "caxis": {
            "gridcolor": "white",
            "linecolor": "white",
            "ticks": ""
           }
          },
          "title": {
           "x": 0.05
          },
          "xaxis": {
           "automargin": true,
           "gridcolor": "white",
           "linecolor": "white",
           "ticks": "",
           "title": {
            "standoff": 15
           },
           "zerolinecolor": "white",
           "zerolinewidth": 2
          },
          "yaxis": {
           "automargin": true,
           "gridcolor": "white",
           "linecolor": "white",
           "ticks": "",
           "title": {
            "standoff": 15
           },
           "zerolinecolor": "white",
           "zerolinewidth": 2
          }
         }
        },
        "title": {
         "text": "Sleep Metrics Over Time"
        },
        "xaxis": {
         "anchor": "y",
         "domain": [
          0,
          1
         ],
         "title": {
          "text": "Date"
         }
        },
        "yaxis": {
         "anchor": "x",
         "domain": [
          0,
          1
         ],
         "title": {
          "text": "Hours"
         }
        }
       }
      }
     },
     "metadata": {},
     "output_type": "display_data"
    }
   ],
   "source": [
    "# Create a line chart visualizing sleep metrics over time\n",
    "fig_sleep = px.line(\n",
    "    fitness_data, \n",
    "    x='date', \n",
    "    y=['sleep_hours', 'sleep_debt', 'cumulative_sleep_debt'], \n",
    "    title='Sleep Metrics Over Time',\n",
    "    labels={\n",
    "        'value': 'Hours',\n",
    "        'date': 'Date',\n",
    "        'variable': 'Metric'\n",
    "    },\n",
    "    markers=True\n",
    ")\n",
    "fig_sleep.show()"
   ]
  },
  {
   "cell_type": "code",
   "execution_count": 47,
   "id": "182a6fc5",
   "metadata": {},
   "outputs": [
    {
     "data": {
      "application/vnd.plotly.v1+json": {
       "config": {
        "plotlyServerURL": "https://plot.ly"
       },
       "data": [
        {
         "alignmentgroup": "True",
         "hovertemplate": "Day Type (Weekday or Weekend)=%{x}<br>Sleep Hours=%{y}<extra></extra>",
         "legendgroup": "False",
         "marker": {
          "color": "#636efa"
         },
         "name": "False",
         "notched": false,
         "offsetgroup": "False",
         "orientation": "v",
         "showlegend": true,
         "type": "box",
         "x": [
          false,
          false,
          false,
          false,
          false,
          false,
          false,
          false,
          false,
          false,
          false,
          false,
          false,
          false,
          false,
          false,
          false,
          false,
          false,
          false,
          false,
          false,
          false,
          false,
          false,
          false,
          false,
          false,
          false,
          false,
          false,
          false,
          false,
          false,
          false,
          false,
          false,
          false,
          false,
          false,
          false,
          false,
          false,
          false,
          false,
          false,
          false,
          false,
          false,
          false,
          false,
          false,
          false,
          false,
          false,
          false,
          false,
          false,
          false,
          false,
          false,
          false,
          false,
          false,
          false,
          false,
          false,
          false,
          false,
          false,
          false,
          false,
          false,
          false,
          false,
          false,
          false,
          false,
          false,
          false,
          false,
          false,
          false,
          false,
          false,
          false,
          false,
          false,
          false,
          false,
          false,
          false,
          false,
          false,
          false,
          false,
          false,
          false,
          false,
          false,
          false,
          false,
          false,
          false,
          false,
          false,
          false,
          false,
          false,
          false,
          false,
          false,
          false,
          false,
          false,
          false,
          false,
          false,
          false,
          false,
          false,
          false,
          false,
          false,
          false,
          false,
          false,
          false,
          false,
          false,
          false,
          false,
          false
         ],
         "x0": " ",
         "xaxis": "x",
         "y": {
          "bdata": "H4XrUbgeHEBmZmZmZmYfQB+F61G4Hh5AhetRuB6FEkCF61G4HoUVQFyPwvUoXBpACtejcD0KIEA9CtejcL0hQArnld78kx9A4XoUrkfhGEBxPQrXo/AgQEjhehSuxyFASOF6FK5HHkAUrkfhehQeQClcj8L1KBhA8npwmHnBG0DXo3A9CtcfQJqZmZmZGSBAhetRuB4FIEDNzMzMzMwXQOF6FK5H4R1A16NwPQrXH0DD9Shcj8IcQNejcD0K1x9Azg9a+U30GUA9CtejcD0gQGBSmKRBTRtASOF6FK5HH0AUrkfhehQaQArXo3A9ChhAuB6F61G4HkBSuB6F61EfQFK4HoXrUR5ASOF6FK5HH0DNzMzMzMwVQJqZmZmZmRtAAAAAAAAAHUApXI/C9SghQBSuR+F6FB1AbzLV4KD4GkAfhetRuB4fQK5H4XoUrh1A9ihcj8L1IEBI4XoUrkccQPYoXI/C9RhApHA9CtejHkDD9Shcj8IZQFK4HoXrUR1AzczMzMzMHkApXI/C9SgUQFyPwvUoXB9AWymcjhSVIED2KFyPwvUeQJ12N+Rhdh5ApHA9CtejFkCamZmZmZkfQJqZmZmZmRxApHA9CtejH0BxPQrXo3AcQClcj8L1KBVAhetRuB6FH0AUrkfhehQhQKRwPQrXox9AcT0K16NwH0A9CtejcD0ZQM3MzMzMzB9AuB6F61G4HEDhehSuR+EeQM3MzMzMzBxAhetRuB6FGUCamZmZmZkgQJqZmZmZmR1AhetRuB6FGkCF61G4HoUdQDMzMzMzMxdAZmZmZmZmHEAayzP7+7UfQJqZmZmZmRpA7FG4HoXrHkAK16NwPQoVQNejcD0K1x9AzczMzMzMHEB3hldINYYcQK2tmJ5AAiBAPQrXo3A9F0ApXI/C9SgfQJqZmZmZmRxAhetRuB6FH0DNzMzMzMwaQDMzMzMzMxlAH4XrUbgeH0DNzMzMzMwdQK5H4XoUrh5Aj8L1KFyPHUDsH1fcKpggQClcj8L1KB1AFK5H4XoUHkBI4XoUrkcdQDMzMzMzMxtAzczMzMzMFUAK16NwPYogQFyPwvUoXB9AuB6F61E4IUDD9Shcj8IdQIXrUbgehRdAH4XrUbgeIECPwvUoXI8cQK/k2+dKoCBAAAAAAAAA+H8AAAAAAAD4fz0K16NwPR1AhetRuB6FH0AUrkfhehQgQFK4HoXr0SBArkfhehSuGUDNzMzMzMwgQHsUrkfheh1AH4XrUbgeHUC4HoXrUbgdQAAAAAAAABZAzczMzMzMG0CkcD0K16MdQDnbKJa9kRxASOF6FK5HG0CamZmZmZkVQHsUrkfh+iBAAAAAAAAA+H8AAAAAAAD4fwAAAAAAAPh/ZmZmZmbmIkAK16NwPQogQEjhehSuRxJAXI/C9ShcCUA=",
          "dtype": "f8"
         },
         "y0": " ",
         "yaxis": "y"
        },
        {
         "alignmentgroup": "True",
         "hovertemplate": "Day Type (Weekday or Weekend)=%{x}<br>Sleep Hours=%{y}<extra></extra>",
         "legendgroup": "True",
         "marker": {
          "color": "#EF553B"
         },
         "name": "True",
         "notched": false,
         "offsetgroup": "True",
         "orientation": "v",
         "showlegend": true,
         "type": "box",
         "x": [
          true,
          true,
          true,
          true,
          true,
          true,
          true,
          true,
          true,
          true,
          true,
          true,
          true,
          true,
          true,
          true,
          true,
          true,
          true,
          true,
          true,
          true,
          true,
          true,
          true,
          true,
          true,
          true,
          true,
          true,
          true,
          true,
          true,
          true,
          true,
          true,
          true,
          true,
          true,
          true,
          true,
          true,
          true,
          true,
          true,
          true,
          true,
          true,
          true,
          true,
          true,
          true
         ],
         "x0": " ",
         "xaxis": "x",
         "y": {
          "bdata": "FK5H4XoUIEDhehSuR+EiQKRwPQrXoxxAuB6F61G4IUDsUbgehesdQJqZmZmZGSBApHA9CtejH0A9CtejcD0iQAAAAAAAAB9ASOF6FK7HIkCkcD0K16MaQPYoXI/C9SFAhetRuB6FG0C4HoXrUTgjQB+F61G4HhpAMzMzMzOzIUDsUbgehescQEjhehSuRyFAuB6F61G4HkCuR+F6FC4gQBSyHxmiSB5AMzMzMzMzIEBcj8L1KFweQFK4HoXrUSFApHA9CtejG0BL/iOMawAeQArXo3A9Ch5AexSuR+F6IUBSuB6F61EdQHsUrkfh+iBAXI/C9ShcIEBI4XoUrsciQNejcD0K1xtAXI/C9ShcIkDD9Shcj8IfQK5H4XoULiNACtejcD0KIUApXI/C9aghQPUhvcbBJiBAFK5H4XqUIkDhehSuR+EfQLq5MRqOsyBAAAAAAAAA+H8K16NwPQoiQI/C9ShcjxtAPQrXo3A9I0BI4XoUrkcdQHsUrkfheiFAmpmZmZmZHUBI4XoUrkchQI/C9ShcjyNAMzMzMzMzGkA=",
          "dtype": "f8"
         },
         "y0": " ",
         "yaxis": "y"
        }
       ],
       "layout": {
        "boxmode": "overlay",
        "legend": {
         "title": {
          "text": "Day Type (Weekday or Weekend)"
         },
         "tracegroupgap": 0
        },
        "template": {
         "data": {
          "bar": [
           {
            "error_x": {
             "color": "#2a3f5f"
            },
            "error_y": {
             "color": "#2a3f5f"
            },
            "marker": {
             "line": {
              "color": "white",
              "width": 0.5
             },
             "pattern": {
              "fillmode": "overlay",
              "size": 10,
              "solidity": 0.2
             }
            },
            "type": "bar"
           }
          ],
          "barpolar": [
           {
            "marker": {
             "line": {
              "color": "white",
              "width": 0.5
             },
             "pattern": {
              "fillmode": "overlay",
              "size": 10,
              "solidity": 0.2
             }
            },
            "type": "barpolar"
           }
          ],
          "carpet": [
           {
            "aaxis": {
             "endlinecolor": "#2a3f5f",
             "gridcolor": "#C8D4E3",
             "linecolor": "#C8D4E3",
             "minorgridcolor": "#C8D4E3",
             "startlinecolor": "#2a3f5f"
            },
            "baxis": {
             "endlinecolor": "#2a3f5f",
             "gridcolor": "#C8D4E3",
             "linecolor": "#C8D4E3",
             "minorgridcolor": "#C8D4E3",
             "startlinecolor": "#2a3f5f"
            },
            "type": "carpet"
           }
          ],
          "choropleth": [
           {
            "colorbar": {
             "outlinewidth": 0,
             "ticks": ""
            },
            "type": "choropleth"
           }
          ],
          "contour": [
           {
            "colorbar": {
             "outlinewidth": 0,
             "ticks": ""
            },
            "colorscale": [
             [
              0,
              "#0d0887"
             ],
             [
              0.1111111111111111,
              "#46039f"
             ],
             [
              0.2222222222222222,
              "#7201a8"
             ],
             [
              0.3333333333333333,
              "#9c179e"
             ],
             [
              0.4444444444444444,
              "#bd3786"
             ],
             [
              0.5555555555555556,
              "#d8576b"
             ],
             [
              0.6666666666666666,
              "#ed7953"
             ],
             [
              0.7777777777777778,
              "#fb9f3a"
             ],
             [
              0.8888888888888888,
              "#fdca26"
             ],
             [
              1,
              "#f0f921"
             ]
            ],
            "type": "contour"
           }
          ],
          "contourcarpet": [
           {
            "colorbar": {
             "outlinewidth": 0,
             "ticks": ""
            },
            "type": "contourcarpet"
           }
          ],
          "heatmap": [
           {
            "colorbar": {
             "outlinewidth": 0,
             "ticks": ""
            },
            "colorscale": [
             [
              0,
              "#0d0887"
             ],
             [
              0.1111111111111111,
              "#46039f"
             ],
             [
              0.2222222222222222,
              "#7201a8"
             ],
             [
              0.3333333333333333,
              "#9c179e"
             ],
             [
              0.4444444444444444,
              "#bd3786"
             ],
             [
              0.5555555555555556,
              "#d8576b"
             ],
             [
              0.6666666666666666,
              "#ed7953"
             ],
             [
              0.7777777777777778,
              "#fb9f3a"
             ],
             [
              0.8888888888888888,
              "#fdca26"
             ],
             [
              1,
              "#f0f921"
             ]
            ],
            "type": "heatmap"
           }
          ],
          "histogram": [
           {
            "marker": {
             "pattern": {
              "fillmode": "overlay",
              "size": 10,
              "solidity": 0.2
             }
            },
            "type": "histogram"
           }
          ],
          "histogram2d": [
           {
            "colorbar": {
             "outlinewidth": 0,
             "ticks": ""
            },
            "colorscale": [
             [
              0,
              "#0d0887"
             ],
             [
              0.1111111111111111,
              "#46039f"
             ],
             [
              0.2222222222222222,
              "#7201a8"
             ],
             [
              0.3333333333333333,
              "#9c179e"
             ],
             [
              0.4444444444444444,
              "#bd3786"
             ],
             [
              0.5555555555555556,
              "#d8576b"
             ],
             [
              0.6666666666666666,
              "#ed7953"
             ],
             [
              0.7777777777777778,
              "#fb9f3a"
             ],
             [
              0.8888888888888888,
              "#fdca26"
             ],
             [
              1,
              "#f0f921"
             ]
            ],
            "type": "histogram2d"
           }
          ],
          "histogram2dcontour": [
           {
            "colorbar": {
             "outlinewidth": 0,
             "ticks": ""
            },
            "colorscale": [
             [
              0,
              "#0d0887"
             ],
             [
              0.1111111111111111,
              "#46039f"
             ],
             [
              0.2222222222222222,
              "#7201a8"
             ],
             [
              0.3333333333333333,
              "#9c179e"
             ],
             [
              0.4444444444444444,
              "#bd3786"
             ],
             [
              0.5555555555555556,
              "#d8576b"
             ],
             [
              0.6666666666666666,
              "#ed7953"
             ],
             [
              0.7777777777777778,
              "#fb9f3a"
             ],
             [
              0.8888888888888888,
              "#fdca26"
             ],
             [
              1,
              "#f0f921"
             ]
            ],
            "type": "histogram2dcontour"
           }
          ],
          "mesh3d": [
           {
            "colorbar": {
             "outlinewidth": 0,
             "ticks": ""
            },
            "type": "mesh3d"
           }
          ],
          "parcoords": [
           {
            "line": {
             "colorbar": {
              "outlinewidth": 0,
              "ticks": ""
             }
            },
            "type": "parcoords"
           }
          ],
          "pie": [
           {
            "automargin": true,
            "type": "pie"
           }
          ],
          "scatter": [
           {
            "fillpattern": {
             "fillmode": "overlay",
             "size": 10,
             "solidity": 0.2
            },
            "type": "scatter"
           }
          ],
          "scatter3d": [
           {
            "line": {
             "colorbar": {
              "outlinewidth": 0,
              "ticks": ""
             }
            },
            "marker": {
             "colorbar": {
              "outlinewidth": 0,
              "ticks": ""
             }
            },
            "type": "scatter3d"
           }
          ],
          "scattercarpet": [
           {
            "marker": {
             "colorbar": {
              "outlinewidth": 0,
              "ticks": ""
             }
            },
            "type": "scattercarpet"
           }
          ],
          "scattergeo": [
           {
            "marker": {
             "colorbar": {
              "outlinewidth": 0,
              "ticks": ""
             }
            },
            "type": "scattergeo"
           }
          ],
          "scattergl": [
           {
            "marker": {
             "colorbar": {
              "outlinewidth": 0,
              "ticks": ""
             }
            },
            "type": "scattergl"
           }
          ],
          "scattermap": [
           {
            "marker": {
             "colorbar": {
              "outlinewidth": 0,
              "ticks": ""
             }
            },
            "type": "scattermap"
           }
          ],
          "scattermapbox": [
           {
            "marker": {
             "colorbar": {
              "outlinewidth": 0,
              "ticks": ""
             }
            },
            "type": "scattermapbox"
           }
          ],
          "scatterpolar": [
           {
            "marker": {
             "colorbar": {
              "outlinewidth": 0,
              "ticks": ""
             }
            },
            "type": "scatterpolar"
           }
          ],
          "scatterpolargl": [
           {
            "marker": {
             "colorbar": {
              "outlinewidth": 0,
              "ticks": ""
             }
            },
            "type": "scatterpolargl"
           }
          ],
          "scatterternary": [
           {
            "marker": {
             "colorbar": {
              "outlinewidth": 0,
              "ticks": ""
             }
            },
            "type": "scatterternary"
           }
          ],
          "surface": [
           {
            "colorbar": {
             "outlinewidth": 0,
             "ticks": ""
            },
            "colorscale": [
             [
              0,
              "#0d0887"
             ],
             [
              0.1111111111111111,
              "#46039f"
             ],
             [
              0.2222222222222222,
              "#7201a8"
             ],
             [
              0.3333333333333333,
              "#9c179e"
             ],
             [
              0.4444444444444444,
              "#bd3786"
             ],
             [
              0.5555555555555556,
              "#d8576b"
             ],
             [
              0.6666666666666666,
              "#ed7953"
             ],
             [
              0.7777777777777778,
              "#fb9f3a"
             ],
             [
              0.8888888888888888,
              "#fdca26"
             ],
             [
              1,
              "#f0f921"
             ]
            ],
            "type": "surface"
           }
          ],
          "table": [
           {
            "cells": {
             "fill": {
              "color": "#EBF0F8"
             },
             "line": {
              "color": "white"
             }
            },
            "header": {
             "fill": {
              "color": "#C8D4E3"
             },
             "line": {
              "color": "white"
             }
            },
            "type": "table"
           }
          ]
         },
         "layout": {
          "annotationdefaults": {
           "arrowcolor": "#2a3f5f",
           "arrowhead": 0,
           "arrowwidth": 1
          },
          "autotypenumbers": "strict",
          "coloraxis": {
           "colorbar": {
            "outlinewidth": 0,
            "ticks": ""
           }
          },
          "colorscale": {
           "diverging": [
            [
             0,
             "#8e0152"
            ],
            [
             0.1,
             "#c51b7d"
            ],
            [
             0.2,
             "#de77ae"
            ],
            [
             0.3,
             "#f1b6da"
            ],
            [
             0.4,
             "#fde0ef"
            ],
            [
             0.5,
             "#f7f7f7"
            ],
            [
             0.6,
             "#e6f5d0"
            ],
            [
             0.7,
             "#b8e186"
            ],
            [
             0.8,
             "#7fbc41"
            ],
            [
             0.9,
             "#4d9221"
            ],
            [
             1,
             "#276419"
            ]
           ],
           "sequential": [
            [
             0,
             "#0d0887"
            ],
            [
             0.1111111111111111,
             "#46039f"
            ],
            [
             0.2222222222222222,
             "#7201a8"
            ],
            [
             0.3333333333333333,
             "#9c179e"
            ],
            [
             0.4444444444444444,
             "#bd3786"
            ],
            [
             0.5555555555555556,
             "#d8576b"
            ],
            [
             0.6666666666666666,
             "#ed7953"
            ],
            [
             0.7777777777777778,
             "#fb9f3a"
            ],
            [
             0.8888888888888888,
             "#fdca26"
            ],
            [
             1,
             "#f0f921"
            ]
           ],
           "sequentialminus": [
            [
             0,
             "#0d0887"
            ],
            [
             0.1111111111111111,
             "#46039f"
            ],
            [
             0.2222222222222222,
             "#7201a8"
            ],
            [
             0.3333333333333333,
             "#9c179e"
            ],
            [
             0.4444444444444444,
             "#bd3786"
            ],
            [
             0.5555555555555556,
             "#d8576b"
            ],
            [
             0.6666666666666666,
             "#ed7953"
            ],
            [
             0.7777777777777778,
             "#fb9f3a"
            ],
            [
             0.8888888888888888,
             "#fdca26"
            ],
            [
             1,
             "#f0f921"
            ]
           ]
          },
          "colorway": [
           "#636efa",
           "#EF553B",
           "#00cc96",
           "#ab63fa",
           "#FFA15A",
           "#19d3f3",
           "#FF6692",
           "#B6E880",
           "#FF97FF",
           "#FECB52"
          ],
          "font": {
           "color": "#2a3f5f"
          },
          "geo": {
           "bgcolor": "white",
           "lakecolor": "white",
           "landcolor": "white",
           "showlakes": true,
           "showland": true,
           "subunitcolor": "#C8D4E3"
          },
          "hoverlabel": {
           "align": "left"
          },
          "hovermode": "closest",
          "mapbox": {
           "style": "light"
          },
          "paper_bgcolor": "white",
          "plot_bgcolor": "white",
          "polar": {
           "angularaxis": {
            "gridcolor": "#EBF0F8",
            "linecolor": "#EBF0F8",
            "ticks": ""
           },
           "bgcolor": "white",
           "radialaxis": {
            "gridcolor": "#EBF0F8",
            "linecolor": "#EBF0F8",
            "ticks": ""
           }
          },
          "scene": {
           "xaxis": {
            "backgroundcolor": "white",
            "gridcolor": "#DFE8F3",
            "gridwidth": 2,
            "linecolor": "#EBF0F8",
            "showbackground": true,
            "ticks": "",
            "zerolinecolor": "#EBF0F8"
           },
           "yaxis": {
            "backgroundcolor": "white",
            "gridcolor": "#DFE8F3",
            "gridwidth": 2,
            "linecolor": "#EBF0F8",
            "showbackground": true,
            "ticks": "",
            "zerolinecolor": "#EBF0F8"
           },
           "zaxis": {
            "backgroundcolor": "white",
            "gridcolor": "#DFE8F3",
            "gridwidth": 2,
            "linecolor": "#EBF0F8",
            "showbackground": true,
            "ticks": "",
            "zerolinecolor": "#EBF0F8"
           }
          },
          "shapedefaults": {
           "line": {
            "color": "#2a3f5f"
           }
          },
          "ternary": {
           "aaxis": {
            "gridcolor": "#DFE8F3",
            "linecolor": "#A2B1C6",
            "ticks": ""
           },
           "baxis": {
            "gridcolor": "#DFE8F3",
            "linecolor": "#A2B1C6",
            "ticks": ""
           },
           "bgcolor": "white",
           "caxis": {
            "gridcolor": "#DFE8F3",
            "linecolor": "#A2B1C6",
            "ticks": ""
           }
          },
          "title": {
           "x": 0.05
          },
          "xaxis": {
           "automargin": true,
           "gridcolor": "#EBF0F8",
           "linecolor": "#EBF0F8",
           "ticks": "",
           "title": {
            "standoff": 15
           },
           "zerolinecolor": "#EBF0F8",
           "zerolinewidth": 2
          },
          "yaxis": {
           "automargin": true,
           "gridcolor": "#EBF0F8",
           "linecolor": "#EBF0F8",
           "ticks": "",
           "title": {
            "standoff": 15
           },
           "zerolinecolor": "#EBF0F8",
           "zerolinewidth": 2
          }
         }
        },
        "title": {
         "text": "Sleep Hours: Weekdays vs Weekends"
        },
        "xaxis": {
         "anchor": "y",
         "categoryarray": [
          false,
          true
         ],
         "categoryorder": "array",
         "domain": [
          0,
          1
         ],
         "title": {
          "text": "Day Type (Weekday or Weekend)"
         }
        },
        "yaxis": {
         "anchor": "x",
         "domain": [
          0,
          1
         ],
         "title": {
          "text": "Sleep Hours"
         }
        }
       }
      }
     },
     "metadata": {},
     "output_type": "display_data"
    }
   ],
   "source": [
    "# Create a box plot for sleep hours comparing weekdays and weekends\n",
    "fig = px.box(\n",
    "    fitness_data,\n",
    "    x='weekend',\n",
    "    y='sleep_hours',\n",
    "    title='Sleep Hours: Weekdays vs Weekends',\n",
    "    labels={'weekend': 'Day Type (Weekday or Weekend)', 'sleep_hours': 'Sleep Hours'},\n",
    "    template='plotly_white',\n",
    "    color='weekend'\n",
    ")\n",
    "fig.show()"
   ]
  },
  {
   "cell_type": "code",
   "execution_count": 48,
   "id": "d4b7b4e7",
   "metadata": {},
   "outputs": [
    {
     "data": {
      "application/vnd.plotly.v1+json": {
       "config": {
        "plotlyServerURL": "https://plot.ly"
       },
       "data": [
        {
         "hovertemplate": "Day of the Week=%{x}<br>Average Sleep Hours=%{y}<extra></extra>",
         "legendgroup": "",
         "marker": {
          "color": "#636efa",
          "pattern": {
           "shape": ""
          }
         },
         "name": "",
         "orientation": "v",
         "showlegend": false,
         "textposition": "auto",
         "type": "bar",
         "x": [
          "Monday",
          "Tuesday",
          "Wednesday",
          "Thursday",
          "Friday",
          "Saturday",
          "Sunday"
         ],
         "xaxis": "x",
         "y": {
          "bdata": "Ls2VyOXNHkBhc2Ez5+odQIvVY6f4Kx5ATES4HnlhHUBc8nKvZnEYQNJm7m9cSB5AWpGeolqEIUA=",
          "dtype": "f8"
         },
         "yaxis": "y"
        }
       ],
       "layout": {
        "barmode": "relative",
        "legend": {
         "tracegroupgap": 0
        },
        "template": {
         "data": {
          "bar": [
           {
            "error_x": {
             "color": "#2a3f5f"
            },
            "error_y": {
             "color": "#2a3f5f"
            },
            "marker": {
             "line": {
              "color": "#E5ECF6",
              "width": 0.5
             },
             "pattern": {
              "fillmode": "overlay",
              "size": 10,
              "solidity": 0.2
             }
            },
            "type": "bar"
           }
          ],
          "barpolar": [
           {
            "marker": {
             "line": {
              "color": "#E5ECF6",
              "width": 0.5
             },
             "pattern": {
              "fillmode": "overlay",
              "size": 10,
              "solidity": 0.2
             }
            },
            "type": "barpolar"
           }
          ],
          "carpet": [
           {
            "aaxis": {
             "endlinecolor": "#2a3f5f",
             "gridcolor": "white",
             "linecolor": "white",
             "minorgridcolor": "white",
             "startlinecolor": "#2a3f5f"
            },
            "baxis": {
             "endlinecolor": "#2a3f5f",
             "gridcolor": "white",
             "linecolor": "white",
             "minorgridcolor": "white",
             "startlinecolor": "#2a3f5f"
            },
            "type": "carpet"
           }
          ],
          "choropleth": [
           {
            "colorbar": {
             "outlinewidth": 0,
             "ticks": ""
            },
            "type": "choropleth"
           }
          ],
          "contour": [
           {
            "colorbar": {
             "outlinewidth": 0,
             "ticks": ""
            },
            "colorscale": [
             [
              0,
              "#0d0887"
             ],
             [
              0.1111111111111111,
              "#46039f"
             ],
             [
              0.2222222222222222,
              "#7201a8"
             ],
             [
              0.3333333333333333,
              "#9c179e"
             ],
             [
              0.4444444444444444,
              "#bd3786"
             ],
             [
              0.5555555555555556,
              "#d8576b"
             ],
             [
              0.6666666666666666,
              "#ed7953"
             ],
             [
              0.7777777777777778,
              "#fb9f3a"
             ],
             [
              0.8888888888888888,
              "#fdca26"
             ],
             [
              1,
              "#f0f921"
             ]
            ],
            "type": "contour"
           }
          ],
          "contourcarpet": [
           {
            "colorbar": {
             "outlinewidth": 0,
             "ticks": ""
            },
            "type": "contourcarpet"
           }
          ],
          "heatmap": [
           {
            "colorbar": {
             "outlinewidth": 0,
             "ticks": ""
            },
            "colorscale": [
             [
              0,
              "#0d0887"
             ],
             [
              0.1111111111111111,
              "#46039f"
             ],
             [
              0.2222222222222222,
              "#7201a8"
             ],
             [
              0.3333333333333333,
              "#9c179e"
             ],
             [
              0.4444444444444444,
              "#bd3786"
             ],
             [
              0.5555555555555556,
              "#d8576b"
             ],
             [
              0.6666666666666666,
              "#ed7953"
             ],
             [
              0.7777777777777778,
              "#fb9f3a"
             ],
             [
              0.8888888888888888,
              "#fdca26"
             ],
             [
              1,
              "#f0f921"
             ]
            ],
            "type": "heatmap"
           }
          ],
          "histogram": [
           {
            "marker": {
             "pattern": {
              "fillmode": "overlay",
              "size": 10,
              "solidity": 0.2
             }
            },
            "type": "histogram"
           }
          ],
          "histogram2d": [
           {
            "colorbar": {
             "outlinewidth": 0,
             "ticks": ""
            },
            "colorscale": [
             [
              0,
              "#0d0887"
             ],
             [
              0.1111111111111111,
              "#46039f"
             ],
             [
              0.2222222222222222,
              "#7201a8"
             ],
             [
              0.3333333333333333,
              "#9c179e"
             ],
             [
              0.4444444444444444,
              "#bd3786"
             ],
             [
              0.5555555555555556,
              "#d8576b"
             ],
             [
              0.6666666666666666,
              "#ed7953"
             ],
             [
              0.7777777777777778,
              "#fb9f3a"
             ],
             [
              0.8888888888888888,
              "#fdca26"
             ],
             [
              1,
              "#f0f921"
             ]
            ],
            "type": "histogram2d"
           }
          ],
          "histogram2dcontour": [
           {
            "colorbar": {
             "outlinewidth": 0,
             "ticks": ""
            },
            "colorscale": [
             [
              0,
              "#0d0887"
             ],
             [
              0.1111111111111111,
              "#46039f"
             ],
             [
              0.2222222222222222,
              "#7201a8"
             ],
             [
              0.3333333333333333,
              "#9c179e"
             ],
             [
              0.4444444444444444,
              "#bd3786"
             ],
             [
              0.5555555555555556,
              "#d8576b"
             ],
             [
              0.6666666666666666,
              "#ed7953"
             ],
             [
              0.7777777777777778,
              "#fb9f3a"
             ],
             [
              0.8888888888888888,
              "#fdca26"
             ],
             [
              1,
              "#f0f921"
             ]
            ],
            "type": "histogram2dcontour"
           }
          ],
          "mesh3d": [
           {
            "colorbar": {
             "outlinewidth": 0,
             "ticks": ""
            },
            "type": "mesh3d"
           }
          ],
          "parcoords": [
           {
            "line": {
             "colorbar": {
              "outlinewidth": 0,
              "ticks": ""
             }
            },
            "type": "parcoords"
           }
          ],
          "pie": [
           {
            "automargin": true,
            "type": "pie"
           }
          ],
          "scatter": [
           {
            "fillpattern": {
             "fillmode": "overlay",
             "size": 10,
             "solidity": 0.2
            },
            "type": "scatter"
           }
          ],
          "scatter3d": [
           {
            "line": {
             "colorbar": {
              "outlinewidth": 0,
              "ticks": ""
             }
            },
            "marker": {
             "colorbar": {
              "outlinewidth": 0,
              "ticks": ""
             }
            },
            "type": "scatter3d"
           }
          ],
          "scattercarpet": [
           {
            "marker": {
             "colorbar": {
              "outlinewidth": 0,
              "ticks": ""
             }
            },
            "type": "scattercarpet"
           }
          ],
          "scattergeo": [
           {
            "marker": {
             "colorbar": {
              "outlinewidth": 0,
              "ticks": ""
             }
            },
            "type": "scattergeo"
           }
          ],
          "scattergl": [
           {
            "marker": {
             "colorbar": {
              "outlinewidth": 0,
              "ticks": ""
             }
            },
            "type": "scattergl"
           }
          ],
          "scattermap": [
           {
            "marker": {
             "colorbar": {
              "outlinewidth": 0,
              "ticks": ""
             }
            },
            "type": "scattermap"
           }
          ],
          "scattermapbox": [
           {
            "marker": {
             "colorbar": {
              "outlinewidth": 0,
              "ticks": ""
             }
            },
            "type": "scattermapbox"
           }
          ],
          "scatterpolar": [
           {
            "marker": {
             "colorbar": {
              "outlinewidth": 0,
              "ticks": ""
             }
            },
            "type": "scatterpolar"
           }
          ],
          "scatterpolargl": [
           {
            "marker": {
             "colorbar": {
              "outlinewidth": 0,
              "ticks": ""
             }
            },
            "type": "scatterpolargl"
           }
          ],
          "scatterternary": [
           {
            "marker": {
             "colorbar": {
              "outlinewidth": 0,
              "ticks": ""
             }
            },
            "type": "scatterternary"
           }
          ],
          "surface": [
           {
            "colorbar": {
             "outlinewidth": 0,
             "ticks": ""
            },
            "colorscale": [
             [
              0,
              "#0d0887"
             ],
             [
              0.1111111111111111,
              "#46039f"
             ],
             [
              0.2222222222222222,
              "#7201a8"
             ],
             [
              0.3333333333333333,
              "#9c179e"
             ],
             [
              0.4444444444444444,
              "#bd3786"
             ],
             [
              0.5555555555555556,
              "#d8576b"
             ],
             [
              0.6666666666666666,
              "#ed7953"
             ],
             [
              0.7777777777777778,
              "#fb9f3a"
             ],
             [
              0.8888888888888888,
              "#fdca26"
             ],
             [
              1,
              "#f0f921"
             ]
            ],
            "type": "surface"
           }
          ],
          "table": [
           {
            "cells": {
             "fill": {
              "color": "#EBF0F8"
             },
             "line": {
              "color": "white"
             }
            },
            "header": {
             "fill": {
              "color": "#C8D4E3"
             },
             "line": {
              "color": "white"
             }
            },
            "type": "table"
           }
          ]
         },
         "layout": {
          "annotationdefaults": {
           "arrowcolor": "#2a3f5f",
           "arrowhead": 0,
           "arrowwidth": 1
          },
          "autotypenumbers": "strict",
          "coloraxis": {
           "colorbar": {
            "outlinewidth": 0,
            "ticks": ""
           }
          },
          "colorscale": {
           "diverging": [
            [
             0,
             "#8e0152"
            ],
            [
             0.1,
             "#c51b7d"
            ],
            [
             0.2,
             "#de77ae"
            ],
            [
             0.3,
             "#f1b6da"
            ],
            [
             0.4,
             "#fde0ef"
            ],
            [
             0.5,
             "#f7f7f7"
            ],
            [
             0.6,
             "#e6f5d0"
            ],
            [
             0.7,
             "#b8e186"
            ],
            [
             0.8,
             "#7fbc41"
            ],
            [
             0.9,
             "#4d9221"
            ],
            [
             1,
             "#276419"
            ]
           ],
           "sequential": [
            [
             0,
             "#0d0887"
            ],
            [
             0.1111111111111111,
             "#46039f"
            ],
            [
             0.2222222222222222,
             "#7201a8"
            ],
            [
             0.3333333333333333,
             "#9c179e"
            ],
            [
             0.4444444444444444,
             "#bd3786"
            ],
            [
             0.5555555555555556,
             "#d8576b"
            ],
            [
             0.6666666666666666,
             "#ed7953"
            ],
            [
             0.7777777777777778,
             "#fb9f3a"
            ],
            [
             0.8888888888888888,
             "#fdca26"
            ],
            [
             1,
             "#f0f921"
            ]
           ],
           "sequentialminus": [
            [
             0,
             "#0d0887"
            ],
            [
             0.1111111111111111,
             "#46039f"
            ],
            [
             0.2222222222222222,
             "#7201a8"
            ],
            [
             0.3333333333333333,
             "#9c179e"
            ],
            [
             0.4444444444444444,
             "#bd3786"
            ],
            [
             0.5555555555555556,
             "#d8576b"
            ],
            [
             0.6666666666666666,
             "#ed7953"
            ],
            [
             0.7777777777777778,
             "#fb9f3a"
            ],
            [
             0.8888888888888888,
             "#fdca26"
            ],
            [
             1,
             "#f0f921"
            ]
           ]
          },
          "colorway": [
           "#636efa",
           "#EF553B",
           "#00cc96",
           "#ab63fa",
           "#FFA15A",
           "#19d3f3",
           "#FF6692",
           "#B6E880",
           "#FF97FF",
           "#FECB52"
          ],
          "font": {
           "color": "#2a3f5f"
          },
          "geo": {
           "bgcolor": "white",
           "lakecolor": "white",
           "landcolor": "#E5ECF6",
           "showlakes": true,
           "showland": true,
           "subunitcolor": "white"
          },
          "hoverlabel": {
           "align": "left"
          },
          "hovermode": "closest",
          "mapbox": {
           "style": "light"
          },
          "paper_bgcolor": "white",
          "plot_bgcolor": "#E5ECF6",
          "polar": {
           "angularaxis": {
            "gridcolor": "white",
            "linecolor": "white",
            "ticks": ""
           },
           "bgcolor": "#E5ECF6",
           "radialaxis": {
            "gridcolor": "white",
            "linecolor": "white",
            "ticks": ""
           }
          },
          "scene": {
           "xaxis": {
            "backgroundcolor": "#E5ECF6",
            "gridcolor": "white",
            "gridwidth": 2,
            "linecolor": "white",
            "showbackground": true,
            "ticks": "",
            "zerolinecolor": "white"
           },
           "yaxis": {
            "backgroundcolor": "#E5ECF6",
            "gridcolor": "white",
            "gridwidth": 2,
            "linecolor": "white",
            "showbackground": true,
            "ticks": "",
            "zerolinecolor": "white"
           },
           "zaxis": {
            "backgroundcolor": "#E5ECF6",
            "gridcolor": "white",
            "gridwidth": 2,
            "linecolor": "white",
            "showbackground": true,
            "ticks": "",
            "zerolinecolor": "white"
           }
          },
          "shapedefaults": {
           "line": {
            "color": "#2a3f5f"
           }
          },
          "ternary": {
           "aaxis": {
            "gridcolor": "white",
            "linecolor": "white",
            "ticks": ""
           },
           "baxis": {
            "gridcolor": "white",
            "linecolor": "white",
            "ticks": ""
           },
           "bgcolor": "#E5ECF6",
           "caxis": {
            "gridcolor": "white",
            "linecolor": "white",
            "ticks": ""
           }
          },
          "title": {
           "x": 0.05
          },
          "xaxis": {
           "automargin": true,
           "gridcolor": "white",
           "linecolor": "white",
           "ticks": "",
           "title": {
            "standoff": 15
           },
           "zerolinecolor": "white",
           "zerolinewidth": 2
          },
          "yaxis": {
           "automargin": true,
           "gridcolor": "white",
           "linecolor": "white",
           "ticks": "",
           "title": {
            "standoff": 15
           },
           "zerolinecolor": "white",
           "zerolinewidth": 2
          }
         }
        },
        "title": {
         "text": "Average Sleep Hours by Day of the Week"
        },
        "xaxis": {
         "anchor": "y",
         "domain": [
          0,
          1
         ],
         "title": {
          "text": "Day of the Week"
         }
        },
        "yaxis": {
         "anchor": "x",
         "domain": [
          0,
          1
         ],
         "title": {
          "text": "Average Sleep Hours"
         }
        }
       }
      }
     },
     "metadata": {},
     "output_type": "display_data"
    }
   ],
   "source": [
    "# Prepare the data for visualization\n",
    "average_sleep_by_day = (\n",
    "    fitness_data.groupby('day_of_week')['sleep_hours']\n",
    "    .mean()\n",
    "    .reindex(['Monday', 'Tuesday', 'Wednesday', 'Thursday', 'Friday', 'Saturday', 'Sunday'])\n",
    "    .reset_index()\n",
    ")\n",
    "\n",
    "# Create a bar chart for average sleep by day of the week\n",
    "fig = px.bar(\n",
    "    average_sleep_by_day,\n",
    "    x='day_of_week',\n",
    "    y='sleep_hours',\n",
    "    title='Average Sleep Hours by Day of the Week',\n",
    "    labels={'day_of_week': 'Day of the Week', 'sleep_hours': 'Average Sleep Hours'},\n",
    ")\n",
    "fig.show()"
   ]
  },
  {
   "cell_type": "code",
   "execution_count": 51,
   "id": "0cfa90c9",
   "metadata": {},
   "outputs": [
    {
     "data": {
      "application/vnd.plotly.v1+json": {
       "config": {
        "plotlyServerURL": "https://plot.ly"
       },
       "data": [
        {
         "hovertemplate": "Steps=%{x}<br>Calories Burned=%{y}<extra></extra>",
         "legendgroup": "",
         "marker": {
          "color": "#636efa",
          "symbol": "circle"
         },
         "mode": "markers",
         "name": "",
         "orientation": "v",
         "showlegend": false,
         "type": "scatter",
         "x": {
          "bdata": "AAAAAACtukAAAAAAAD2+QAAAAACAEcBAAAAAAADnyUAAAAAAgFDCQAAAAAAARL9AAAAAAAAwskAAAAAAAGy4QAAAAAAAuMZAAAAAAADyuEAAAAAAADS0QAAAAACAqMFAAAAAAADqxEAAAAAAAO6/QAAAAAAA5LdAAAAAAABywkAAAAAAAD2+QAAAAAAAuMRAAAAAAADPs0AAAAAAgFrBQAAAAAAAyrhAAAAAAIDxwEAAAAAAANXAQAAAAAAAiLlAAAAAAAA7v0AAAAAAAP/CQAAAAAAAE8dAAAAAAAC4xEAAAAAAALLBQAAAAAAAcLNAAAAAAICewEAAAAAAAOi8QAAAAAAA0cBAAAAAAAD3yEAAAAAAgOHBQAAAAAAA779AAAAAAICOwUAAAAAAAPC0QAAAAAAAabhAAAAAAIDwwkAAAAAAABDBQAAAAAAAYbtAAAAAAACuwkAAAAAAADK+QAAAAAAA47NAAAAAAACYtUAAAAAAgF7AQAAAAAAA9r9AAAAAAADdxEAAAAAAANq2QAAAAAAAAblAAAAAAIALwkAAAAAAAPi/QAAAAAAAtr1AAAAAAABzw0AAAAAAAJa8QAAAAAAALLpAAAAAAACmvEAAAAAAANDAQAAAAAAA27tAAAAAAABGykAAAAAAgFjMQAAAAAAAqMFAAAAAAIAfwkAAAAAAAIPEQAAAAAAApL9AAAAAAADRtkAAAAAAANqzQAAAAAAAfbpAAAAAAACsukAAAAAAgLDAQAAAAACAqMFAAAAAAABAvkAAAAAAAEy1QAAAAACA68VAAAAAAAAcwUAAAAAAgPzBQAAAAACA88ZAAAAAAAC9vUAAAAAAAOi8QAAAAACAHsNAAAAAAIAbwUAAAAAAAA3GQAAAAAAA8cFAAAAAAABvu0AAAAAAAIy6QAAAAAAA7bRAAAAAAAD0xEAAAAAAAD3EQAAAAAAAib9AAAAAAAA6tEAAAAAAAMu3QAAAAACA5sJAAAAAAIDkwUAAAAAAAMjBQAAAAAAAWsFAAAAAAAC2zkAAAAAAgF7AQAAAAAAANb5AAAAAAAAJvkAAAAAAAAy5QAAAAAAADqlAAAAAAICNwEAAAAAAABK7QAAAAAAAbr9AAAAAAIARxUAAAAAAAO+5QAAAAAAAT8NAAAAAAAD4wkAAAAAAAKG8QAAAAACA2sBAAAAAAIBHwkAAAAAAALy3QAAAAACAIcBAAAAAAIBxyUAAAAAAAM68QAAAAAAAnL9AAAAAAAAhvkAAAAAAAELBQAAAAAAAwLxAAAAAAIDhxkAAAAAAAKbAQAAAAAAAWMJAAAAAAIBdzEAAAAAAAOnHQAAAAAAAArRAAAAAAACZsUAAAAAAAN66QAAAAAAAubtAAAAAAABitUAAAAAAgLPBQAAAAACAw8ZAAAAAAIAlw0AAAAAAAKi1QAAAAAAAoMJAAAAAAAD0w0AAAAAAAIuzQAAAAAAABsVAAAAAAAAmw0AAAAAAgLXCQAAAAAAAV7dAAAAAAABdxkAAAAAAAAGzQAAAAAAAbbhAAAAAAAA0wkAAAAAAAFPNQAAAAAAAw8ZAAAAAAAC9tUAAAAAAAEC2QAAAAAAA071AAAAAAAAA+H8AAAAAAAD4fwAAAAAAAPh/AAAAAIA+xEAAAAAAgAnAQAAAAACAH8JAAAAAAACiukAAAAAAAGrGQAAAAACAGMNAAAAAAABPzUAAAAAAAA3DQAAAAAAAXrRAAAAAAAB3uEAAAAAAAEnBQAAAAACABchAAAAAAABMqUAAAAAAANe5QAAAAACAc8dAAAAAAIBYwkAAAAAAAG3BQAAAAACAasFAAAAAAADuwUAAAAAAAGHGQAAAAAAAqr9AAAAAAACCwkAAAAAAAAS8QAAAAAAAAPh/AAAAAAAA+H8AAAAAAAD4fwAAAACAD8dAAAAAAAD7tkAAAAAAgN/AQAAAAACAxcBAAAAAAABUxEAAAAAAAHKpQA==",
          "dtype": "f8"
         },
         "xaxis": "x",
         "y": {
          "bdata": "AAAAAADAhEAAAAAAAKCEQAAAAAAASItAAAAAAABkkUAAAAAAALCIQAAAAAAA4IVAAAAAAABwf0AAAAAAAGCEQAAAAAAAsI9AAAAAAABghUAAAAAAAIiCQAAAAAAAiItAAAAAAABwjEAAAAAAAIiHQAAAAAAAgIJAAAAAAACIkUAAAAAAACCHQAAAAAAAmItAAAAAAAB4gkAAAAAAAIiLQAAAAAAAMIFAAAAAAACwiEAAAAAAANCIQAAAAAAA0IJAAAAAAABAjEAAAAAAAJCQQAAAAAAAaJBAAAAAAABojUAAAAAAALCIQAAAAAAAcHpAAAAAAACghUAAAAAAAPCGQAAAAAAA4IdAAAAAAADIkkAAAAAAABiJQAAAAAAA0IZAAAAAAAAoiEAAAAAAANiBQAAAAAAAaIRAAAAAAAAEkkAAAAAAAIiUQAAAAAAA4IpAAAAAAAAgjkAAAAAAAMCHQAAAAAAASIFAAAAAAACYgEAAAAAAABiQQAAAAAAAUI9AAAAAAAB4jUAAAAAAADCDQAAAAAAAeIdAAAAAAACAjEAAAAAAAPCGQAAAAAAAsIpAAAAAAACAjUAAAAAAAEiLQAAAAAAAaIlAAAAAAACQhkAAAAAAABB5QAAAAAAAAIVAAAAAAAA8k0AAAAAAAPiSQAAAAAAA8ItAAAAAAAAQj0AAAAAAADCNQAAAAAAA0ItAAAAAAACQgkAAAAAAABCDQAAAAAAACIpAAAAAAADogUAAAAAAAHiHQAAAAAAAEIpAAAAAAAAIiUAAAAAAAHiDQAAAAAAAUJRAAAAAAABYjkAAAAAAACiMQAAAAAAA5JBAAAAAAABAhkAAAAAAAFCJQAAAAAAAwIlAAAAAAADQiEAAAAAAADiRQAAAAAAAUItAAAAAAACQhkAAAAAAAICHQAAAAAAAoIFAAAAAAABYjkAAAAAAAAiUQAAAAAAAuI1AAAAAAAC4g0AAAAAAADiHQAAAAAAAWIpAAAAAAADghUAAAAAAAJCMQAAAAAAAeJBAAAAAAACUmEAAAAAAAGCOQAAAAAAAoItAAAAAAACAiEAAAAAAAMCEQAAAAAAA8HJAAAAAAAAQiUAAAAAAAACXQAAAAAAAPJFAAAAAAAD4j0AAAAAAAKiEQAAAAAAA8IpAAAAAAAB4jEAAAAAAAMiHQAAAAAAAQJBAAAAAAACQi0AAAAAAAECHQAAAAAAA0IhAAAAAAAA8kUAAAAAAAECGQAAAAAAAKJJAAAAAAACghkAAAAAAAPCLQAAAAAAAiIZAAAAAAAAAj0AAAAAAANiLQAAAAAAAuIhAAAAAAABwk0AAAAAAALyVQAAAAAAAMINAAAAAAACogEAAAAAAAJCKQAAAAAAA0JFAAAAAAADgf0AAAAAAAAyRQAAAAAAAlJNAAAAAAADgikAAAAAAAFCFQAAAAAAAgJFAAAAAAABokUAAAAAAAHCCQAAAAAAACI9AAAAAAAAYjUAAAAAAAPiJQAAAAAAA+IBAAAAAAADgj0AAAAAAAJiAQAAAAAAASIZAAAAAAABgk0AAAAAAANSUQAAAAAAAYI5AAAAAAADogUAAAAAAAMCCQAAAAAAAWIVAAAAAAAAA+H8AAAAAAAD4fwAAAAAAAPh/AAAAAACckEAAAAAAADiHQAAAAAAASIpAAAAAAABQiUAAAAAAAMCOQAAAAAAAYI5AAAAAAACslEAAAAAAAGiQQAAAAAAAIHxAAAAAAABghEAAAAAAADCRQAAAAAAAeJBAAAAAAADwd0AAAAAAADiGQAAAAAAAqI9AAAAAAADAiEAAAAAAAPiKQAAAAAAAIIhAAAAAAAAojUAAAAAAAHCTQAAAAAAAMItAAAAAAACYi0AAAAAAAFCEQAAAAAAAAPh/AAAAAAAA+H8AAAAAAAD4fwAAAAAAdJJAAAAAAABAhkAAAAAAAFCLQAAAAAAAUItAAAAAAAAgjEAAAAAAAICIQA==",
          "dtype": "f8"
         },
         "yaxis": "y"
        },
        {
         "hovertemplate": "<b>OLS trendline</b><br>total_calories_burned = 0.0760701 * steps + 208.556<br>R<sup>2</sup>=0.645894<br><br>Steps=%{x}<br>Calories Burned=%{y} <b>(trend)</b><extra></extra>",
         "legendgroup": "",
         "marker": {
          "color": "#636efa",
          "symbol": "circle"
         },
         "mode": "lines",
         "name": "",
         "showlegend": false,
         "type": "scatter",
         "x": {
          "bdata": "AAAAAAAOqUAAAAAAAEypQAAAAAAAcqlAAAAAAACZsUAAAAAAADCyQAAAAAAAAbNAAAAAAABws0AAAAAAAIuzQAAAAAAAz7NAAAAAAADas0AAAAAAAOOzQAAAAAAAArRAAAAAAAA0tEAAAAAAADq0QAAAAAAAXrRAAAAAAADttEAAAAAAAPC0QAAAAAAATLVAAAAAAABitUAAAAAAAJi1QAAAAAAAqLVAAAAAAAC9tUAAAAAAAEC2QAAAAAAA0bZAAAAAAADatkAAAAAAAPu2QAAAAAAAV7dAAAAAAAC8t0AAAAAAAMu3QAAAAAAA5LdAAAAAAABpuEAAAAAAAGy4QAAAAAAAbbhAAAAAAAB3uEAAAAAAAMq4QAAAAAAA8rhAAAAAAAABuUAAAAAAAAy5QAAAAAAAiLlAAAAAAADXuUAAAAAAAO+5QAAAAAAALLpAAAAAAAB9ukAAAAAAAIy6QAAAAAAAorpAAAAAAACsukAAAAAAAK26QAAAAAAA3rpAAAAAAAASu0AAAAAAAGG7QAAAAAAAb7tAAAAAAAC5u0AAAAAAANu7QAAAAAAABLxAAAAAAACWvEAAAAAAAKG8QAAAAAAAprxAAAAAAADAvEAAAAAAAM68QAAAAAAA6LxAAAAAAADovEAAAAAAALa9QAAAAAAAvb1AAAAAAADTvUAAAAAAAAm+QAAAAAAAIb5AAAAAAAAyvkAAAAAAADW+QAAAAAAAPb5AAAAAAAA9vkAAAAAAAEC+QAAAAAAAO79AAAAAAABEv0AAAAAAAG6/QAAAAAAAib9AAAAAAACcv0AAAAAAAKS/QAAAAAAAqr9AAAAAAADuv0AAAAAAAO+/QAAAAAAA9r9AAAAAAAD4v0AAAAAAgAnAQAAAAACAEcBAAAAAAIAhwEAAAAAAgF7AQAAAAACAXsBAAAAAAICNwEAAAAAAgJ7AQAAAAAAApsBAAAAAAICwwEAAAAAAgMXAQAAAAAAA0MBAAAAAAADRwEAAAAAAANXAQAAAAACA2sBAAAAAAIDfwEAAAAAAgPHAQAAAAAAAEMFAAAAAAIAbwUAAAAAAABzBQAAAAAAAQsFAAAAAAABJwUAAAAAAAFrBQAAAAACAWsFAAAAAAIBqwUAAAAAAAG3BQAAAAACAjsFAAAAAAACowUAAAAAAgKjBQAAAAACAqMFAAAAAAACywUAAAAAAgLPBQAAAAAAAyMFAAAAAAIDhwUAAAAAAgOTBQAAAAAAA7sFAAAAAAADxwUAAAAAAgPzBQAAAAACAC8JAAAAAAIAfwkAAAAAAgB/CQAAAAAAANMJAAAAAAIBHwkAAAAAAgFDCQAAAAAAAWMJAAAAAAIBYwkAAAAAAAHLCQAAAAAAAgsJAAAAAAACgwkAAAAAAAK7CQAAAAACAtcJAAAAAAIDmwkAAAAAAgPDCQAAAAAAA+MJAAAAAAAD/wkAAAAAAAA3DQAAAAACAGMNAAAAAAIAew0AAAAAAgCXDQAAAAAAAJsNAAAAAAABPw0AAAAAAAHPDQAAAAAAA9MNAAAAAAAA9xEAAAAAAgD7EQAAAAAAAVMRAAAAAAACDxEAAAAAAALjEQAAAAAAAuMRAAAAAAADdxEAAAAAAAOrEQAAAAAAA9MRAAAAAAAAGxUAAAAAAgBHFQAAAAACA68VAAAAAAAANxkAAAAAAAF3GQAAAAAAAYcZAAAAAAABqxkAAAAAAALjGQAAAAAAAw8ZAAAAAAIDDxkAAAAAAgOHGQAAAAACA88ZAAAAAAIAPx0AAAAAAABPHQAAAAACAc8dAAAAAAADpx0AAAAAAgAXIQAAAAAAA98hAAAAAAIBxyUAAAAAAAOfJQAAAAAAARspAAAAAAIBYzEAAAAAAgF3MQAAAAAAAT81AAAAAAABTzUAAAAAAALbOQA==",
          "dtype": "f8"
         },
         "xaxis": "x",
         "y": {
          "bdata": "w1lyFDVIfEBmBdkm8G18QE1FYjoQhXxAlwQr4gM6gUAPdbFl6JWBQIlUJNEYFYJAyWbkq6VYgkD7f50KFGmCQIyGu9x1koJAQq2LkSeZgkCotR6xoZ6CQHkLUjp/sYJAPgFKzezPgkAtXAGNk9OCQMV9TQt86YJA/nTfOYJAg0B2IruZVUKDQMKUtmpSeoNALeJW1LWHg0CRFMmRkqiDQA4HsjtPsoNAUcWz2ha/g0CtBteJzw6EQDUcpk0NZ4RAmyQ5bYdshEC8mKmLnICEQAgLpVyZuIRAuoUzTRD2hEAP6X0sMf+EQPHj+fVnDoVAnENaOlhfhUAU8TWaK2GFQDyA1GTHYYVAyRcGT91nhUCvgW4AYJqFQOffNKm3soVAO0N/iNi7hUDxaU89isKFQDbBHGIADoZAfe4K6RM+hkA4WujnrkyGQLJ2sC/OcYZAScLbSxmjhkCdJSYrOqyGQAlzxpSduYZAlgr4frO/hkC+mZZJT8CGQFwA8BEh3oZAcBQlOsb9hkC3QRPB2S2HQOQVv9VeNodAZHeUZ2djh0CteqNQGHiHQAxoCMQLkYdAvAx2UuXph0ByM0YHl/CHQDj/Xvyh84dAQ4l5kHQDiEBwXSWl+QuIQHrnPznMG4hAeuc/OcwbiEB9GddEKZmIQJQDLc9rnYhA/1DNOM+qiEBjgz/2q8uIQB7vHPVG2ohAwnCkaZ/kiEA6HoDJcuaIQHiXdB5R64hAeJd0HlHriEDvRFB+JO2IQPGgxifkhYlAV6lZR16LiUDeJV2F7aSJQBA/FuRbtYlABN/a7evAiUBCWM9CysWJQDGzhgJxyYlAwrmk1NLyiUDqSEOfbvOJQAAzmSmx94lAUFHWvuj4iUCCao8dVwmKQP5ceMcTE4pA90FKG40mikDtetqqy3CKQO162qrLcIpAiQsTEQCqikDRDiL6sL6KQCZybNnRx4pAaTBueJnUikDwrHG2KO6KQDRrc1Xw+opAg4mw6if8ikDBAqU/BgGLQHcpdfS3B4tABcGm3s0Ni0Cd4vJctiOLQBj/uqTVSItAq9v52NRWi0DTapijcFeLQKLqqsqwhYtAz75W3zWOi0AYwmXI5qKLQD9RBJOCo4tAODbW5vu2i0D/Ae/bBrqLQGl5buPM4otAVv4EQdYBjEB+jaMLcgKMQH6NowtyAoxAcS1oFQIOjEDp2kN11Q+MQEjIqOjIKIxANU0/RtJHjEAjqPYFeUuMQBdIuw8JV4xABqNyz69ajECZf7EDr2iMQENGRsLweoxAeqQMa0iTjEB6pAxrSJOMQNmRcd47rIxA6GCZvPfDjEC1cb/7686MQAnVCdsM2IxAMWSopajYjEAe6T4DsveMQBfOEFcrC41Aals61K4vjUDEA5L9uECNQBln3NzZSY1AUzSPbX2FjUBvY/JBqZGNQMTGPCHKmo1A8ZroNU+jjUBLQ0BfWbSNQN4ff5NYwo1Au9XtEqbJjUDoqZknK9KNQBA5OPLG0o1AzhMC2a0EjkD+VprVfjCOQBadZgmBzY5AxkHUl1omj0A+76/3LSiPQOz6UQBZQo9AiIuKZo17j0AB0jFMD7yPQAHSMUwPvI9AgTMH3hfpj0CLvSFy6viPQFR2QiOLApBAIIdoYn8NkEBp9Yf8fhSQQErdjYcpmZBA/5hNi4ytkEBtVdrcO96QQAySVAer4JBAcprnJiXmkECSODfjnBWRQEdfB5hOHJFA26ZWfZwckUCFbes73i6RQFF+EXvSOZFAqyZppNxKkUC2G5Tp/UyRQDUSWcq3h5FA98YfSjnPkUDltsZYkeCRQO3CWv2Ic5JAdkM6chW+kkA4+ADylgWTQPwX2CJnP5NA7L9rhD6ClECzi4R5SYWUQLuXGB5BGJVAWtSSSLAalUCFWHNCuvKVQA==",
          "dtype": "f8"
         },
         "yaxis": "y"
        }
       ],
       "layout": {
        "legend": {
         "tracegroupgap": 0
        },
        "template": {
         "data": {
          "bar": [
           {
            "error_x": {
             "color": "#2a3f5f"
            },
            "error_y": {
             "color": "#2a3f5f"
            },
            "marker": {
             "line": {
              "color": "#E5ECF6",
              "width": 0.5
             },
             "pattern": {
              "fillmode": "overlay",
              "size": 10,
              "solidity": 0.2
             }
            },
            "type": "bar"
           }
          ],
          "barpolar": [
           {
            "marker": {
             "line": {
              "color": "#E5ECF6",
              "width": 0.5
             },
             "pattern": {
              "fillmode": "overlay",
              "size": 10,
              "solidity": 0.2
             }
            },
            "type": "barpolar"
           }
          ],
          "carpet": [
           {
            "aaxis": {
             "endlinecolor": "#2a3f5f",
             "gridcolor": "white",
             "linecolor": "white",
             "minorgridcolor": "white",
             "startlinecolor": "#2a3f5f"
            },
            "baxis": {
             "endlinecolor": "#2a3f5f",
             "gridcolor": "white",
             "linecolor": "white",
             "minorgridcolor": "white",
             "startlinecolor": "#2a3f5f"
            },
            "type": "carpet"
           }
          ],
          "choropleth": [
           {
            "colorbar": {
             "outlinewidth": 0,
             "ticks": ""
            },
            "type": "choropleth"
           }
          ],
          "contour": [
           {
            "colorbar": {
             "outlinewidth": 0,
             "ticks": ""
            },
            "colorscale": [
             [
              0,
              "#0d0887"
             ],
             [
              0.1111111111111111,
              "#46039f"
             ],
             [
              0.2222222222222222,
              "#7201a8"
             ],
             [
              0.3333333333333333,
              "#9c179e"
             ],
             [
              0.4444444444444444,
              "#bd3786"
             ],
             [
              0.5555555555555556,
              "#d8576b"
             ],
             [
              0.6666666666666666,
              "#ed7953"
             ],
             [
              0.7777777777777778,
              "#fb9f3a"
             ],
             [
              0.8888888888888888,
              "#fdca26"
             ],
             [
              1,
              "#f0f921"
             ]
            ],
            "type": "contour"
           }
          ],
          "contourcarpet": [
           {
            "colorbar": {
             "outlinewidth": 0,
             "ticks": ""
            },
            "type": "contourcarpet"
           }
          ],
          "heatmap": [
           {
            "colorbar": {
             "outlinewidth": 0,
             "ticks": ""
            },
            "colorscale": [
             [
              0,
              "#0d0887"
             ],
             [
              0.1111111111111111,
              "#46039f"
             ],
             [
              0.2222222222222222,
              "#7201a8"
             ],
             [
              0.3333333333333333,
              "#9c179e"
             ],
             [
              0.4444444444444444,
              "#bd3786"
             ],
             [
              0.5555555555555556,
              "#d8576b"
             ],
             [
              0.6666666666666666,
              "#ed7953"
             ],
             [
              0.7777777777777778,
              "#fb9f3a"
             ],
             [
              0.8888888888888888,
              "#fdca26"
             ],
             [
              1,
              "#f0f921"
             ]
            ],
            "type": "heatmap"
           }
          ],
          "histogram": [
           {
            "marker": {
             "pattern": {
              "fillmode": "overlay",
              "size": 10,
              "solidity": 0.2
             }
            },
            "type": "histogram"
           }
          ],
          "histogram2d": [
           {
            "colorbar": {
             "outlinewidth": 0,
             "ticks": ""
            },
            "colorscale": [
             [
              0,
              "#0d0887"
             ],
             [
              0.1111111111111111,
              "#46039f"
             ],
             [
              0.2222222222222222,
              "#7201a8"
             ],
             [
              0.3333333333333333,
              "#9c179e"
             ],
             [
              0.4444444444444444,
              "#bd3786"
             ],
             [
              0.5555555555555556,
              "#d8576b"
             ],
             [
              0.6666666666666666,
              "#ed7953"
             ],
             [
              0.7777777777777778,
              "#fb9f3a"
             ],
             [
              0.8888888888888888,
              "#fdca26"
             ],
             [
              1,
              "#f0f921"
             ]
            ],
            "type": "histogram2d"
           }
          ],
          "histogram2dcontour": [
           {
            "colorbar": {
             "outlinewidth": 0,
             "ticks": ""
            },
            "colorscale": [
             [
              0,
              "#0d0887"
             ],
             [
              0.1111111111111111,
              "#46039f"
             ],
             [
              0.2222222222222222,
              "#7201a8"
             ],
             [
              0.3333333333333333,
              "#9c179e"
             ],
             [
              0.4444444444444444,
              "#bd3786"
             ],
             [
              0.5555555555555556,
              "#d8576b"
             ],
             [
              0.6666666666666666,
              "#ed7953"
             ],
             [
              0.7777777777777778,
              "#fb9f3a"
             ],
             [
              0.8888888888888888,
              "#fdca26"
             ],
             [
              1,
              "#f0f921"
             ]
            ],
            "type": "histogram2dcontour"
           }
          ],
          "mesh3d": [
           {
            "colorbar": {
             "outlinewidth": 0,
             "ticks": ""
            },
            "type": "mesh3d"
           }
          ],
          "parcoords": [
           {
            "line": {
             "colorbar": {
              "outlinewidth": 0,
              "ticks": ""
             }
            },
            "type": "parcoords"
           }
          ],
          "pie": [
           {
            "automargin": true,
            "type": "pie"
           }
          ],
          "scatter": [
           {
            "fillpattern": {
             "fillmode": "overlay",
             "size": 10,
             "solidity": 0.2
            },
            "type": "scatter"
           }
          ],
          "scatter3d": [
           {
            "line": {
             "colorbar": {
              "outlinewidth": 0,
              "ticks": ""
             }
            },
            "marker": {
             "colorbar": {
              "outlinewidth": 0,
              "ticks": ""
             }
            },
            "type": "scatter3d"
           }
          ],
          "scattercarpet": [
           {
            "marker": {
             "colorbar": {
              "outlinewidth": 0,
              "ticks": ""
             }
            },
            "type": "scattercarpet"
           }
          ],
          "scattergeo": [
           {
            "marker": {
             "colorbar": {
              "outlinewidth": 0,
              "ticks": ""
             }
            },
            "type": "scattergeo"
           }
          ],
          "scattergl": [
           {
            "marker": {
             "colorbar": {
              "outlinewidth": 0,
              "ticks": ""
             }
            },
            "type": "scattergl"
           }
          ],
          "scattermap": [
           {
            "marker": {
             "colorbar": {
              "outlinewidth": 0,
              "ticks": ""
             }
            },
            "type": "scattermap"
           }
          ],
          "scattermapbox": [
           {
            "marker": {
             "colorbar": {
              "outlinewidth": 0,
              "ticks": ""
             }
            },
            "type": "scattermapbox"
           }
          ],
          "scatterpolar": [
           {
            "marker": {
             "colorbar": {
              "outlinewidth": 0,
              "ticks": ""
             }
            },
            "type": "scatterpolar"
           }
          ],
          "scatterpolargl": [
           {
            "marker": {
             "colorbar": {
              "outlinewidth": 0,
              "ticks": ""
             }
            },
            "type": "scatterpolargl"
           }
          ],
          "scatterternary": [
           {
            "marker": {
             "colorbar": {
              "outlinewidth": 0,
              "ticks": ""
             }
            },
            "type": "scatterternary"
           }
          ],
          "surface": [
           {
            "colorbar": {
             "outlinewidth": 0,
             "ticks": ""
            },
            "colorscale": [
             [
              0,
              "#0d0887"
             ],
             [
              0.1111111111111111,
              "#46039f"
             ],
             [
              0.2222222222222222,
              "#7201a8"
             ],
             [
              0.3333333333333333,
              "#9c179e"
             ],
             [
              0.4444444444444444,
              "#bd3786"
             ],
             [
              0.5555555555555556,
              "#d8576b"
             ],
             [
              0.6666666666666666,
              "#ed7953"
             ],
             [
              0.7777777777777778,
              "#fb9f3a"
             ],
             [
              0.8888888888888888,
              "#fdca26"
             ],
             [
              1,
              "#f0f921"
             ]
            ],
            "type": "surface"
           }
          ],
          "table": [
           {
            "cells": {
             "fill": {
              "color": "#EBF0F8"
             },
             "line": {
              "color": "white"
             }
            },
            "header": {
             "fill": {
              "color": "#C8D4E3"
             },
             "line": {
              "color": "white"
             }
            },
            "type": "table"
           }
          ]
         },
         "layout": {
          "annotationdefaults": {
           "arrowcolor": "#2a3f5f",
           "arrowhead": 0,
           "arrowwidth": 1
          },
          "autotypenumbers": "strict",
          "coloraxis": {
           "colorbar": {
            "outlinewidth": 0,
            "ticks": ""
           }
          },
          "colorscale": {
           "diverging": [
            [
             0,
             "#8e0152"
            ],
            [
             0.1,
             "#c51b7d"
            ],
            [
             0.2,
             "#de77ae"
            ],
            [
             0.3,
             "#f1b6da"
            ],
            [
             0.4,
             "#fde0ef"
            ],
            [
             0.5,
             "#f7f7f7"
            ],
            [
             0.6,
             "#e6f5d0"
            ],
            [
             0.7,
             "#b8e186"
            ],
            [
             0.8,
             "#7fbc41"
            ],
            [
             0.9,
             "#4d9221"
            ],
            [
             1,
             "#276419"
            ]
           ],
           "sequential": [
            [
             0,
             "#0d0887"
            ],
            [
             0.1111111111111111,
             "#46039f"
            ],
            [
             0.2222222222222222,
             "#7201a8"
            ],
            [
             0.3333333333333333,
             "#9c179e"
            ],
            [
             0.4444444444444444,
             "#bd3786"
            ],
            [
             0.5555555555555556,
             "#d8576b"
            ],
            [
             0.6666666666666666,
             "#ed7953"
            ],
            [
             0.7777777777777778,
             "#fb9f3a"
            ],
            [
             0.8888888888888888,
             "#fdca26"
            ],
            [
             1,
             "#f0f921"
            ]
           ],
           "sequentialminus": [
            [
             0,
             "#0d0887"
            ],
            [
             0.1111111111111111,
             "#46039f"
            ],
            [
             0.2222222222222222,
             "#7201a8"
            ],
            [
             0.3333333333333333,
             "#9c179e"
            ],
            [
             0.4444444444444444,
             "#bd3786"
            ],
            [
             0.5555555555555556,
             "#d8576b"
            ],
            [
             0.6666666666666666,
             "#ed7953"
            ],
            [
             0.7777777777777778,
             "#fb9f3a"
            ],
            [
             0.8888888888888888,
             "#fdca26"
            ],
            [
             1,
             "#f0f921"
            ]
           ]
          },
          "colorway": [
           "#636efa",
           "#EF553B",
           "#00cc96",
           "#ab63fa",
           "#FFA15A",
           "#19d3f3",
           "#FF6692",
           "#B6E880",
           "#FF97FF",
           "#FECB52"
          ],
          "font": {
           "color": "#2a3f5f"
          },
          "geo": {
           "bgcolor": "white",
           "lakecolor": "white",
           "landcolor": "#E5ECF6",
           "showlakes": true,
           "showland": true,
           "subunitcolor": "white"
          },
          "hoverlabel": {
           "align": "left"
          },
          "hovermode": "closest",
          "mapbox": {
           "style": "light"
          },
          "paper_bgcolor": "white",
          "plot_bgcolor": "#E5ECF6",
          "polar": {
           "angularaxis": {
            "gridcolor": "white",
            "linecolor": "white",
            "ticks": ""
           },
           "bgcolor": "#E5ECF6",
           "radialaxis": {
            "gridcolor": "white",
            "linecolor": "white",
            "ticks": ""
           }
          },
          "scene": {
           "xaxis": {
            "backgroundcolor": "#E5ECF6",
            "gridcolor": "white",
            "gridwidth": 2,
            "linecolor": "white",
            "showbackground": true,
            "ticks": "",
            "zerolinecolor": "white"
           },
           "yaxis": {
            "backgroundcolor": "#E5ECF6",
            "gridcolor": "white",
            "gridwidth": 2,
            "linecolor": "white",
            "showbackground": true,
            "ticks": "",
            "zerolinecolor": "white"
           },
           "zaxis": {
            "backgroundcolor": "#E5ECF6",
            "gridcolor": "white",
            "gridwidth": 2,
            "linecolor": "white",
            "showbackground": true,
            "ticks": "",
            "zerolinecolor": "white"
           }
          },
          "shapedefaults": {
           "line": {
            "color": "#2a3f5f"
           }
          },
          "ternary": {
           "aaxis": {
            "gridcolor": "white",
            "linecolor": "white",
            "ticks": ""
           },
           "baxis": {
            "gridcolor": "white",
            "linecolor": "white",
            "ticks": ""
           },
           "bgcolor": "#E5ECF6",
           "caxis": {
            "gridcolor": "white",
            "linecolor": "white",
            "ticks": ""
           }
          },
          "title": {
           "x": 0.05
          },
          "xaxis": {
           "automargin": true,
           "gridcolor": "white",
           "linecolor": "white",
           "ticks": "",
           "title": {
            "standoff": 15
           },
           "zerolinecolor": "white",
           "zerolinewidth": 2
          },
          "yaxis": {
           "automargin": true,
           "gridcolor": "white",
           "linecolor": "white",
           "ticks": "",
           "title": {
            "standoff": 15
           },
           "zerolinecolor": "white",
           "zerolinewidth": 2
          }
         }
        },
        "title": {
         "text": "Steps vs. Calories Burned"
        },
        "xaxis": {
         "anchor": "y",
         "domain": [
          0,
          1
         ],
         "title": {
          "text": "Steps"
         }
        },
        "yaxis": {
         "anchor": "x",
         "domain": [
          0,
          1
         ],
         "title": {
          "text": "Calories Burned"
         }
        }
       }
      }
     },
     "metadata": {},
     "output_type": "display_data"
    }
   ],
   "source": [
    "# Scatter plot for number of steps vs. calories burned\n",
    "steps_vs_calories = px.scatter(fitness_data, x='steps', y='total_calories_burned', title='Steps vs. Calories Burned',\n",
    "                                labels={'steps': 'Steps', 'total_calories_burned': 'Calories Burned'}, trendline=\"ols\")\n",
    "steps_vs_calories.show()"
   ]
  },
  {
   "cell_type": "code",
   "execution_count": 52,
   "id": "ef776388",
   "metadata": {},
   "outputs": [
    {
     "data": {
      "text/plain": [
       "workout_type\n",
       "Running              51\n",
       "Yoga                 42\n",
       "Strength Training    41\n",
       "HIIT                 32\n",
       "Rest                 13\n",
       "Name: count, dtype: int64"
      ]
     },
     "execution_count": 52,
     "metadata": {},
     "output_type": "execute_result"
    }
   ],
   "source": [
    "# How many different workout types are in the dataset?\n",
    "fitness_data[\"workout_type\"].value_counts()"
   ]
  },
  {
   "cell_type": "code",
   "execution_count": 53,
   "id": "ef8eda36",
   "metadata": {},
   "outputs": [
    {
     "data": {
      "application/vnd.plotly.v1+json": {
       "config": {
        "plotlyServerURL": "https://plot.ly"
       },
       "data": [
        {
         "customdata": {
          "bdata": "AAAAAACAQEAAAAAAAIBFQAAAAAAAgENAAAAAAAAAPUAAAAAAAABGQAAAAAAAAD1AAAAAAAAATEAAAAAAAIBCQAAAAAAAAEZAAAAAAAAAPkAAAAAAAABKQAAAAAAAAEJAAAAAAACARUAAAAAAAIBJQAAAAAAAAERAAAAAAAAAR0AAAAAAAABEQAAAAAAAAD9AAAAAAAAAREAAAAAAAABQQAAAAAAAgEdAAAAAAAAARUAAAAAAAABKQAAAAAAAgEJAAAAAAACAQUAAAAAAAABCQAAAAAAAQFFAAAAAAAAAOUAAAAAAAABLQAAAAAAAgEhAAAAAAACAREAAAAAAAAA+QAAAAAAAAEFAAAAAAAAARUAAAAAAAABEQAAAAAAAAEBAAAAAAAAASkAAAAAAAIBDQAAAAAAAgEVAAAAAAAAAQEAAAAAAAIBBQA==",
          "dtype": "f8",
          "shape": "41, 1"
         },
         "hovertemplate": "workout_type=Strength Training<br>Average Heart Rate (bpm)=%{x}<br>Calories Burned=%{y}<br>workout_duration_minutes=%{marker.size}<br>fat_burn_minutes=%{customdata[0]}<extra></extra>",
         "legendgroup": "Strength Training",
         "marker": {
          "color": "#636efa",
          "size": {
           "bdata": "UrgehesRUUDsUbgehStBQLgehetReFNAFK5H4XqUTUAfhetRuH5FQClcj8L1KEdAH4XrUbj+T0BI4XoUrodFQKRwPQrXI05AcT0K16NAVkCuR+F6FD5QQB+F61G4/kRAuB6F61EYVECamZmZmXlMQOxRuB6FK1BAuB6F61EoUkAzMzMzMyNVQBSuR+F6VEdAXI/C9Sg8UUBcj8L1KDxLQArXo3A9Ck9AmpmZmZnJU0DhehSuR1FUQLgehetRuFNAKVyPwvUoTUCF61G4HmVGQD0K16NwrVBASOF6FK7XUEA9CtejcH1SQClcj8L1KEVAuB6F61EIUkAAAAAAAFBQQIXrUbgeNVRACtejcD3KPkB7FK5H4TpEQFyPwvUoXFNAzczMzMzcUUDXo3A9CldFQJqZmZmZ2URAhetRuB4FRUDD9Shcj5JXQA==",
           "dtype": "f8"
          },
          "sizemode": "area",
          "sizeref": 0.23572500000000002,
          "symbol": "circle"
         },
         "mode": "markers",
         "name": "Strength Training",
         "orientation": "v",
         "showlegend": true,
         "type": "scatter",
         "x": {
          "bdata": "PQrXo3D1YUBcj8L1KFRhQFK4HoXrAWJAMzMzMzNLYUBI4XoUrodiQHsUrkfhSmBAFK5H4XqcYUDsUbgehfthQM3MzMzM3GBAZmZmZmZmYkAUrkfhetxhQD0K16NwrWFAMzMzMzOTX0DD9Shcj5pgQJqZmZmZ4WJA7FG4HoWTYUBSuB6F60lgQOF6FK5HCWNAzczMzMzMYkBxPQrXo8hhQD0K16NwzVxA16NwPQo3YkAK16NwPYphQArXo3A9GmFAH4XrUbhGY0AAAAAAALBhQOF6FK5HuWFAXI/C9SjEYEDD9Shcj+JhQFyPwvUoNGFA7FG4HoUrYEDNzMzMzPxhQB+F61G4BmJAZmZmZmb+YUDsUbgehQtjQOxRuB6FM2JAXI/C9Si0YkBSuB6F6xFfQD0K16NwjWFACtejcD0SY0BI4XoUrmdgQA==",
          "dtype": "f8"
         },
         "xaxis": "x",
         "y": {
          "bdata": "KVyPwvUIhEAXYwCOCel2QK5H4XoUKIVAXI/C9ShSgkCi2ZfBVvN6QArXo3A9FIFAKVyPwvUUhEDD9Shcj4J6QAAAAAAAXoFArkfhehTihkAK16NwPdyDQOxRuB6Fh3xApHA9CtfPh0DsUbgehbOCQFyPwvUoEodAZmZmZmZciEAzMzMzM2+OQOWY0Txh9HhAcT0K16MQhUAzMzMzM1mEQLgehetRkIRAXI/C9Sh4hUDD9Shcj36GQK5H4XoU1IRAcT0K16N8gEB7FK5H4ZJ2QHE9CtejzIRAKVyPwvVgiEC4HoXrUX6HQM9AveJHvXVACtejcD1eikBxPQrXo7qDQM3MzMzMpIlAKVyPwvUEckDsUbgehcN5QIXrUbgeVYVAj8L1KFzJh0BeBt2YWLF7QMP1KFyP3n5Aw/UoXI8me0DNzMzMzMCQQA==",
          "dtype": "f8"
         },
         "yaxis": "y"
        },
        {
         "customdata": {
          "bdata": "AAAAAACAQEAAAAAAAAA8QAAAAAAAAEVAAAAAAACAR0AAAAAAAIBIQAAAAAAAgEtAAAAAAACAQUAAAAAAAABDQAAAAAAAAEJAAAAAAAAASEAAAAAAAIBFQAAAAAAAgEVAAAAAAACAQ0A=",
          "dtype": "f8",
          "shape": "13, 1"
         },
         "hovertemplate": "workout_type=Rest<br>Average Heart Rate (bpm)=%{x}<br>Calories Burned=%{y}<br>workout_duration_minutes=%{marker.size}<br>fat_burn_minutes=%{customdata[0]}<extra></extra>",
         "legendgroup": "Rest",
         "marker": {
          "color": "#EF553B",
          "size": {
           "bdata": "AAAAAAAAAAAAAAAAAAAAAAAAAAAAAAAAAAAAAAAAAAAAAAAAAAAAAAAAAAAAAAAAAAAAAAAAAAAAAAAAAAAAAAAAAAAAAAAAAAAAAAAAAAAAAAAAAAAAAAAAAAAAAAAAAAAAAAAAAAA=",
           "dtype": "f8"
          },
          "sizemode": "area",
          "sizeref": 0.23572500000000002,
          "symbol": "circle"
         },
         "mode": "markers",
         "name": "Rest",
         "orientation": "v",
         "showlegend": true,
         "type": "scatter",
         "x": {
          "bdata": "AAAAAAAAAAAAAAAAAAAAAAAAAAAAAAAAAAAAAAAAAAAAAAAAAAAAAAAAAAAAAAAAAAAAAAAAAAAAAAAAAAAAAAAAAAAAAAAAAAAAAAAAAAAAAAAAAAAAAAAAAAAAAAAAAAAAAAAAAAA=",
          "dtype": "f8"
         },
         "xaxis": "x",
         "y": {
          "bdata": "AAAAAAAAAAAAAAAAAAAAAAAAAAAAAAAAAAAAAAAAAAAAAAAAAAAAAAAAAAAAAAAAAAAAAAAAAAAAAAAAAAAAAAAAAAAAAAAAAAAAAAAAAAAAAAAAAAAAAAAAAAAAAAAAAAAAAAAAAAA=",
          "dtype": "f8"
         },
         "yaxis": "y"
        },
        {
         "customdata": {
          "bdata": "AAAAAACAS0AAAAAAAIBBQAAAAAAAADlAAAAAAAAAQEAAAAAAAABJQAAAAAAAAD1AAAAAAAAAO0AAAAAAAIBDQAAAAAAAAEJAAAAAAAAAQ0AAAAAAAAA7QAAAAAAAAD5AAAAAAACARkAAAAAAAABCQAAAAAAAADRAAAAAAACATkAAAAAAAAA9QAAAAAAAAD5AAAAAAAAAPEAAAAAAAIBEQAAAAAAAAEtAAAAAAACAQUAAAAAAAIBEQAAAAAAAgEVAAAAAAAAASEAAAAAAAIBTQAAAAAAAAEhAAAAAAAAALkAAAAAAAIBAQAAAAAAAgENAAAAAAACAS0AAAAAAAABNQAAAAAAAgEhAAAAAAAAARkAAAAAAAIBDQAAAAAAAADpAAAAAAAAARUAAAAAAAABBQAAAAAAAAD1AAAAAAAAAT0AAAAAAAIBQQAAAAAAAgEJAAAAAAAAASEAAAAAAAAA2QAAAAAAAADNAAAAAAACAQUAAAAAAAABJQAAAAAAAAENAAAAAAAAAR0AAAAAAAABPQAAAAAAAgEVA",
          "dtype": "f8",
          "shape": "51, 1"
         },
         "hovertemplate": "workout_type=Running<br>Average Heart Rate (bpm)=%{x}<br>Calories Burned=%{y}<br>workout_duration_minutes=%{marker.size}<br>fat_burn_minutes=%{customdata[0]}<extra></extra>",
         "legendgroup": "Running",
         "marker": {
          "color": "#00cc96",
          "size": {
           "bdata": "H4XrUbheT0ApXI/C9ehGQHE9CtejUEdAUrgehesxRUAfhetRuF5EQHE9Ctej8ENAAAAAAAAAUUAK16NwPapJQD0K16NwnUdAMzMzMzPTSUD2KFyPwlVGQIXrUbgexUNAmpmZmZmZN0DD9ShcjyJFQAAAAAAAIERAZmZmZmbGREBSuB6F69E4QLgehetRuDtAKVyPwvVoQEAAAAAAAIBDQOF6FK5HoTpAw/UoXI+CREAK16NwPWpHQKRwPQrXc1BAmpmZmZk5RUCF61G4HuVFQM3MzMzMzElA9ihcj8JVR0C4HoXrURhGQI/C9ShczzpAXI/C9Sg8QED2KFyPwpVIQOxRuB6FC0VA9ihcj8K1SECPwvUoXO9IQK5H4XoUrjxAXI/C9Sh8RUAfhetRuP5AQK5H4XoUzk9AKVyPwvWoR0CPwvUoXG9HQPYoXI/CVUJAH4XrUbi+SEAfhetRuF5DQM3MzMzMbEJAhetRuB5lS0A9CtejcJ1HQAAAAAAAwERAhetRuB7lUUDXo3A9Chc4QFyPwvUovERA",
           "dtype": "f8"
          },
          "sizemode": "area",
          "sizeref": 0.23572500000000002,
          "symbol": "circle"
         },
         "mode": "markers",
         "name": "Running",
         "orientation": "v",
         "showlegend": true,
         "type": "scatter",
         "x": {
          "bdata": "4XoUrkcBY0CuR+F6FL5hQDMzMzMzM2FAexSuR+GCYkAK16NwPXJiQClcj8L1CGJAcT0K16OYYECF61G4HsVhQPYoXI/CtWFA9ihcj8KVYUCkcD0K1xthQD0K16Nw3V9AhetRuB7lYEAUrkfhegxgQPYoXI/CJV9APQrXo3BNY0CamZmZmQleQDMzMzMzQ2BAUrgehet5YECPwvUoXP9gQDMzMzMzc2FArkfhehQeYkBxPQrXo9BhQLgehetRUGNAw/UoXI9iYkApXI/C9RhfQDMzMzMze2NAMzMzMzMrYkBxPQrXo2BjQJqZmZmZyV9Aw/UoXI/6YUDXo3A9Cv9hQPYoXI/CrWBASOF6FK6nYUDD9Shcj3JgQKRwPQrX62JA4XoUrkdZYkBmZmZmZtZgQOF6FK5HMWNAAAAAAABQYkC4HoXrUWhgQEjhehSu119AAAAAAAAoYkBcj8L1KPxhQMP1KFyP+mBACtejcD0KX0CuR+F6FPZhQFK4HoXroWJASOF6FK4nYEBmZmZmZsZiQFyPwvUofGFA",
          "dtype": "f8"
         },
         "xaxis": "x",
         "y": {
          "bdata": "uB6F61GwhEDhehSuRw2BQNejcD0Kl3pA7FG4HoWjf0CkcD0K1595QI/C9Shcb31A16NwPQrDhECuR+F6FCyCQBSuR+F6CH5APQrXo3A1gEBxPQrXoyB3QHE9CtejPHlAzczMzMykb0D2KFyPwml8QLgehetRyHpAw/UoXI/udUAAAAAAAEhtQNejcD0KF21A16NwPQq3cUDhehSuRzF4QD0K16NweXJAGptnNtmYfEBSuB6F6/uAQK5H4XoUxIJACtejcD02ekAAAAAAAGB7QJqZmZmZYXxAcT0K16Pcf0AAAAAAACx2QClcj8L1GHNAH4XrUbj+d0DD9ShcjxCAQJqZmZmZEXxAmpmZmZmBfEAX1Ixv5j+AQBSuR+F6nHBApHA9Ctcne0D2KFyPwklyQNejcD0KI4NACtejcD3+d0BxPQrXozB7QOxRuB6Fn3lAAAAAAACYfkAfhetRuC56QGZmZmZm/nRAAAAAAADqgkAfhetRuEJ/QOF6FK5HzX5A16NwPQpZikApXI/C9RhwQKRwPQrXM3pA",
          "dtype": "f8"
         },
         "yaxis": "y"
        },
        {
         "customdata": {
          "bdata": "AAAAAAAAQUAAAAAAAIBGQAAAAAAAAEZAAAAAAACAQ0AAAAAAAIBGQAAAAAAAgEdAAAAAAAAAQUAAAAAAAABOQAAAAAAAAEBAAAAAAAAASEAAAAAAAABDQAAAAAAAADpAAAAAAACAR0AAAAAAAIBEQAAAAAAAQFBAAAAAAACAQ0AAAAAAAAA/QAAAAAAAgEZAAAAAAACARUAAAAAAAABGQAAAAAAAAEZAAAAAAAAAPkAAAAAAAIBMQAAAAAAAAExAAAAAAACAS0AAAAAAAIBJQAAAAAAAgEFAAAAAAAAAPEAAAAAAAIBQQAAAAAAAAEpAAAAAAACAS0AAAAAAAIBGQA==",
          "dtype": "f8",
          "shape": "32, 1"
         },
         "hovertemplate": "workout_type=HIIT<br>Average Heart Rate (bpm)=%{x}<br>Calories Burned=%{y}<br>workout_duration_minutes=%{marker.size}<br>fat_burn_minutes=%{customdata[0]}<extra></extra>",
         "legendgroup": "HIIT",
         "marker": {
          "color": "#ab63fa",
          "size": {
           "bdata": "cT0K16NwP0DsUbgehWs0QK5H4XoUbjNAcT0K16NwP0DNzMzMzAw9QB+F61G4HjlAAAAAAAAAM0AfhetRuJ48QM3MzMzMDDFAj8L1KFwPPkCPwvUoXA88QLgehetR+DpAPQrXo3A9PUBSuB6F61E1QDMzMzMzMzhACtejcD0KNECamZmZmdk2QClcj8L1aD9Aj8L1KFzPOkDhehSuRyE8QI/C9ShcTzZAUrgeheuRN0Bcj8L1KLxDQLgehetR+DtAAAAAAACAO0DD9Shcj8I5QGZmZmZmJjpAMzMzMzNzN0CamZmZmZk7QBSuR+F6lDdAUrgehetRNUB7FK5H4bo6QA==",
           "dtype": "f8"
          },
          "sizemode": "area",
          "sizeref": 0.23572500000000002,
          "symbol": "circle"
         },
         "mode": "markers",
         "name": "HIIT",
         "orientation": "v",
         "showlegend": true,
         "type": "scatter",
         "x": {
          "bdata": "rkfhehS2YUAfhetRuP5gQFyPwvUoXFxAXI/C9SgEY0ApXI/C9SBgQM3MzMzMnGJACtejcD0iYUAK16NwPYJjQD0K16Nw3WNA4XoUrkc5Y0CamZmZmRFhQM3MzMzMLGJAPQrXo3BFYUBcj8L1KAxjQHsUrkfhMmJACtejcD1qYEAfhetRuI5fQNejcD0KZ2FAZmZmZmb2YECuR+F6FD5hQGZmZmZm/mJAXI/C9Si8YkDD9ShcjwJjQM3MzMzMjGFAZmZmZma2Y0D2KFyPwk1iQJqZmZmZsWNA7FG4HoXTYEAfhetRuE5dQGZmZmZm9mBACtejcD0aYEB7FK5H4bJgQA==",
          "dtype": "f8"
         },
         "xaxis": "x",
         "y": {
          "bdata": "4XoUrkfpckAzMzMzM8tqQBK/gbammmhAAAAAAACIdUCuR+F6FLJzQEjhehSub3FAj8L1KFwvbECamZmZmeVwQArXo3A9MmdAUrgehestcECamZmZmYlwQPYoXI/CRXBAMzMzMzNfdEAzMzMzM9tmQBSuR+F6DGpAcT0K16Mga0DhehSuRxFtQDMzMzMzO3JAH4XrUbg2b0DhehSuRwVxQD0K16NwlWtAKVyPwvUgbUD2KFyPwhl5QOF6FK5HhXFAzczMzMy8bkDhehSuRx1zQHE9CtejjHFA4XoUrkdxakCF61G4HsFyQFyPwvUojG1A16NwPQrfbEBmZmZmZr5wQA==",
          "dtype": "f8"
         },
         "yaxis": "y"
        },
        {
         "customdata": {
          "bdata": "AAAAAACAQkAAAAAAAIBDQAAAAAAAgEpAAAAAAAAANUAAAAAAAABEQAAAAAAAAENAAAAAAACATEAAAAAAAEBQQAAAAAAAAElAAAAAAACAQkAAAAAAAIBFQAAAAAAAAEJAAAAAAACAQEAAAAAAAABOQAAAAAAAAEZAAAAAAAAARkAAAAAAAIBCQAAAAAAAAEhAAAAAAACARkAAAAAAAABCQAAAAAAAgEJAAAAAAAAAPEAAAAAAAIBCQAAAAAAAAEpAAAAAAAAARkAAAAAAAIBDQAAAAAAAgEBAAAAAAAAAREAAAAAAAEBSQAAAAAAAgEtAAAAAAACASUAAAAAAAIBGQAAAAAAAAE9AAAAAAAAAT0AAAAAAAIBFQAAAAAAAAEdAAAAAAAAAO0AAAAAAAAA6QAAAAAAAgEpAAAAAAACASEAAAAAAAABGQAAAAAAAgE1A",
          "dtype": "f8",
          "shape": "42, 1"
         },
         "hovertemplate": "workout_type=Yoga<br>Average Heart Rate (bpm)=%{x}<br>Calories Burned=%{y}<br>workout_duration_minutes=%{marker.size}<br>fat_burn_minutes=%{customdata[0]}<extra></extra>",
         "legendgroup": "Yoga",
         "marker": {
          "color": "#FFA15A",
          "size": {
           "bdata": "uB6F61G4NkBxPQrXo7A9QIXrUbgeRT9A9ihcj8L1OEA9CtejcL00QLgehetRuDtAFK5H4XpUQkDNzMzMzAw/QHE9Ctej8EVA16NwPQqXPkBcj8L1KBw+QKRwPQrX4zFAUrgehevxQkC4HoXrUfg+QI/C9Shcz0NAFK5H4XqUO0ApXI/C9Wg6QJqZmZmZGT9AmpmZmZlZQEAUrkfherRAQArXo3A9ijpAXI/C9SicO0Bcj8L1KNw5QDMzMzMzs0NAKVyPwvUoP0Bcj8L1KNxBQFyPwvUoXD5AKVyPwvXIQEBcj8L1KJw8QHsUrkfhejZACtejcD2qQEDD9Shcj+JAQKRwPQrXYz1ApHA9CtdjNEApXI/C9chBQFyPwvUonDtAUrgehevRQUAAAAAAAAA+QNejcD0KFzxAzczMzMzMPkDXo3A9Cpc/QFyPwvUoXDNA",
           "dtype": "f8"
          },
          "sizemode": "area",
          "sizeref": 0.23572500000000002,
          "symbol": "circle"
         },
         "mode": "markers",
         "name": "Yoga",
         "orientation": "v",
         "showlegend": true,
         "type": "scatter",
         "x": {
          "bdata": "exSuR+F6YkDD9Shcj+JeQLgehetR2GBAPQrXo3BtX0BSuB6F63FiQIXrUbgeLWJAmpmZmZlZYUDsUbgehbthQHE9Ctej0F5ACtejcD3CYkDNzMzMzJxiQFK4HoXr6WJASOF6FK4PYUAAAAAAADBdQGZmZmZm5mBAMzMzMzMbYUDhehSuRxFfQAAAAAAAcGJAPQrXo3BVY0C4HoXrUbhhQMP1KFyP6mBAMzMzMzODYkAzMzMzM3NfQOxRuB6FG2BA4XoUrkdhYkDhehSuR4FgQK5H4XoUrl5AH4XrUbj2YUBmZmZmZpZgQGZmZmZmnmFAUrgeheuBX0C4HoXrUchhQAAAAAAAyGNAj8L1KFyfX0D2KFyPwvViQOxRuB6Fo2FAw/UoXI8iYUCPwvUoXHdiQD0K16NwVWFAKVyPwvVAYkBI4XoUrgdkQHE9CtejIGBA",
          "dtype": "f8"
         },
         "xaxis": "x",
         "y": {
          "bdata": "yHMQq0gGaEApXI/C9WB0QM3MzMzMmHNApHA9CtcjcUDXo3A9Cj9sQClcj8L1aG9A4XoUrkdZc0D2KFyPwtVxQD0K16NwJXhA16NwPQorc0BxPQrXozByQM3MzMzMnGZAr2CiZOZTd0DBOSNK+0V1QAAAAAAAwHRAhetRuB5FbkAT9d6XBWlzQB+F61G4jnRAexSuR+GSckCuR+F6FOJyQFK4HoXrlXFAFK5H4Xr8b0DhehSuRylyQK5H4XoU/nZAFK5H4XqwckDsUbgehU93QHE9CtejeHRAPQrXo3BFdkCamZmZmfluQOF6FK5H0WdAexSuR+Hqd0DD9Shcj1p2QB+F61G4OnBAxYCeGjOpZUC4HoXrUXx3QHsUrkfh8nNAH4XrUbjGdEAAAAAAAIRyQGZmZmZmonRAuB6F61GwdkAUrkfhesByQHbJ9r763WpA",
          "dtype": "f8"
         },
         "yaxis": "y"
        }
       ],
       "layout": {
        "legend": {
         "itemsizing": "constant",
         "title": {
          "text": "workout_type"
         },
         "tracegroupgap": 0
        },
        "template": {
         "data": {
          "bar": [
           {
            "error_x": {
             "color": "#2a3f5f"
            },
            "error_y": {
             "color": "#2a3f5f"
            },
            "marker": {
             "line": {
              "color": "#E5ECF6",
              "width": 0.5
             },
             "pattern": {
              "fillmode": "overlay",
              "size": 10,
              "solidity": 0.2
             }
            },
            "type": "bar"
           }
          ],
          "barpolar": [
           {
            "marker": {
             "line": {
              "color": "#E5ECF6",
              "width": 0.5
             },
             "pattern": {
              "fillmode": "overlay",
              "size": 10,
              "solidity": 0.2
             }
            },
            "type": "barpolar"
           }
          ],
          "carpet": [
           {
            "aaxis": {
             "endlinecolor": "#2a3f5f",
             "gridcolor": "white",
             "linecolor": "white",
             "minorgridcolor": "white",
             "startlinecolor": "#2a3f5f"
            },
            "baxis": {
             "endlinecolor": "#2a3f5f",
             "gridcolor": "white",
             "linecolor": "white",
             "minorgridcolor": "white",
             "startlinecolor": "#2a3f5f"
            },
            "type": "carpet"
           }
          ],
          "choropleth": [
           {
            "colorbar": {
             "outlinewidth": 0,
             "ticks": ""
            },
            "type": "choropleth"
           }
          ],
          "contour": [
           {
            "colorbar": {
             "outlinewidth": 0,
             "ticks": ""
            },
            "colorscale": [
             [
              0,
              "#0d0887"
             ],
             [
              0.1111111111111111,
              "#46039f"
             ],
             [
              0.2222222222222222,
              "#7201a8"
             ],
             [
              0.3333333333333333,
              "#9c179e"
             ],
             [
              0.4444444444444444,
              "#bd3786"
             ],
             [
              0.5555555555555556,
              "#d8576b"
             ],
             [
              0.6666666666666666,
              "#ed7953"
             ],
             [
              0.7777777777777778,
              "#fb9f3a"
             ],
             [
              0.8888888888888888,
              "#fdca26"
             ],
             [
              1,
              "#f0f921"
             ]
            ],
            "type": "contour"
           }
          ],
          "contourcarpet": [
           {
            "colorbar": {
             "outlinewidth": 0,
             "ticks": ""
            },
            "type": "contourcarpet"
           }
          ],
          "heatmap": [
           {
            "colorbar": {
             "outlinewidth": 0,
             "ticks": ""
            },
            "colorscale": [
             [
              0,
              "#0d0887"
             ],
             [
              0.1111111111111111,
              "#46039f"
             ],
             [
              0.2222222222222222,
              "#7201a8"
             ],
             [
              0.3333333333333333,
              "#9c179e"
             ],
             [
              0.4444444444444444,
              "#bd3786"
             ],
             [
              0.5555555555555556,
              "#d8576b"
             ],
             [
              0.6666666666666666,
              "#ed7953"
             ],
             [
              0.7777777777777778,
              "#fb9f3a"
             ],
             [
              0.8888888888888888,
              "#fdca26"
             ],
             [
              1,
              "#f0f921"
             ]
            ],
            "type": "heatmap"
           }
          ],
          "histogram": [
           {
            "marker": {
             "pattern": {
              "fillmode": "overlay",
              "size": 10,
              "solidity": 0.2
             }
            },
            "type": "histogram"
           }
          ],
          "histogram2d": [
           {
            "colorbar": {
             "outlinewidth": 0,
             "ticks": ""
            },
            "colorscale": [
             [
              0,
              "#0d0887"
             ],
             [
              0.1111111111111111,
              "#46039f"
             ],
             [
              0.2222222222222222,
              "#7201a8"
             ],
             [
              0.3333333333333333,
              "#9c179e"
             ],
             [
              0.4444444444444444,
              "#bd3786"
             ],
             [
              0.5555555555555556,
              "#d8576b"
             ],
             [
              0.6666666666666666,
              "#ed7953"
             ],
             [
              0.7777777777777778,
              "#fb9f3a"
             ],
             [
              0.8888888888888888,
              "#fdca26"
             ],
             [
              1,
              "#f0f921"
             ]
            ],
            "type": "histogram2d"
           }
          ],
          "histogram2dcontour": [
           {
            "colorbar": {
             "outlinewidth": 0,
             "ticks": ""
            },
            "colorscale": [
             [
              0,
              "#0d0887"
             ],
             [
              0.1111111111111111,
              "#46039f"
             ],
             [
              0.2222222222222222,
              "#7201a8"
             ],
             [
              0.3333333333333333,
              "#9c179e"
             ],
             [
              0.4444444444444444,
              "#bd3786"
             ],
             [
              0.5555555555555556,
              "#d8576b"
             ],
             [
              0.6666666666666666,
              "#ed7953"
             ],
             [
              0.7777777777777778,
              "#fb9f3a"
             ],
             [
              0.8888888888888888,
              "#fdca26"
             ],
             [
              1,
              "#f0f921"
             ]
            ],
            "type": "histogram2dcontour"
           }
          ],
          "mesh3d": [
           {
            "colorbar": {
             "outlinewidth": 0,
             "ticks": ""
            },
            "type": "mesh3d"
           }
          ],
          "parcoords": [
           {
            "line": {
             "colorbar": {
              "outlinewidth": 0,
              "ticks": ""
             }
            },
            "type": "parcoords"
           }
          ],
          "pie": [
           {
            "automargin": true,
            "type": "pie"
           }
          ],
          "scatter": [
           {
            "fillpattern": {
             "fillmode": "overlay",
             "size": 10,
             "solidity": 0.2
            },
            "type": "scatter"
           }
          ],
          "scatter3d": [
           {
            "line": {
             "colorbar": {
              "outlinewidth": 0,
              "ticks": ""
             }
            },
            "marker": {
             "colorbar": {
              "outlinewidth": 0,
              "ticks": ""
             }
            },
            "type": "scatter3d"
           }
          ],
          "scattercarpet": [
           {
            "marker": {
             "colorbar": {
              "outlinewidth": 0,
              "ticks": ""
             }
            },
            "type": "scattercarpet"
           }
          ],
          "scattergeo": [
           {
            "marker": {
             "colorbar": {
              "outlinewidth": 0,
              "ticks": ""
             }
            },
            "type": "scattergeo"
           }
          ],
          "scattergl": [
           {
            "marker": {
             "colorbar": {
              "outlinewidth": 0,
              "ticks": ""
             }
            },
            "type": "scattergl"
           }
          ],
          "scattermap": [
           {
            "marker": {
             "colorbar": {
              "outlinewidth": 0,
              "ticks": ""
             }
            },
            "type": "scattermap"
           }
          ],
          "scattermapbox": [
           {
            "marker": {
             "colorbar": {
              "outlinewidth": 0,
              "ticks": ""
             }
            },
            "type": "scattermapbox"
           }
          ],
          "scatterpolar": [
           {
            "marker": {
             "colorbar": {
              "outlinewidth": 0,
              "ticks": ""
             }
            },
            "type": "scatterpolar"
           }
          ],
          "scatterpolargl": [
           {
            "marker": {
             "colorbar": {
              "outlinewidth": 0,
              "ticks": ""
             }
            },
            "type": "scatterpolargl"
           }
          ],
          "scatterternary": [
           {
            "marker": {
             "colorbar": {
              "outlinewidth": 0,
              "ticks": ""
             }
            },
            "type": "scatterternary"
           }
          ],
          "surface": [
           {
            "colorbar": {
             "outlinewidth": 0,
             "ticks": ""
            },
            "colorscale": [
             [
              0,
              "#0d0887"
             ],
             [
              0.1111111111111111,
              "#46039f"
             ],
             [
              0.2222222222222222,
              "#7201a8"
             ],
             [
              0.3333333333333333,
              "#9c179e"
             ],
             [
              0.4444444444444444,
              "#bd3786"
             ],
             [
              0.5555555555555556,
              "#d8576b"
             ],
             [
              0.6666666666666666,
              "#ed7953"
             ],
             [
              0.7777777777777778,
              "#fb9f3a"
             ],
             [
              0.8888888888888888,
              "#fdca26"
             ],
             [
              1,
              "#f0f921"
             ]
            ],
            "type": "surface"
           }
          ],
          "table": [
           {
            "cells": {
             "fill": {
              "color": "#EBF0F8"
             },
             "line": {
              "color": "white"
             }
            },
            "header": {
             "fill": {
              "color": "#C8D4E3"
             },
             "line": {
              "color": "white"
             }
            },
            "type": "table"
           }
          ]
         },
         "layout": {
          "annotationdefaults": {
           "arrowcolor": "#2a3f5f",
           "arrowhead": 0,
           "arrowwidth": 1
          },
          "autotypenumbers": "strict",
          "coloraxis": {
           "colorbar": {
            "outlinewidth": 0,
            "ticks": ""
           }
          },
          "colorscale": {
           "diverging": [
            [
             0,
             "#8e0152"
            ],
            [
             0.1,
             "#c51b7d"
            ],
            [
             0.2,
             "#de77ae"
            ],
            [
             0.3,
             "#f1b6da"
            ],
            [
             0.4,
             "#fde0ef"
            ],
            [
             0.5,
             "#f7f7f7"
            ],
            [
             0.6,
             "#e6f5d0"
            ],
            [
             0.7,
             "#b8e186"
            ],
            [
             0.8,
             "#7fbc41"
            ],
            [
             0.9,
             "#4d9221"
            ],
            [
             1,
             "#276419"
            ]
           ],
           "sequential": [
            [
             0,
             "#0d0887"
            ],
            [
             0.1111111111111111,
             "#46039f"
            ],
            [
             0.2222222222222222,
             "#7201a8"
            ],
            [
             0.3333333333333333,
             "#9c179e"
            ],
            [
             0.4444444444444444,
             "#bd3786"
            ],
            [
             0.5555555555555556,
             "#d8576b"
            ],
            [
             0.6666666666666666,
             "#ed7953"
            ],
            [
             0.7777777777777778,
             "#fb9f3a"
            ],
            [
             0.8888888888888888,
             "#fdca26"
            ],
            [
             1,
             "#f0f921"
            ]
           ],
           "sequentialminus": [
            [
             0,
             "#0d0887"
            ],
            [
             0.1111111111111111,
             "#46039f"
            ],
            [
             0.2222222222222222,
             "#7201a8"
            ],
            [
             0.3333333333333333,
             "#9c179e"
            ],
            [
             0.4444444444444444,
             "#bd3786"
            ],
            [
             0.5555555555555556,
             "#d8576b"
            ],
            [
             0.6666666666666666,
             "#ed7953"
            ],
            [
             0.7777777777777778,
             "#fb9f3a"
            ],
            [
             0.8888888888888888,
             "#fdca26"
            ],
            [
             1,
             "#f0f921"
            ]
           ]
          },
          "colorway": [
           "#636efa",
           "#EF553B",
           "#00cc96",
           "#ab63fa",
           "#FFA15A",
           "#19d3f3",
           "#FF6692",
           "#B6E880",
           "#FF97FF",
           "#FECB52"
          ],
          "font": {
           "color": "#2a3f5f"
          },
          "geo": {
           "bgcolor": "white",
           "lakecolor": "white",
           "landcolor": "#E5ECF6",
           "showlakes": true,
           "showland": true,
           "subunitcolor": "white"
          },
          "hoverlabel": {
           "align": "left"
          },
          "hovermode": "closest",
          "mapbox": {
           "style": "light"
          },
          "paper_bgcolor": "white",
          "plot_bgcolor": "#E5ECF6",
          "polar": {
           "angularaxis": {
            "gridcolor": "white",
            "linecolor": "white",
            "ticks": ""
           },
           "bgcolor": "#E5ECF6",
           "radialaxis": {
            "gridcolor": "white",
            "linecolor": "white",
            "ticks": ""
           }
          },
          "scene": {
           "xaxis": {
            "backgroundcolor": "#E5ECF6",
            "gridcolor": "white",
            "gridwidth": 2,
            "linecolor": "white",
            "showbackground": true,
            "ticks": "",
            "zerolinecolor": "white"
           },
           "yaxis": {
            "backgroundcolor": "#E5ECF6",
            "gridcolor": "white",
            "gridwidth": 2,
            "linecolor": "white",
            "showbackground": true,
            "ticks": "",
            "zerolinecolor": "white"
           },
           "zaxis": {
            "backgroundcolor": "#E5ECF6",
            "gridcolor": "white",
            "gridwidth": 2,
            "linecolor": "white",
            "showbackground": true,
            "ticks": "",
            "zerolinecolor": "white"
           }
          },
          "shapedefaults": {
           "line": {
            "color": "#2a3f5f"
           }
          },
          "ternary": {
           "aaxis": {
            "gridcolor": "white",
            "linecolor": "white",
            "ticks": ""
           },
           "baxis": {
            "gridcolor": "white",
            "linecolor": "white",
            "ticks": ""
           },
           "bgcolor": "#E5ECF6",
           "caxis": {
            "gridcolor": "white",
            "linecolor": "white",
            "ticks": ""
           }
          },
          "title": {
           "x": 0.05
          },
          "xaxis": {
           "automargin": true,
           "gridcolor": "white",
           "linecolor": "white",
           "ticks": "",
           "title": {
            "standoff": 15
           },
           "zerolinecolor": "white",
           "zerolinewidth": 2
          },
          "yaxis": {
           "automargin": true,
           "gridcolor": "white",
           "linecolor": "white",
           "ticks": "",
           "title": {
            "standoff": 15
           },
           "zerolinecolor": "white",
           "zerolinewidth": 2
          }
         }
        },
        "title": {
         "text": "Calories Burned vs. Average Heart Rate by Workout Type"
        },
        "xaxis": {
         "anchor": "y",
         "domain": [
          0,
          1
         ],
         "title": {
          "text": "Average Heart Rate (bpm)"
         }
        },
        "yaxis": {
         "anchor": "x",
         "domain": [
          0,
          1
         ],
         "title": {
          "text": "Calories Burned"
         }
        }
       }
      }
     },
     "metadata": {},
     "output_type": "display_data"
    }
   ],
   "source": [
    "# Visualize trends across workout types\n",
    "workout_plot = px.scatter(\n",
    "    fitness_data,\n",
    "    x='workout_avg_hr',\n",
    "    y='workout_calories',\n",
    "    color='workout_type',\n",
    "    size='workout_duration_minutes',\n",
    "    title='Calories Burned vs. Average Heart Rate by Workout Type',\n",
    "    labels={'workout_avg_hr': 'Average Heart Rate (bpm)', 'workout_calories': 'Calories Burned'},\n",
    "    hover_data=['fat_burn_minutes']\n",
    ")\n",
    "workout_plot.show()"
   ]
  }
 ],
 "metadata": {
  "kernelspec": {
   "display_name": "venv",
   "language": "python",
   "name": "python3"
  },
  "language_info": {
   "codemirror_mode": {
    "name": "ipython",
    "version": 3
   },
   "file_extension": ".py",
   "mimetype": "text/x-python",
   "name": "python",
   "nbconvert_exporter": "python",
   "pygments_lexer": "ipython3",
   "version": "3.12.10"
  }
 },
 "nbformat": 4,
 "nbformat_minor": 5
}
